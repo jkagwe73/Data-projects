{
 "cells": [
  {
   "cell_type": "markdown",
   "id": "6yDxo9u0d9Na",
   "metadata": {
    "id": "6yDxo9u0d9Na"
   },
   "source": [
    "# Project Business Statistics: E-news Express\n"
   ]
  },
  {
   "cell_type": "markdown",
   "id": "SrLd-ICEmPSD",
   "metadata": {
    "id": "SrLd-ICEmPSD"
   },
   "source": [
    "## Define Problem Statement and Objectives"
   ]
  },
  {
   "cell_type": "markdown",
   "id": "4rHWkMBegqm1",
   "metadata": {
    "id": "4rHWkMBegqm1"
   },
   "source": [
    "## Business Context\n",
    "\n",
    "The advent of e-news, or electronic news, portals has offered us a great opportunity to quickly get updates on the day-to-day events occurring globally. The information on these portals is retrieved electronically from online databases, processed using a variety of software, and then transmitted to the users. There are multiple advantages of transmitting new electronically, like faster access to the content and the ability to utilize different technologies such as audio, graphics, video, and other interactive elements that are either not being used or aren’t common yet in traditional newspapers.\n",
    "\n",
    "E-news Express, an online news portal, aims to expand its business by acquiring new subscribers. With every visitor to the website taking certain actions based on their interest, the company plans to analyze these actions to understand user interests and determine how to drive better engagement.  The executives at E-news Express are of the opinion that there has been a decline in new monthly subscribers compared to the past year because the current webpage is not designed well enough in terms of the outline & recommended content to keep customers engaged long enough to make a decision to subscribe.\n",
    "\n",
    "[Companies often analyze user responses to two variants of a product to decide which of the two variants is more effective. This experimental technique, known as A/B testing, is used to determine whether a new feature attracts users based on a chosen metric.]\n",
    "\n",
    "\n",
    "## Objective\n",
    "\n",
    "The design team of the company has researched and created a new landing page that has a new outline & more relevant content shown compared to the old page. In order to test the effectiveness of the new landing page in gathering new subscribers, the Data Science team conducted an experiment by randomly selecting 100 users and dividing them equally into two groups. The existing landing page was served to the first group (control group) and the new landing page to the second group (treatment group). Data regarding the interaction of users in both groups with the two versions of the landing page was collected. Being a data scientist in E-news Express, you have been asked to explore the data and perform a statistical analysis (at a significance level of 5%) to determine the effectiveness of the new landing page in gathering new subscribers for the news portal by answering the following questions:\n",
    "\n",
    "1. Do the users spend more time on the new landing page than on the existing landing page?\n",
    "\n",
    "2. Is the conversion rate (the proportion of users who visit the landing page and get converted) for the new page greater than the conversion rate for the old page?\n",
    "\n",
    "3. Does the converted status depend on the preferred language? [Hint: Create a contingency table using the pandas.crosstab() function]\n",
    "\n",
    "4. Is the time spent on the new page the same for the different language users?\n",
    "\n",
    "\n",
    "## Data Dictionary\n",
    "\n",
    "The data contains information regarding the interaction of users in both groups with the two versions of the landing page.\n",
    "\n",
    "1. user_id - Unique user ID of the person visiting the website\n",
    "\n",
    "2. group - Whether the user belongs to the first group (control) or the second group (treatment)\n",
    "\n",
    "3. landing_page - Whether the landing page is new or old\n",
    "\n",
    "4. time_spent_on_the_page - Time (in minutes) spent by the user on the landing page\n",
    "\n",
    "5. converted - Whether the user gets converted to a subscriber of the news portal or not\n",
    "\n",
    "6. language_preferred - Language chosen by the user to view the landing page"
   ]
  },
  {
   "cell_type": "markdown",
   "id": "a6a3d218",
   "metadata": {
    "id": "a6a3d218"
   },
   "source": [
    "## Import all the necessary libraries"
   ]
  },
  {
   "cell_type": "code",
   "execution_count": null,
   "id": "r_5zUIePGS-1",
   "metadata": {
    "id": "r_5zUIePGS-1"
   },
   "outputs": [],
   "source": [
    "# Installing the libraries with the specified version.\n",
    "#!pip install numpy==1.25.2 pandas==1.5.3 matplotlib==3.7.1 seaborn==0.13.1 scipy==1.11.4 -q --user\n"
   ]
  },
  {
   "cell_type": "markdown",
   "id": "DAaycw-QP-j9",
   "metadata": {
    "id": "DAaycw-QP-j9"
   },
   "source": [
    "**Note**: *After running the above cell, kindly restart the notebook kernel and run all cells sequentially from the start again.*"
   ]
  },
  {
   "cell_type": "markdown",
   "id": "vUfKzghvgscY",
   "metadata": {
    "id": "vUfKzghvgscY"
   },
   "source": []
  },
  {
   "cell_type": "code",
   "execution_count": null,
   "id": "658c5dec",
   "metadata": {
    "id": "658c5dec"
   },
   "outputs": [],
   "source": [
    "import numpy as np\n",
    "import pandas as pd\n",
    "import matplotlib.pyplot as plt\n",
    "import seaborn as sns\n",
    "import scipy.stats as stats"
   ]
  },
  {
   "cell_type": "markdown",
   "id": "6970dd99",
   "metadata": {
    "id": "6970dd99"
   },
   "source": [
    "## Reading the Data into a DataFrame"
   ]
  },
  {
   "cell_type": "code",
   "execution_count": null,
   "id": "d3b95640",
   "metadata": {
    "colab": {
     "base_uri": "https://localhost:8080/",
     "height": 423
    },
    "id": "d3b95640",
    "outputId": "c08302c2-3a4c-4ebb-ec67-68a95797a381"
   },
   "outputs": [
    {
     "data": {
      "application/vnd.google.colaboratory.intrinsic+json": {
       "summary": "{\n  \"name\": \"dfnews\",\n  \"rows\": 100,\n  \"fields\": [\n    {\n      \"column\": \"user_id\",\n      \"properties\": {\n        \"dtype\": \"number\",\n        \"std\": 52,\n        \"min\": 546443,\n        \"max\": 546592,\n        \"num_unique_values\": 100,\n        \"samples\": [\n          546580,\n          546576,\n          546568\n        ],\n        \"semantic_type\": \"\",\n        \"description\": \"\"\n      }\n    },\n    {\n      \"column\": \"group\",\n      \"properties\": {\n        \"dtype\": \"category\",\n        \"num_unique_values\": 2,\n        \"samples\": [\n          \"treatment\",\n          \"control\"\n        ],\n        \"semantic_type\": \"\",\n        \"description\": \"\"\n      }\n    },\n    {\n      \"column\": \"landing_page\",\n      \"properties\": {\n        \"dtype\": \"category\",\n        \"num_unique_values\": 2,\n        \"samples\": [\n          \"new\",\n          \"old\"\n        ],\n        \"semantic_type\": \"\",\n        \"description\": \"\"\n      }\n    },\n    {\n      \"column\": \"time_spent_on_the_page\",\n      \"properties\": {\n        \"dtype\": \"number\",\n        \"std\": 2.378166078933492,\n        \"min\": 0.19,\n        \"max\": 10.71,\n        \"num_unique_values\": 94,\n        \"samples\": [\n          8.46,\n          3.65\n        ],\n        \"semantic_type\": \"\",\n        \"description\": \"\"\n      }\n    },\n    {\n      \"column\": \"converted\",\n      \"properties\": {\n        \"dtype\": \"category\",\n        \"num_unique_values\": 2,\n        \"samples\": [\n          \"yes\",\n          \"no\"\n        ],\n        \"semantic_type\": \"\",\n        \"description\": \"\"\n      }\n    },\n    {\n      \"column\": \"language_preferred\",\n      \"properties\": {\n        \"dtype\": \"category\",\n        \"num_unique_values\": 3,\n        \"samples\": [\n          \"Spanish\",\n          \"English\"\n        ],\n        \"semantic_type\": \"\",\n        \"description\": \"\"\n      }\n    }\n  ]\n}",
       "type": "dataframe",
       "variable_name": "dfnews"
      },
      "text/html": [
       "\n",
       "  <div id=\"df-8ea56b13-c35a-404d-9dd4-f0db0a56b04a\" class=\"colab-df-container\">\n",
       "    <div>\n",
       "<style scoped>\n",
       "    .dataframe tbody tr th:only-of-type {\n",
       "        vertical-align: middle;\n",
       "    }\n",
       "\n",
       "    .dataframe tbody tr th {\n",
       "        vertical-align: top;\n",
       "    }\n",
       "\n",
       "    .dataframe thead th {\n",
       "        text-align: right;\n",
       "    }\n",
       "</style>\n",
       "<table border=\"1\" class=\"dataframe\">\n",
       "  <thead>\n",
       "    <tr style=\"text-align: right;\">\n",
       "      <th></th>\n",
       "      <th>user_id</th>\n",
       "      <th>group</th>\n",
       "      <th>landing_page</th>\n",
       "      <th>time_spent_on_the_page</th>\n",
       "      <th>converted</th>\n",
       "      <th>language_preferred</th>\n",
       "    </tr>\n",
       "  </thead>\n",
       "  <tbody>\n",
       "    <tr>\n",
       "      <th>0</th>\n",
       "      <td>546592</td>\n",
       "      <td>control</td>\n",
       "      <td>old</td>\n",
       "      <td>3.48</td>\n",
       "      <td>no</td>\n",
       "      <td>Spanish</td>\n",
       "    </tr>\n",
       "    <tr>\n",
       "      <th>1</th>\n",
       "      <td>546468</td>\n",
       "      <td>treatment</td>\n",
       "      <td>new</td>\n",
       "      <td>7.13</td>\n",
       "      <td>yes</td>\n",
       "      <td>English</td>\n",
       "    </tr>\n",
       "    <tr>\n",
       "      <th>2</th>\n",
       "      <td>546462</td>\n",
       "      <td>treatment</td>\n",
       "      <td>new</td>\n",
       "      <td>4.40</td>\n",
       "      <td>no</td>\n",
       "      <td>Spanish</td>\n",
       "    </tr>\n",
       "    <tr>\n",
       "      <th>3</th>\n",
       "      <td>546567</td>\n",
       "      <td>control</td>\n",
       "      <td>old</td>\n",
       "      <td>3.02</td>\n",
       "      <td>no</td>\n",
       "      <td>French</td>\n",
       "    </tr>\n",
       "    <tr>\n",
       "      <th>4</th>\n",
       "      <td>546459</td>\n",
       "      <td>treatment</td>\n",
       "      <td>new</td>\n",
       "      <td>4.75</td>\n",
       "      <td>yes</td>\n",
       "      <td>Spanish</td>\n",
       "    </tr>\n",
       "    <tr>\n",
       "      <th>...</th>\n",
       "      <td>...</td>\n",
       "      <td>...</td>\n",
       "      <td>...</td>\n",
       "      <td>...</td>\n",
       "      <td>...</td>\n",
       "      <td>...</td>\n",
       "    </tr>\n",
       "    <tr>\n",
       "      <th>95</th>\n",
       "      <td>546446</td>\n",
       "      <td>treatment</td>\n",
       "      <td>new</td>\n",
       "      <td>5.15</td>\n",
       "      <td>no</td>\n",
       "      <td>Spanish</td>\n",
       "    </tr>\n",
       "    <tr>\n",
       "      <th>96</th>\n",
       "      <td>546544</td>\n",
       "      <td>control</td>\n",
       "      <td>old</td>\n",
       "      <td>6.52</td>\n",
       "      <td>yes</td>\n",
       "      <td>English</td>\n",
       "    </tr>\n",
       "    <tr>\n",
       "      <th>97</th>\n",
       "      <td>546472</td>\n",
       "      <td>treatment</td>\n",
       "      <td>new</td>\n",
       "      <td>7.07</td>\n",
       "      <td>yes</td>\n",
       "      <td>Spanish</td>\n",
       "    </tr>\n",
       "    <tr>\n",
       "      <th>98</th>\n",
       "      <td>546481</td>\n",
       "      <td>treatment</td>\n",
       "      <td>new</td>\n",
       "      <td>6.20</td>\n",
       "      <td>yes</td>\n",
       "      <td>Spanish</td>\n",
       "    </tr>\n",
       "    <tr>\n",
       "      <th>99</th>\n",
       "      <td>546483</td>\n",
       "      <td>treatment</td>\n",
       "      <td>new</td>\n",
       "      <td>5.86</td>\n",
       "      <td>yes</td>\n",
       "      <td>English</td>\n",
       "    </tr>\n",
       "  </tbody>\n",
       "</table>\n",
       "<p>100 rows × 6 columns</p>\n",
       "</div>\n",
       "    <div class=\"colab-df-buttons\">\n",
       "\n",
       "  <div class=\"colab-df-container\">\n",
       "    <button class=\"colab-df-convert\" onclick=\"convertToInteractive('df-8ea56b13-c35a-404d-9dd4-f0db0a56b04a')\"\n",
       "            title=\"Convert this dataframe to an interactive table.\"\n",
       "            style=\"display:none;\">\n",
       "\n",
       "  <svg xmlns=\"http://www.w3.org/2000/svg\" height=\"24px\" viewBox=\"0 -960 960 960\">\n",
       "    <path d=\"M120-120v-720h720v720H120Zm60-500h600v-160H180v160Zm220 220h160v-160H400v160Zm0 220h160v-160H400v160ZM180-400h160v-160H180v160Zm440 0h160v-160H620v160ZM180-180h160v-160H180v160Zm440 0h160v-160H620v160Z\"/>\n",
       "  </svg>\n",
       "    </button>\n",
       "\n",
       "  <style>\n",
       "    .colab-df-container {\n",
       "      display:flex;\n",
       "      gap: 12px;\n",
       "    }\n",
       "\n",
       "    .colab-df-convert {\n",
       "      background-color: #E8F0FE;\n",
       "      border: none;\n",
       "      border-radius: 50%;\n",
       "      cursor: pointer;\n",
       "      display: none;\n",
       "      fill: #1967D2;\n",
       "      height: 32px;\n",
       "      padding: 0 0 0 0;\n",
       "      width: 32px;\n",
       "    }\n",
       "\n",
       "    .colab-df-convert:hover {\n",
       "      background-color: #E2EBFA;\n",
       "      box-shadow: 0px 1px 2px rgba(60, 64, 67, 0.3), 0px 1px 3px 1px rgba(60, 64, 67, 0.15);\n",
       "      fill: #174EA6;\n",
       "    }\n",
       "\n",
       "    .colab-df-buttons div {\n",
       "      margin-bottom: 4px;\n",
       "    }\n",
       "\n",
       "    [theme=dark] .colab-df-convert {\n",
       "      background-color: #3B4455;\n",
       "      fill: #D2E3FC;\n",
       "    }\n",
       "\n",
       "    [theme=dark] .colab-df-convert:hover {\n",
       "      background-color: #434B5C;\n",
       "      box-shadow: 0px 1px 3px 1px rgba(0, 0, 0, 0.15);\n",
       "      filter: drop-shadow(0px 1px 2px rgba(0, 0, 0, 0.3));\n",
       "      fill: #FFFFFF;\n",
       "    }\n",
       "  </style>\n",
       "\n",
       "    <script>\n",
       "      const buttonEl =\n",
       "        document.querySelector('#df-8ea56b13-c35a-404d-9dd4-f0db0a56b04a button.colab-df-convert');\n",
       "      buttonEl.style.display =\n",
       "        google.colab.kernel.accessAllowed ? 'block' : 'none';\n",
       "\n",
       "      async function convertToInteractive(key) {\n",
       "        const element = document.querySelector('#df-8ea56b13-c35a-404d-9dd4-f0db0a56b04a');\n",
       "        const dataTable =\n",
       "          await google.colab.kernel.invokeFunction('convertToInteractive',\n",
       "                                                    [key], {});\n",
       "        if (!dataTable) return;\n",
       "\n",
       "        const docLinkHtml = 'Like what you see? Visit the ' +\n",
       "          '<a target=\"_blank\" href=https://colab.research.google.com/notebooks/data_table.ipynb>data table notebook</a>'\n",
       "          + ' to learn more about interactive tables.';\n",
       "        element.innerHTML = '';\n",
       "        dataTable['output_type'] = 'display_data';\n",
       "        await google.colab.output.renderOutput(dataTable, element);\n",
       "        const docLink = document.createElement('div');\n",
       "        docLink.innerHTML = docLinkHtml;\n",
       "        element.appendChild(docLink);\n",
       "      }\n",
       "    </script>\n",
       "  </div>\n",
       "\n",
       "\n",
       "<div id=\"df-8f8fb986-3f39-4c83-a2f9-903c421b5f12\">\n",
       "  <button class=\"colab-df-quickchart\" onclick=\"quickchart('df-8f8fb986-3f39-4c83-a2f9-903c421b5f12')\"\n",
       "            title=\"Suggest charts\"\n",
       "            style=\"display:none;\">\n",
       "\n",
       "<svg xmlns=\"http://www.w3.org/2000/svg\" height=\"24px\"viewBox=\"0 0 24 24\"\n",
       "     width=\"24px\">\n",
       "    <g>\n",
       "        <path d=\"M19 3H5c-1.1 0-2 .9-2 2v14c0 1.1.9 2 2 2h14c1.1 0 2-.9 2-2V5c0-1.1-.9-2-2-2zM9 17H7v-7h2v7zm4 0h-2V7h2v10zm4 0h-2v-4h2v4z\"/>\n",
       "    </g>\n",
       "</svg>\n",
       "  </button>\n",
       "\n",
       "<style>\n",
       "  .colab-df-quickchart {\n",
       "      --bg-color: #E8F0FE;\n",
       "      --fill-color: #1967D2;\n",
       "      --hover-bg-color: #E2EBFA;\n",
       "      --hover-fill-color: #174EA6;\n",
       "      --disabled-fill-color: #AAA;\n",
       "      --disabled-bg-color: #DDD;\n",
       "  }\n",
       "\n",
       "  [theme=dark] .colab-df-quickchart {\n",
       "      --bg-color: #3B4455;\n",
       "      --fill-color: #D2E3FC;\n",
       "      --hover-bg-color: #434B5C;\n",
       "      --hover-fill-color: #FFFFFF;\n",
       "      --disabled-bg-color: #3B4455;\n",
       "      --disabled-fill-color: #666;\n",
       "  }\n",
       "\n",
       "  .colab-df-quickchart {\n",
       "    background-color: var(--bg-color);\n",
       "    border: none;\n",
       "    border-radius: 50%;\n",
       "    cursor: pointer;\n",
       "    display: none;\n",
       "    fill: var(--fill-color);\n",
       "    height: 32px;\n",
       "    padding: 0;\n",
       "    width: 32px;\n",
       "  }\n",
       "\n",
       "  .colab-df-quickchart:hover {\n",
       "    background-color: var(--hover-bg-color);\n",
       "    box-shadow: 0 1px 2px rgba(60, 64, 67, 0.3), 0 1px 3px 1px rgba(60, 64, 67, 0.15);\n",
       "    fill: var(--button-hover-fill-color);\n",
       "  }\n",
       "\n",
       "  .colab-df-quickchart-complete:disabled,\n",
       "  .colab-df-quickchart-complete:disabled:hover {\n",
       "    background-color: var(--disabled-bg-color);\n",
       "    fill: var(--disabled-fill-color);\n",
       "    box-shadow: none;\n",
       "  }\n",
       "\n",
       "  .colab-df-spinner {\n",
       "    border: 2px solid var(--fill-color);\n",
       "    border-color: transparent;\n",
       "    border-bottom-color: var(--fill-color);\n",
       "    animation:\n",
       "      spin 1s steps(1) infinite;\n",
       "  }\n",
       "\n",
       "  @keyframes spin {\n",
       "    0% {\n",
       "      border-color: transparent;\n",
       "      border-bottom-color: var(--fill-color);\n",
       "      border-left-color: var(--fill-color);\n",
       "    }\n",
       "    20% {\n",
       "      border-color: transparent;\n",
       "      border-left-color: var(--fill-color);\n",
       "      border-top-color: var(--fill-color);\n",
       "    }\n",
       "    30% {\n",
       "      border-color: transparent;\n",
       "      border-left-color: var(--fill-color);\n",
       "      border-top-color: var(--fill-color);\n",
       "      border-right-color: var(--fill-color);\n",
       "    }\n",
       "    40% {\n",
       "      border-color: transparent;\n",
       "      border-right-color: var(--fill-color);\n",
       "      border-top-color: var(--fill-color);\n",
       "    }\n",
       "    60% {\n",
       "      border-color: transparent;\n",
       "      border-right-color: var(--fill-color);\n",
       "    }\n",
       "    80% {\n",
       "      border-color: transparent;\n",
       "      border-right-color: var(--fill-color);\n",
       "      border-bottom-color: var(--fill-color);\n",
       "    }\n",
       "    90% {\n",
       "      border-color: transparent;\n",
       "      border-bottom-color: var(--fill-color);\n",
       "    }\n",
       "  }\n",
       "</style>\n",
       "\n",
       "  <script>\n",
       "    async function quickchart(key) {\n",
       "      const quickchartButtonEl =\n",
       "        document.querySelector('#' + key + ' button');\n",
       "      quickchartButtonEl.disabled = true;  // To prevent multiple clicks.\n",
       "      quickchartButtonEl.classList.add('colab-df-spinner');\n",
       "      try {\n",
       "        const charts = await google.colab.kernel.invokeFunction(\n",
       "            'suggestCharts', [key], {});\n",
       "      } catch (error) {\n",
       "        console.error('Error during call to suggestCharts:', error);\n",
       "      }\n",
       "      quickchartButtonEl.classList.remove('colab-df-spinner');\n",
       "      quickchartButtonEl.classList.add('colab-df-quickchart-complete');\n",
       "    }\n",
       "    (() => {\n",
       "      let quickchartButtonEl =\n",
       "        document.querySelector('#df-8f8fb986-3f39-4c83-a2f9-903c421b5f12 button');\n",
       "      quickchartButtonEl.style.display =\n",
       "        google.colab.kernel.accessAllowed ? 'block' : 'none';\n",
       "    })();\n",
       "  </script>\n",
       "</div>\n",
       "\n",
       "  <div id=\"id_02629118-c4ae-409f-b184-054aee3ae31f\">\n",
       "    <style>\n",
       "      .colab-df-generate {\n",
       "        background-color: #E8F0FE;\n",
       "        border: none;\n",
       "        border-radius: 50%;\n",
       "        cursor: pointer;\n",
       "        display: none;\n",
       "        fill: #1967D2;\n",
       "        height: 32px;\n",
       "        padding: 0 0 0 0;\n",
       "        width: 32px;\n",
       "      }\n",
       "\n",
       "      .colab-df-generate:hover {\n",
       "        background-color: #E2EBFA;\n",
       "        box-shadow: 0px 1px 2px rgba(60, 64, 67, 0.3), 0px 1px 3px 1px rgba(60, 64, 67, 0.15);\n",
       "        fill: #174EA6;\n",
       "      }\n",
       "\n",
       "      [theme=dark] .colab-df-generate {\n",
       "        background-color: #3B4455;\n",
       "        fill: #D2E3FC;\n",
       "      }\n",
       "\n",
       "      [theme=dark] .colab-df-generate:hover {\n",
       "        background-color: #434B5C;\n",
       "        box-shadow: 0px 1px 3px 1px rgba(0, 0, 0, 0.15);\n",
       "        filter: drop-shadow(0px 1px 2px rgba(0, 0, 0, 0.3));\n",
       "        fill: #FFFFFF;\n",
       "      }\n",
       "    </style>\n",
       "    <button class=\"colab-df-generate\" onclick=\"generateWithVariable('dfnews')\"\n",
       "            title=\"Generate code using this dataframe.\"\n",
       "            style=\"display:none;\">\n",
       "\n",
       "  <svg xmlns=\"http://www.w3.org/2000/svg\" height=\"24px\"viewBox=\"0 0 24 24\"\n",
       "       width=\"24px\">\n",
       "    <path d=\"M7,19H8.4L18.45,9,17,7.55,7,17.6ZM5,21V16.75L18.45,3.32a2,2,0,0,1,2.83,0l1.4,1.43a1.91,1.91,0,0,1,.58,1.4,1.91,1.91,0,0,1-.58,1.4L9.25,21ZM18.45,9,17,7.55Zm-12,3A5.31,5.31,0,0,0,4.9,8.1,5.31,5.31,0,0,0,1,6.5,5.31,5.31,0,0,0,4.9,4.9,5.31,5.31,0,0,0,6.5,1,5.31,5.31,0,0,0,8.1,4.9,5.31,5.31,0,0,0,12,6.5,5.46,5.46,0,0,0,6.5,12Z\"/>\n",
       "  </svg>\n",
       "    </button>\n",
       "    <script>\n",
       "      (() => {\n",
       "      const buttonEl =\n",
       "        document.querySelector('#id_02629118-c4ae-409f-b184-054aee3ae31f button.colab-df-generate');\n",
       "      buttonEl.style.display =\n",
       "        google.colab.kernel.accessAllowed ? 'block' : 'none';\n",
       "\n",
       "      buttonEl.onclick = () => {\n",
       "        google.colab.notebook.generateWithVariable('dfnews');\n",
       "      }\n",
       "      })();\n",
       "    </script>\n",
       "  </div>\n",
       "\n",
       "    </div>\n",
       "  </div>\n"
      ],
      "text/plain": [
       "    user_id      group landing_page  time_spent_on_the_page converted  \\\n",
       "0    546592    control          old                    3.48        no   \n",
       "1    546468  treatment          new                    7.13       yes   \n",
       "2    546462  treatment          new                    4.40        no   \n",
       "3    546567    control          old                    3.02        no   \n",
       "4    546459  treatment          new                    4.75       yes   \n",
       "..      ...        ...          ...                     ...       ...   \n",
       "95   546446  treatment          new                    5.15        no   \n",
       "96   546544    control          old                    6.52       yes   \n",
       "97   546472  treatment          new                    7.07       yes   \n",
       "98   546481  treatment          new                    6.20       yes   \n",
       "99   546483  treatment          new                    5.86       yes   \n",
       "\n",
       "   language_preferred  \n",
       "0             Spanish  \n",
       "1             English  \n",
       "2             Spanish  \n",
       "3              French  \n",
       "4             Spanish  \n",
       "..                ...  \n",
       "95            Spanish  \n",
       "96            English  \n",
       "97            Spanish  \n",
       "98            Spanish  \n",
       "99            English  \n",
       "\n",
       "[100 rows x 6 columns]"
      ]
     },
     "execution_count": 8,
     "metadata": {},
     "output_type": "execute_result"
    }
   ],
   "source": [
    "dfnews=pd.read_csv(\"/content/abtest.csv\")\n",
    "dfnews"
   ]
  },
  {
   "cell_type": "markdown",
   "id": "9d75cfa2",
   "metadata": {
    "id": "9d75cfa2"
   },
   "source": [
    "## Explore the dataset and extract insights using Exploratory Data Analysis"
   ]
  },
  {
   "cell_type": "markdown",
   "id": "27201534",
   "metadata": {
    "id": "27201534"
   },
   "source": [
    "- Data Overview\n",
    "  - Viewing the first and last few rows of the dataset\n",
    "  - Checking the shape of the dataset\n",
    "  - Getting the statistical summary for the variables\n",
    "- Check for missing values\n",
    "- Check for duplicates"
   ]
  },
  {
   "cell_type": "code",
   "execution_count": null,
   "id": "e1ad11d4",
   "metadata": {
    "colab": {
     "base_uri": "https://localhost:8080/",
     "height": 226
    },
    "id": "e1ad11d4",
    "outputId": "5ecab32e-54af-4588-fe6e-7fc6c34b3c91"
   },
   "outputs": [
    {
     "data": {
      "application/vnd.google.colaboratory.intrinsic+json": {
       "summary": "{\n  \"name\": \"dfnews\",\n  \"rows\": 100,\n  \"fields\": [\n    {\n      \"column\": \"user_id\",\n      \"properties\": {\n        \"dtype\": \"number\",\n        \"std\": 52,\n        \"min\": 546443,\n        \"max\": 546592,\n        \"num_unique_values\": 100,\n        \"samples\": [\n          546580,\n          546576,\n          546568\n        ],\n        \"semantic_type\": \"\",\n        \"description\": \"\"\n      }\n    },\n    {\n      \"column\": \"group\",\n      \"properties\": {\n        \"dtype\": \"category\",\n        \"num_unique_values\": 2,\n        \"samples\": [\n          \"treatment\",\n          \"control\"\n        ],\n        \"semantic_type\": \"\",\n        \"description\": \"\"\n      }\n    },\n    {\n      \"column\": \"landing_page\",\n      \"properties\": {\n        \"dtype\": \"category\",\n        \"num_unique_values\": 2,\n        \"samples\": [\n          \"new\",\n          \"old\"\n        ],\n        \"semantic_type\": \"\",\n        \"description\": \"\"\n      }\n    },\n    {\n      \"column\": \"time_spent_on_the_page\",\n      \"properties\": {\n        \"dtype\": \"number\",\n        \"std\": 2.378166078933492,\n        \"min\": 0.19,\n        \"max\": 10.71,\n        \"num_unique_values\": 94,\n        \"samples\": [\n          8.46,\n          3.65\n        ],\n        \"semantic_type\": \"\",\n        \"description\": \"\"\n      }\n    },\n    {\n      \"column\": \"converted\",\n      \"properties\": {\n        \"dtype\": \"category\",\n        \"num_unique_values\": 2,\n        \"samples\": [\n          \"yes\",\n          \"no\"\n        ],\n        \"semantic_type\": \"\",\n        \"description\": \"\"\n      }\n    },\n    {\n      \"column\": \"language_preferred\",\n      \"properties\": {\n        \"dtype\": \"category\",\n        \"num_unique_values\": 3,\n        \"samples\": [\n          \"Spanish\",\n          \"English\"\n        ],\n        \"semantic_type\": \"\",\n        \"description\": \"\"\n      }\n    }\n  ]\n}",
       "type": "dataframe",
       "variable_name": "dfnews"
      },
      "text/html": [
       "\n",
       "  <div id=\"df-b44316b3-b862-44d3-a2f9-75c165d26c69\" class=\"colab-df-container\">\n",
       "    <div>\n",
       "<style scoped>\n",
       "    .dataframe tbody tr th:only-of-type {\n",
       "        vertical-align: middle;\n",
       "    }\n",
       "\n",
       "    .dataframe tbody tr th {\n",
       "        vertical-align: top;\n",
       "    }\n",
       "\n",
       "    .dataframe thead th {\n",
       "        text-align: right;\n",
       "    }\n",
       "</style>\n",
       "<table border=\"1\" class=\"dataframe\">\n",
       "  <thead>\n",
       "    <tr style=\"text-align: right;\">\n",
       "      <th></th>\n",
       "      <th>user_id</th>\n",
       "      <th>group</th>\n",
       "      <th>landing_page</th>\n",
       "      <th>time_spent_on_the_page</th>\n",
       "      <th>converted</th>\n",
       "      <th>language_preferred</th>\n",
       "    </tr>\n",
       "  </thead>\n",
       "  <tbody>\n",
       "    <tr>\n",
       "      <th>0</th>\n",
       "      <td>546592</td>\n",
       "      <td>control</td>\n",
       "      <td>old</td>\n",
       "      <td>3.48</td>\n",
       "      <td>no</td>\n",
       "      <td>Spanish</td>\n",
       "    </tr>\n",
       "    <tr>\n",
       "      <th>1</th>\n",
       "      <td>546468</td>\n",
       "      <td>treatment</td>\n",
       "      <td>new</td>\n",
       "      <td>7.13</td>\n",
       "      <td>yes</td>\n",
       "      <td>English</td>\n",
       "    </tr>\n",
       "    <tr>\n",
       "      <th>2</th>\n",
       "      <td>546462</td>\n",
       "      <td>treatment</td>\n",
       "      <td>new</td>\n",
       "      <td>4.40</td>\n",
       "      <td>no</td>\n",
       "      <td>Spanish</td>\n",
       "    </tr>\n",
       "    <tr>\n",
       "      <th>3</th>\n",
       "      <td>546567</td>\n",
       "      <td>control</td>\n",
       "      <td>old</td>\n",
       "      <td>3.02</td>\n",
       "      <td>no</td>\n",
       "      <td>French</td>\n",
       "    </tr>\n",
       "    <tr>\n",
       "      <th>4</th>\n",
       "      <td>546459</td>\n",
       "      <td>treatment</td>\n",
       "      <td>new</td>\n",
       "      <td>4.75</td>\n",
       "      <td>yes</td>\n",
       "      <td>Spanish</td>\n",
       "    </tr>\n",
       "  </tbody>\n",
       "</table>\n",
       "</div>\n",
       "    <div class=\"colab-df-buttons\">\n",
       "\n",
       "  <div class=\"colab-df-container\">\n",
       "    <button class=\"colab-df-convert\" onclick=\"convertToInteractive('df-b44316b3-b862-44d3-a2f9-75c165d26c69')\"\n",
       "            title=\"Convert this dataframe to an interactive table.\"\n",
       "            style=\"display:none;\">\n",
       "\n",
       "  <svg xmlns=\"http://www.w3.org/2000/svg\" height=\"24px\" viewBox=\"0 -960 960 960\">\n",
       "    <path d=\"M120-120v-720h720v720H120Zm60-500h600v-160H180v160Zm220 220h160v-160H400v160Zm0 220h160v-160H400v160ZM180-400h160v-160H180v160Zm440 0h160v-160H620v160ZM180-180h160v-160H180v160Zm440 0h160v-160H620v160Z\"/>\n",
       "  </svg>\n",
       "    </button>\n",
       "\n",
       "  <style>\n",
       "    .colab-df-container {\n",
       "      display:flex;\n",
       "      gap: 12px;\n",
       "    }\n",
       "\n",
       "    .colab-df-convert {\n",
       "      background-color: #E8F0FE;\n",
       "      border: none;\n",
       "      border-radius: 50%;\n",
       "      cursor: pointer;\n",
       "      display: none;\n",
       "      fill: #1967D2;\n",
       "      height: 32px;\n",
       "      padding: 0 0 0 0;\n",
       "      width: 32px;\n",
       "    }\n",
       "\n",
       "    .colab-df-convert:hover {\n",
       "      background-color: #E2EBFA;\n",
       "      box-shadow: 0px 1px 2px rgba(60, 64, 67, 0.3), 0px 1px 3px 1px rgba(60, 64, 67, 0.15);\n",
       "      fill: #174EA6;\n",
       "    }\n",
       "\n",
       "    .colab-df-buttons div {\n",
       "      margin-bottom: 4px;\n",
       "    }\n",
       "\n",
       "    [theme=dark] .colab-df-convert {\n",
       "      background-color: #3B4455;\n",
       "      fill: #D2E3FC;\n",
       "    }\n",
       "\n",
       "    [theme=dark] .colab-df-convert:hover {\n",
       "      background-color: #434B5C;\n",
       "      box-shadow: 0px 1px 3px 1px rgba(0, 0, 0, 0.15);\n",
       "      filter: drop-shadow(0px 1px 2px rgba(0, 0, 0, 0.3));\n",
       "      fill: #FFFFFF;\n",
       "    }\n",
       "  </style>\n",
       "\n",
       "    <script>\n",
       "      const buttonEl =\n",
       "        document.querySelector('#df-b44316b3-b862-44d3-a2f9-75c165d26c69 button.colab-df-convert');\n",
       "      buttonEl.style.display =\n",
       "        google.colab.kernel.accessAllowed ? 'block' : 'none';\n",
       "\n",
       "      async function convertToInteractive(key) {\n",
       "        const element = document.querySelector('#df-b44316b3-b862-44d3-a2f9-75c165d26c69');\n",
       "        const dataTable =\n",
       "          await google.colab.kernel.invokeFunction('convertToInteractive',\n",
       "                                                    [key], {});\n",
       "        if (!dataTable) return;\n",
       "\n",
       "        const docLinkHtml = 'Like what you see? Visit the ' +\n",
       "          '<a target=\"_blank\" href=https://colab.research.google.com/notebooks/data_table.ipynb>data table notebook</a>'\n",
       "          + ' to learn more about interactive tables.';\n",
       "        element.innerHTML = '';\n",
       "        dataTable['output_type'] = 'display_data';\n",
       "        await google.colab.output.renderOutput(dataTable, element);\n",
       "        const docLink = document.createElement('div');\n",
       "        docLink.innerHTML = docLinkHtml;\n",
       "        element.appendChild(docLink);\n",
       "      }\n",
       "    </script>\n",
       "  </div>\n",
       "\n",
       "\n",
       "<div id=\"df-00222b18-2689-4889-ac60-338d48ebf01c\">\n",
       "  <button class=\"colab-df-quickchart\" onclick=\"quickchart('df-00222b18-2689-4889-ac60-338d48ebf01c')\"\n",
       "            title=\"Suggest charts\"\n",
       "            style=\"display:none;\">\n",
       "\n",
       "<svg xmlns=\"http://www.w3.org/2000/svg\" height=\"24px\"viewBox=\"0 0 24 24\"\n",
       "     width=\"24px\">\n",
       "    <g>\n",
       "        <path d=\"M19 3H5c-1.1 0-2 .9-2 2v14c0 1.1.9 2 2 2h14c1.1 0 2-.9 2-2V5c0-1.1-.9-2-2-2zM9 17H7v-7h2v7zm4 0h-2V7h2v10zm4 0h-2v-4h2v4z\"/>\n",
       "    </g>\n",
       "</svg>\n",
       "  </button>\n",
       "\n",
       "<style>\n",
       "  .colab-df-quickchart {\n",
       "      --bg-color: #E8F0FE;\n",
       "      --fill-color: #1967D2;\n",
       "      --hover-bg-color: #E2EBFA;\n",
       "      --hover-fill-color: #174EA6;\n",
       "      --disabled-fill-color: #AAA;\n",
       "      --disabled-bg-color: #DDD;\n",
       "  }\n",
       "\n",
       "  [theme=dark] .colab-df-quickchart {\n",
       "      --bg-color: #3B4455;\n",
       "      --fill-color: #D2E3FC;\n",
       "      --hover-bg-color: #434B5C;\n",
       "      --hover-fill-color: #FFFFFF;\n",
       "      --disabled-bg-color: #3B4455;\n",
       "      --disabled-fill-color: #666;\n",
       "  }\n",
       "\n",
       "  .colab-df-quickchart {\n",
       "    background-color: var(--bg-color);\n",
       "    border: none;\n",
       "    border-radius: 50%;\n",
       "    cursor: pointer;\n",
       "    display: none;\n",
       "    fill: var(--fill-color);\n",
       "    height: 32px;\n",
       "    padding: 0;\n",
       "    width: 32px;\n",
       "  }\n",
       "\n",
       "  .colab-df-quickchart:hover {\n",
       "    background-color: var(--hover-bg-color);\n",
       "    box-shadow: 0 1px 2px rgba(60, 64, 67, 0.3), 0 1px 3px 1px rgba(60, 64, 67, 0.15);\n",
       "    fill: var(--button-hover-fill-color);\n",
       "  }\n",
       "\n",
       "  .colab-df-quickchart-complete:disabled,\n",
       "  .colab-df-quickchart-complete:disabled:hover {\n",
       "    background-color: var(--disabled-bg-color);\n",
       "    fill: var(--disabled-fill-color);\n",
       "    box-shadow: none;\n",
       "  }\n",
       "\n",
       "  .colab-df-spinner {\n",
       "    border: 2px solid var(--fill-color);\n",
       "    border-color: transparent;\n",
       "    border-bottom-color: var(--fill-color);\n",
       "    animation:\n",
       "      spin 1s steps(1) infinite;\n",
       "  }\n",
       "\n",
       "  @keyframes spin {\n",
       "    0% {\n",
       "      border-color: transparent;\n",
       "      border-bottom-color: var(--fill-color);\n",
       "      border-left-color: var(--fill-color);\n",
       "    }\n",
       "    20% {\n",
       "      border-color: transparent;\n",
       "      border-left-color: var(--fill-color);\n",
       "      border-top-color: var(--fill-color);\n",
       "    }\n",
       "    30% {\n",
       "      border-color: transparent;\n",
       "      border-left-color: var(--fill-color);\n",
       "      border-top-color: var(--fill-color);\n",
       "      border-right-color: var(--fill-color);\n",
       "    }\n",
       "    40% {\n",
       "      border-color: transparent;\n",
       "      border-right-color: var(--fill-color);\n",
       "      border-top-color: var(--fill-color);\n",
       "    }\n",
       "    60% {\n",
       "      border-color: transparent;\n",
       "      border-right-color: var(--fill-color);\n",
       "    }\n",
       "    80% {\n",
       "      border-color: transparent;\n",
       "      border-right-color: var(--fill-color);\n",
       "      border-bottom-color: var(--fill-color);\n",
       "    }\n",
       "    90% {\n",
       "      border-color: transparent;\n",
       "      border-bottom-color: var(--fill-color);\n",
       "    }\n",
       "  }\n",
       "</style>\n",
       "\n",
       "  <script>\n",
       "    async function quickchart(key) {\n",
       "      const quickchartButtonEl =\n",
       "        document.querySelector('#' + key + ' button');\n",
       "      quickchartButtonEl.disabled = true;  // To prevent multiple clicks.\n",
       "      quickchartButtonEl.classList.add('colab-df-spinner');\n",
       "      try {\n",
       "        const charts = await google.colab.kernel.invokeFunction(\n",
       "            'suggestCharts', [key], {});\n",
       "      } catch (error) {\n",
       "        console.error('Error during call to suggestCharts:', error);\n",
       "      }\n",
       "      quickchartButtonEl.classList.remove('colab-df-spinner');\n",
       "      quickchartButtonEl.classList.add('colab-df-quickchart-complete');\n",
       "    }\n",
       "    (() => {\n",
       "      let quickchartButtonEl =\n",
       "        document.querySelector('#df-00222b18-2689-4889-ac60-338d48ebf01c button');\n",
       "      quickchartButtonEl.style.display =\n",
       "        google.colab.kernel.accessAllowed ? 'block' : 'none';\n",
       "    })();\n",
       "  </script>\n",
       "</div>\n",
       "\n",
       "    </div>\n",
       "  </div>\n"
      ],
      "text/plain": [
       "   user_id      group landing_page  time_spent_on_the_page converted  \\\n",
       "0   546592    control          old                    3.48        no   \n",
       "1   546468  treatment          new                    7.13       yes   \n",
       "2   546462  treatment          new                    4.40        no   \n",
       "3   546567    control          old                    3.02        no   \n",
       "4   546459  treatment          new                    4.75       yes   \n",
       "\n",
       "  language_preferred  \n",
       "0            Spanish  \n",
       "1            English  \n",
       "2            Spanish  \n",
       "3             French  \n",
       "4            Spanish  "
      ]
     },
     "execution_count": 5,
     "metadata": {},
     "output_type": "execute_result"
    }
   ],
   "source": [
    "#Viewing the first few rows of the dataset\n",
    "dfnews.head()"
   ]
  },
  {
   "cell_type": "code",
   "execution_count": null,
   "id": "1sSt5k7oUspH",
   "metadata": {
    "colab": {
     "base_uri": "https://localhost:8080/",
     "height": 226
    },
    "id": "1sSt5k7oUspH",
    "outputId": "b2af42d2-2ed4-4881-c25d-09a03e14a293"
   },
   "outputs": [
    {
     "data": {
      "application/vnd.google.colaboratory.intrinsic+json": {
       "summary": "{\n  \"name\": \"dfnews\",\n  \"rows\": 5,\n  \"fields\": [\n    {\n      \"column\": \"user_id\",\n      \"properties\": {\n        \"dtype\": \"number\",\n        \"std\": 36,\n        \"min\": 546446,\n        \"max\": 546544,\n        \"num_unique_values\": 5,\n        \"samples\": [\n          546544,\n          546483,\n          546472\n        ],\n        \"semantic_type\": \"\",\n        \"description\": \"\"\n      }\n    },\n    {\n      \"column\": \"group\",\n      \"properties\": {\n        \"dtype\": \"category\",\n        \"num_unique_values\": 2,\n        \"samples\": [\n          \"control\",\n          \"treatment\"\n        ],\n        \"semantic_type\": \"\",\n        \"description\": \"\"\n      }\n    },\n    {\n      \"column\": \"landing_page\",\n      \"properties\": {\n        \"dtype\": \"category\",\n        \"num_unique_values\": 2,\n        \"samples\": [\n          \"old\",\n          \"new\"\n        ],\n        \"semantic_type\": \"\",\n        \"description\": \"\"\n      }\n    },\n    {\n      \"column\": \"time_spent_on_the_page\",\n      \"properties\": {\n        \"dtype\": \"number\",\n        \"std\": 0.7192704637339141,\n        \"min\": 5.15,\n        \"max\": 7.07,\n        \"num_unique_values\": 5,\n        \"samples\": [\n          6.52,\n          5.86\n        ],\n        \"semantic_type\": \"\",\n        \"description\": \"\"\n      }\n    },\n    {\n      \"column\": \"converted\",\n      \"properties\": {\n        \"dtype\": \"category\",\n        \"num_unique_values\": 2,\n        \"samples\": [\n          \"yes\",\n          \"no\"\n        ],\n        \"semantic_type\": \"\",\n        \"description\": \"\"\n      }\n    },\n    {\n      \"column\": \"language_preferred\",\n      \"properties\": {\n        \"dtype\": \"category\",\n        \"num_unique_values\": 2,\n        \"samples\": [\n          \"English\",\n          \"Spanish\"\n        ],\n        \"semantic_type\": \"\",\n        \"description\": \"\"\n      }\n    }\n  ]\n}",
       "type": "dataframe"
      },
      "text/html": [
       "\n",
       "  <div id=\"df-5c91a1f3-948e-4961-b77f-cc79ded53545\" class=\"colab-df-container\">\n",
       "    <div>\n",
       "<style scoped>\n",
       "    .dataframe tbody tr th:only-of-type {\n",
       "        vertical-align: middle;\n",
       "    }\n",
       "\n",
       "    .dataframe tbody tr th {\n",
       "        vertical-align: top;\n",
       "    }\n",
       "\n",
       "    .dataframe thead th {\n",
       "        text-align: right;\n",
       "    }\n",
       "</style>\n",
       "<table border=\"1\" class=\"dataframe\">\n",
       "  <thead>\n",
       "    <tr style=\"text-align: right;\">\n",
       "      <th></th>\n",
       "      <th>user_id</th>\n",
       "      <th>group</th>\n",
       "      <th>landing_page</th>\n",
       "      <th>time_spent_on_the_page</th>\n",
       "      <th>converted</th>\n",
       "      <th>language_preferred</th>\n",
       "    </tr>\n",
       "  </thead>\n",
       "  <tbody>\n",
       "    <tr>\n",
       "      <th>95</th>\n",
       "      <td>546446</td>\n",
       "      <td>treatment</td>\n",
       "      <td>new</td>\n",
       "      <td>5.15</td>\n",
       "      <td>no</td>\n",
       "      <td>Spanish</td>\n",
       "    </tr>\n",
       "    <tr>\n",
       "      <th>96</th>\n",
       "      <td>546544</td>\n",
       "      <td>control</td>\n",
       "      <td>old</td>\n",
       "      <td>6.52</td>\n",
       "      <td>yes</td>\n",
       "      <td>English</td>\n",
       "    </tr>\n",
       "    <tr>\n",
       "      <th>97</th>\n",
       "      <td>546472</td>\n",
       "      <td>treatment</td>\n",
       "      <td>new</td>\n",
       "      <td>7.07</td>\n",
       "      <td>yes</td>\n",
       "      <td>Spanish</td>\n",
       "    </tr>\n",
       "    <tr>\n",
       "      <th>98</th>\n",
       "      <td>546481</td>\n",
       "      <td>treatment</td>\n",
       "      <td>new</td>\n",
       "      <td>6.20</td>\n",
       "      <td>yes</td>\n",
       "      <td>Spanish</td>\n",
       "    </tr>\n",
       "    <tr>\n",
       "      <th>99</th>\n",
       "      <td>546483</td>\n",
       "      <td>treatment</td>\n",
       "      <td>new</td>\n",
       "      <td>5.86</td>\n",
       "      <td>yes</td>\n",
       "      <td>English</td>\n",
       "    </tr>\n",
       "  </tbody>\n",
       "</table>\n",
       "</div>\n",
       "    <div class=\"colab-df-buttons\">\n",
       "\n",
       "  <div class=\"colab-df-container\">\n",
       "    <button class=\"colab-df-convert\" onclick=\"convertToInteractive('df-5c91a1f3-948e-4961-b77f-cc79ded53545')\"\n",
       "            title=\"Convert this dataframe to an interactive table.\"\n",
       "            style=\"display:none;\">\n",
       "\n",
       "  <svg xmlns=\"http://www.w3.org/2000/svg\" height=\"24px\" viewBox=\"0 -960 960 960\">\n",
       "    <path d=\"M120-120v-720h720v720H120Zm60-500h600v-160H180v160Zm220 220h160v-160H400v160Zm0 220h160v-160H400v160ZM180-400h160v-160H180v160Zm440 0h160v-160H620v160ZM180-180h160v-160H180v160Zm440 0h160v-160H620v160Z\"/>\n",
       "  </svg>\n",
       "    </button>\n",
       "\n",
       "  <style>\n",
       "    .colab-df-container {\n",
       "      display:flex;\n",
       "      gap: 12px;\n",
       "    }\n",
       "\n",
       "    .colab-df-convert {\n",
       "      background-color: #E8F0FE;\n",
       "      border: none;\n",
       "      border-radius: 50%;\n",
       "      cursor: pointer;\n",
       "      display: none;\n",
       "      fill: #1967D2;\n",
       "      height: 32px;\n",
       "      padding: 0 0 0 0;\n",
       "      width: 32px;\n",
       "    }\n",
       "\n",
       "    .colab-df-convert:hover {\n",
       "      background-color: #E2EBFA;\n",
       "      box-shadow: 0px 1px 2px rgba(60, 64, 67, 0.3), 0px 1px 3px 1px rgba(60, 64, 67, 0.15);\n",
       "      fill: #174EA6;\n",
       "    }\n",
       "\n",
       "    .colab-df-buttons div {\n",
       "      margin-bottom: 4px;\n",
       "    }\n",
       "\n",
       "    [theme=dark] .colab-df-convert {\n",
       "      background-color: #3B4455;\n",
       "      fill: #D2E3FC;\n",
       "    }\n",
       "\n",
       "    [theme=dark] .colab-df-convert:hover {\n",
       "      background-color: #434B5C;\n",
       "      box-shadow: 0px 1px 3px 1px rgba(0, 0, 0, 0.15);\n",
       "      filter: drop-shadow(0px 1px 2px rgba(0, 0, 0, 0.3));\n",
       "      fill: #FFFFFF;\n",
       "    }\n",
       "  </style>\n",
       "\n",
       "    <script>\n",
       "      const buttonEl =\n",
       "        document.querySelector('#df-5c91a1f3-948e-4961-b77f-cc79ded53545 button.colab-df-convert');\n",
       "      buttonEl.style.display =\n",
       "        google.colab.kernel.accessAllowed ? 'block' : 'none';\n",
       "\n",
       "      async function convertToInteractive(key) {\n",
       "        const element = document.querySelector('#df-5c91a1f3-948e-4961-b77f-cc79ded53545');\n",
       "        const dataTable =\n",
       "          await google.colab.kernel.invokeFunction('convertToInteractive',\n",
       "                                                    [key], {});\n",
       "        if (!dataTable) return;\n",
       "\n",
       "        const docLinkHtml = 'Like what you see? Visit the ' +\n",
       "          '<a target=\"_blank\" href=https://colab.research.google.com/notebooks/data_table.ipynb>data table notebook</a>'\n",
       "          + ' to learn more about interactive tables.';\n",
       "        element.innerHTML = '';\n",
       "        dataTable['output_type'] = 'display_data';\n",
       "        await google.colab.output.renderOutput(dataTable, element);\n",
       "        const docLink = document.createElement('div');\n",
       "        docLink.innerHTML = docLinkHtml;\n",
       "        element.appendChild(docLink);\n",
       "      }\n",
       "    </script>\n",
       "  </div>\n",
       "\n",
       "\n",
       "<div id=\"df-782fcbcd-2ae2-46e1-902b-16f145cf3d8d\">\n",
       "  <button class=\"colab-df-quickchart\" onclick=\"quickchart('df-782fcbcd-2ae2-46e1-902b-16f145cf3d8d')\"\n",
       "            title=\"Suggest charts\"\n",
       "            style=\"display:none;\">\n",
       "\n",
       "<svg xmlns=\"http://www.w3.org/2000/svg\" height=\"24px\"viewBox=\"0 0 24 24\"\n",
       "     width=\"24px\">\n",
       "    <g>\n",
       "        <path d=\"M19 3H5c-1.1 0-2 .9-2 2v14c0 1.1.9 2 2 2h14c1.1 0 2-.9 2-2V5c0-1.1-.9-2-2-2zM9 17H7v-7h2v7zm4 0h-2V7h2v10zm4 0h-2v-4h2v4z\"/>\n",
       "    </g>\n",
       "</svg>\n",
       "  </button>\n",
       "\n",
       "<style>\n",
       "  .colab-df-quickchart {\n",
       "      --bg-color: #E8F0FE;\n",
       "      --fill-color: #1967D2;\n",
       "      --hover-bg-color: #E2EBFA;\n",
       "      --hover-fill-color: #174EA6;\n",
       "      --disabled-fill-color: #AAA;\n",
       "      --disabled-bg-color: #DDD;\n",
       "  }\n",
       "\n",
       "  [theme=dark] .colab-df-quickchart {\n",
       "      --bg-color: #3B4455;\n",
       "      --fill-color: #D2E3FC;\n",
       "      --hover-bg-color: #434B5C;\n",
       "      --hover-fill-color: #FFFFFF;\n",
       "      --disabled-bg-color: #3B4455;\n",
       "      --disabled-fill-color: #666;\n",
       "  }\n",
       "\n",
       "  .colab-df-quickchart {\n",
       "    background-color: var(--bg-color);\n",
       "    border: none;\n",
       "    border-radius: 50%;\n",
       "    cursor: pointer;\n",
       "    display: none;\n",
       "    fill: var(--fill-color);\n",
       "    height: 32px;\n",
       "    padding: 0;\n",
       "    width: 32px;\n",
       "  }\n",
       "\n",
       "  .colab-df-quickchart:hover {\n",
       "    background-color: var(--hover-bg-color);\n",
       "    box-shadow: 0 1px 2px rgba(60, 64, 67, 0.3), 0 1px 3px 1px rgba(60, 64, 67, 0.15);\n",
       "    fill: var(--button-hover-fill-color);\n",
       "  }\n",
       "\n",
       "  .colab-df-quickchart-complete:disabled,\n",
       "  .colab-df-quickchart-complete:disabled:hover {\n",
       "    background-color: var(--disabled-bg-color);\n",
       "    fill: var(--disabled-fill-color);\n",
       "    box-shadow: none;\n",
       "  }\n",
       "\n",
       "  .colab-df-spinner {\n",
       "    border: 2px solid var(--fill-color);\n",
       "    border-color: transparent;\n",
       "    border-bottom-color: var(--fill-color);\n",
       "    animation:\n",
       "      spin 1s steps(1) infinite;\n",
       "  }\n",
       "\n",
       "  @keyframes spin {\n",
       "    0% {\n",
       "      border-color: transparent;\n",
       "      border-bottom-color: var(--fill-color);\n",
       "      border-left-color: var(--fill-color);\n",
       "    }\n",
       "    20% {\n",
       "      border-color: transparent;\n",
       "      border-left-color: var(--fill-color);\n",
       "      border-top-color: var(--fill-color);\n",
       "    }\n",
       "    30% {\n",
       "      border-color: transparent;\n",
       "      border-left-color: var(--fill-color);\n",
       "      border-top-color: var(--fill-color);\n",
       "      border-right-color: var(--fill-color);\n",
       "    }\n",
       "    40% {\n",
       "      border-color: transparent;\n",
       "      border-right-color: var(--fill-color);\n",
       "      border-top-color: var(--fill-color);\n",
       "    }\n",
       "    60% {\n",
       "      border-color: transparent;\n",
       "      border-right-color: var(--fill-color);\n",
       "    }\n",
       "    80% {\n",
       "      border-color: transparent;\n",
       "      border-right-color: var(--fill-color);\n",
       "      border-bottom-color: var(--fill-color);\n",
       "    }\n",
       "    90% {\n",
       "      border-color: transparent;\n",
       "      border-bottom-color: var(--fill-color);\n",
       "    }\n",
       "  }\n",
       "</style>\n",
       "\n",
       "  <script>\n",
       "    async function quickchart(key) {\n",
       "      const quickchartButtonEl =\n",
       "        document.querySelector('#' + key + ' button');\n",
       "      quickchartButtonEl.disabled = true;  // To prevent multiple clicks.\n",
       "      quickchartButtonEl.classList.add('colab-df-spinner');\n",
       "      try {\n",
       "        const charts = await google.colab.kernel.invokeFunction(\n",
       "            'suggestCharts', [key], {});\n",
       "      } catch (error) {\n",
       "        console.error('Error during call to suggestCharts:', error);\n",
       "      }\n",
       "      quickchartButtonEl.classList.remove('colab-df-spinner');\n",
       "      quickchartButtonEl.classList.add('colab-df-quickchart-complete');\n",
       "    }\n",
       "    (() => {\n",
       "      let quickchartButtonEl =\n",
       "        document.querySelector('#df-782fcbcd-2ae2-46e1-902b-16f145cf3d8d button');\n",
       "      quickchartButtonEl.style.display =\n",
       "        google.colab.kernel.accessAllowed ? 'block' : 'none';\n",
       "    })();\n",
       "  </script>\n",
       "</div>\n",
       "\n",
       "    </div>\n",
       "  </div>\n"
      ],
      "text/plain": [
       "    user_id      group landing_page  time_spent_on_the_page converted  \\\n",
       "95   546446  treatment          new                    5.15        no   \n",
       "96   546544    control          old                    6.52       yes   \n",
       "97   546472  treatment          new                    7.07       yes   \n",
       "98   546481  treatment          new                    6.20       yes   \n",
       "99   546483  treatment          new                    5.86       yes   \n",
       "\n",
       "   language_preferred  \n",
       "95            Spanish  \n",
       "96            English  \n",
       "97            Spanish  \n",
       "98            Spanish  \n",
       "99            English  "
      ]
     },
     "execution_count": 6,
     "metadata": {},
     "output_type": "execute_result"
    }
   ],
   "source": [
    "##Viewing the last few rows of the dataset\n",
    "dfnews.tail()"
   ]
  },
  {
   "cell_type": "code",
   "execution_count": null,
   "id": "tlK556PfU3l6",
   "metadata": {
    "colab": {
     "base_uri": "https://localhost:8080/"
    },
    "id": "tlK556PfU3l6",
    "outputId": "6e314297-401a-4811-88a7-27de922cd31f"
   },
   "outputs": [
    {
     "data": {
      "text/plain": [
       "(100, 6)"
      ]
     },
     "execution_count": 28,
     "metadata": {},
     "output_type": "execute_result"
    }
   ],
   "source": [
    "#Checking the shape of the dataset\n",
    "dfnews.shape"
   ]
  },
  {
   "cell_type": "code",
   "execution_count": null,
   "id": "a-6Qi9nBU9qZ",
   "metadata": {
    "colab": {
     "base_uri": "https://localhost:8080/"
    },
    "id": "a-6Qi9nBU9qZ",
    "outputId": "ed4f24fb-0231-4d2a-9c85-3e2ffa5dcfdd"
   },
   "outputs": [
    {
     "name": "stdout",
     "output_type": "stream",
     "text": [
      "<class 'pandas.core.frame.DataFrame'>\n",
      "RangeIndex: 100 entries, 0 to 99\n",
      "Data columns (total 6 columns):\n",
      " #   Column                  Non-Null Count  Dtype  \n",
      "---  ------                  --------------  -----  \n",
      " 0   user_id                 100 non-null    int64  \n",
      " 1   group                   100 non-null    object \n",
      " 2   landing_page            100 non-null    object \n",
      " 3   time_spent_on_the_page  100 non-null    float64\n",
      " 4   converted               100 non-null    object \n",
      " 5   language_preferred      100 non-null    object \n",
      "dtypes: float64(1), int64(1), object(4)\n",
      "memory usage: 4.8+ KB\n"
     ]
    }
   ],
   "source": [
    "#Getting the statistical summary for the variables\n",
    "dfnews.info()"
   ]
  },
  {
   "cell_type": "markdown",
   "id": "4tzi5FIyWVdZ",
   "metadata": {
    "id": "4tzi5FIyWVdZ"
   },
   "source": [
    "There are 3 types of data in the dataset:\n",
    "\n",
    "int64: 'user_id'\n",
    "\n",
    "float64: 'time_spent_on_the_page'\n",
    "\n",
    "object: 'group', 'landing_page', 'converted', 'language_preferred'"
   ]
  },
  {
   "cell_type": "code",
   "execution_count": null,
   "id": "gQNaEd59Wo6h",
   "metadata": {
    "colab": {
     "base_uri": "https://localhost:8080/",
     "height": 112
    },
    "id": "gQNaEd59Wo6h",
    "outputId": "f98c9f88-bf9b-4dde-fb08-c898f488a06b"
   },
   "outputs": [
    {
     "data": {
      "application/vnd.google.colaboratory.intrinsic+json": {
       "summary": "{\n  \"name\": \"dfnews\",\n  \"rows\": 2,\n  \"fields\": [\n    {\n      \"column\": \"count\",\n      \"properties\": {\n        \"dtype\": \"number\",\n        \"std\": 0.0,\n        \"min\": 100.0,\n        \"max\": 100.0,\n        \"num_unique_values\": 1,\n        \"samples\": [\n          100.0\n        ],\n        \"semantic_type\": \"\",\n        \"description\": \"\"\n      }\n    },\n    {\n      \"column\": \"mean\",\n      \"properties\": {\n        \"dtype\": \"number\",\n        \"std\": 386442.07405488053,\n        \"min\": 5.377800000000001,\n        \"max\": 546517.0,\n        \"num_unique_values\": 2,\n        \"samples\": [\n          5.377800000000001\n        ],\n        \"semantic_type\": \"\",\n        \"description\": \"\"\n      }\n    },\n    {\n      \"column\": \"std\",\n      \"properties\": {\n        \"dtype\": \"number\",\n        \"std\": 35.29708248647065,\n        \"min\": 2.378166078933492,\n        \"max\": 52.29577884350213,\n        \"num_unique_values\": 2,\n        \"samples\": [\n          2.378166078933492\n        ],\n        \"semantic_type\": \"\",\n        \"description\": \"\"\n      }\n    },\n    {\n      \"column\": \"min\",\n      \"properties\": {\n        \"dtype\": \"number\",\n        \"std\": 386393.41648163216,\n        \"min\": 0.19,\n        \"max\": 546443.0,\n        \"num_unique_values\": 2,\n        \"samples\": [\n          0.19\n        ],\n        \"semantic_type\": \"\",\n        \"description\": \"\"\n      }\n    },\n    {\n      \"column\": \"25%\",\n      \"properties\": {\n        \"dtype\": \"number\",\n        \"std\": 386408.30815044395,\n        \"min\": 3.88,\n        \"max\": 546467.75,\n        \"num_unique_values\": 2,\n        \"samples\": [\n          3.88\n        ],\n        \"semantic_type\": \"\",\n        \"description\": \"\"\n      }\n    },\n    {\n      \"column\": \"50%\",\n      \"properties\": {\n        \"dtype\": \"number\",\n        \"std\": 386424.7236343692,\n        \"min\": 5.415,\n        \"max\": 546492.5,\n        \"num_unique_values\": 2,\n        \"samples\": [\n          5.415\n        ],\n        \"semantic_type\": \"\",\n        \"description\": \"\"\n      }\n    },\n    {\n      \"column\": \"75%\",\n      \"properties\": {\n        \"dtype\": \"number\",\n        \"std\": 386476.44319211214,\n        \"min\": 7.0225,\n        \"max\": 546567.25,\n        \"num_unique_values\": 2,\n        \"samples\": [\n          7.0225\n        ],\n        \"semantic_type\": \"\",\n        \"description\": \"\"\n      }\n    },\n    {\n      \"column\": \"max\",\n      \"properties\": {\n        \"dtype\": \"number\",\n        \"std\": 386491.3366286909,\n        \"min\": 10.71,\n        \"max\": 546592.0,\n        \"num_unique_values\": 2,\n        \"samples\": [\n          10.71\n        ],\n        \"semantic_type\": \"\",\n        \"description\": \"\"\n      }\n    }\n  ]\n}",
       "type": "dataframe"
      },
      "text/html": [
       "\n",
       "  <div id=\"df-de27c2cb-ddc3-4dfa-8b01-a4856028f3ba\" class=\"colab-df-container\">\n",
       "    <div>\n",
       "<style scoped>\n",
       "    .dataframe tbody tr th:only-of-type {\n",
       "        vertical-align: middle;\n",
       "    }\n",
       "\n",
       "    .dataframe tbody tr th {\n",
       "        vertical-align: top;\n",
       "    }\n",
       "\n",
       "    .dataframe thead th {\n",
       "        text-align: right;\n",
       "    }\n",
       "</style>\n",
       "<table border=\"1\" class=\"dataframe\">\n",
       "  <thead>\n",
       "    <tr style=\"text-align: right;\">\n",
       "      <th></th>\n",
       "      <th>count</th>\n",
       "      <th>mean</th>\n",
       "      <th>std</th>\n",
       "      <th>min</th>\n",
       "      <th>25%</th>\n",
       "      <th>50%</th>\n",
       "      <th>75%</th>\n",
       "      <th>max</th>\n",
       "    </tr>\n",
       "  </thead>\n",
       "  <tbody>\n",
       "    <tr>\n",
       "      <th>user_id</th>\n",
       "      <td>100.0</td>\n",
       "      <td>546517.0000</td>\n",
       "      <td>52.295779</td>\n",
       "      <td>546443.00</td>\n",
       "      <td>546467.75</td>\n",
       "      <td>546492.500</td>\n",
       "      <td>546567.2500</td>\n",
       "      <td>546592.00</td>\n",
       "    </tr>\n",
       "    <tr>\n",
       "      <th>time_spent_on_the_page</th>\n",
       "      <td>100.0</td>\n",
       "      <td>5.3778</td>\n",
       "      <td>2.378166</td>\n",
       "      <td>0.19</td>\n",
       "      <td>3.88</td>\n",
       "      <td>5.415</td>\n",
       "      <td>7.0225</td>\n",
       "      <td>10.71</td>\n",
       "    </tr>\n",
       "  </tbody>\n",
       "</table>\n",
       "</div>\n",
       "    <div class=\"colab-df-buttons\">\n",
       "\n",
       "  <div class=\"colab-df-container\">\n",
       "    <button class=\"colab-df-convert\" onclick=\"convertToInteractive('df-de27c2cb-ddc3-4dfa-8b01-a4856028f3ba')\"\n",
       "            title=\"Convert this dataframe to an interactive table.\"\n",
       "            style=\"display:none;\">\n",
       "\n",
       "  <svg xmlns=\"http://www.w3.org/2000/svg\" height=\"24px\" viewBox=\"0 -960 960 960\">\n",
       "    <path d=\"M120-120v-720h720v720H120Zm60-500h600v-160H180v160Zm220 220h160v-160H400v160Zm0 220h160v-160H400v160ZM180-400h160v-160H180v160Zm440 0h160v-160H620v160ZM180-180h160v-160H180v160Zm440 0h160v-160H620v160Z\"/>\n",
       "  </svg>\n",
       "    </button>\n",
       "\n",
       "  <style>\n",
       "    .colab-df-container {\n",
       "      display:flex;\n",
       "      gap: 12px;\n",
       "    }\n",
       "\n",
       "    .colab-df-convert {\n",
       "      background-color: #E8F0FE;\n",
       "      border: none;\n",
       "      border-radius: 50%;\n",
       "      cursor: pointer;\n",
       "      display: none;\n",
       "      fill: #1967D2;\n",
       "      height: 32px;\n",
       "      padding: 0 0 0 0;\n",
       "      width: 32px;\n",
       "    }\n",
       "\n",
       "    .colab-df-convert:hover {\n",
       "      background-color: #E2EBFA;\n",
       "      box-shadow: 0px 1px 2px rgba(60, 64, 67, 0.3), 0px 1px 3px 1px rgba(60, 64, 67, 0.15);\n",
       "      fill: #174EA6;\n",
       "    }\n",
       "\n",
       "    .colab-df-buttons div {\n",
       "      margin-bottom: 4px;\n",
       "    }\n",
       "\n",
       "    [theme=dark] .colab-df-convert {\n",
       "      background-color: #3B4455;\n",
       "      fill: #D2E3FC;\n",
       "    }\n",
       "\n",
       "    [theme=dark] .colab-df-convert:hover {\n",
       "      background-color: #434B5C;\n",
       "      box-shadow: 0px 1px 3px 1px rgba(0, 0, 0, 0.15);\n",
       "      filter: drop-shadow(0px 1px 2px rgba(0, 0, 0, 0.3));\n",
       "      fill: #FFFFFF;\n",
       "    }\n",
       "  </style>\n",
       "\n",
       "    <script>\n",
       "      const buttonEl =\n",
       "        document.querySelector('#df-de27c2cb-ddc3-4dfa-8b01-a4856028f3ba button.colab-df-convert');\n",
       "      buttonEl.style.display =\n",
       "        google.colab.kernel.accessAllowed ? 'block' : 'none';\n",
       "\n",
       "      async function convertToInteractive(key) {\n",
       "        const element = document.querySelector('#df-de27c2cb-ddc3-4dfa-8b01-a4856028f3ba');\n",
       "        const dataTable =\n",
       "          await google.colab.kernel.invokeFunction('convertToInteractive',\n",
       "                                                    [key], {});\n",
       "        if (!dataTable) return;\n",
       "\n",
       "        const docLinkHtml = 'Like what you see? Visit the ' +\n",
       "          '<a target=\"_blank\" href=https://colab.research.google.com/notebooks/data_table.ipynb>data table notebook</a>'\n",
       "          + ' to learn more about interactive tables.';\n",
       "        element.innerHTML = '';\n",
       "        dataTable['output_type'] = 'display_data';\n",
       "        await google.colab.output.renderOutput(dataTable, element);\n",
       "        const docLink = document.createElement('div');\n",
       "        docLink.innerHTML = docLinkHtml;\n",
       "        element.appendChild(docLink);\n",
       "      }\n",
       "    </script>\n",
       "  </div>\n",
       "\n",
       "\n",
       "<div id=\"df-98c7aa70-b384-4343-b43f-b02df5eb0452\">\n",
       "  <button class=\"colab-df-quickchart\" onclick=\"quickchart('df-98c7aa70-b384-4343-b43f-b02df5eb0452')\"\n",
       "            title=\"Suggest charts\"\n",
       "            style=\"display:none;\">\n",
       "\n",
       "<svg xmlns=\"http://www.w3.org/2000/svg\" height=\"24px\"viewBox=\"0 0 24 24\"\n",
       "     width=\"24px\">\n",
       "    <g>\n",
       "        <path d=\"M19 3H5c-1.1 0-2 .9-2 2v14c0 1.1.9 2 2 2h14c1.1 0 2-.9 2-2V5c0-1.1-.9-2-2-2zM9 17H7v-7h2v7zm4 0h-2V7h2v10zm4 0h-2v-4h2v4z\"/>\n",
       "    </g>\n",
       "</svg>\n",
       "  </button>\n",
       "\n",
       "<style>\n",
       "  .colab-df-quickchart {\n",
       "      --bg-color: #E8F0FE;\n",
       "      --fill-color: #1967D2;\n",
       "      --hover-bg-color: #E2EBFA;\n",
       "      --hover-fill-color: #174EA6;\n",
       "      --disabled-fill-color: #AAA;\n",
       "      --disabled-bg-color: #DDD;\n",
       "  }\n",
       "\n",
       "  [theme=dark] .colab-df-quickchart {\n",
       "      --bg-color: #3B4455;\n",
       "      --fill-color: #D2E3FC;\n",
       "      --hover-bg-color: #434B5C;\n",
       "      --hover-fill-color: #FFFFFF;\n",
       "      --disabled-bg-color: #3B4455;\n",
       "      --disabled-fill-color: #666;\n",
       "  }\n",
       "\n",
       "  .colab-df-quickchart {\n",
       "    background-color: var(--bg-color);\n",
       "    border: none;\n",
       "    border-radius: 50%;\n",
       "    cursor: pointer;\n",
       "    display: none;\n",
       "    fill: var(--fill-color);\n",
       "    height: 32px;\n",
       "    padding: 0;\n",
       "    width: 32px;\n",
       "  }\n",
       "\n",
       "  .colab-df-quickchart:hover {\n",
       "    background-color: var(--hover-bg-color);\n",
       "    box-shadow: 0 1px 2px rgba(60, 64, 67, 0.3), 0 1px 3px 1px rgba(60, 64, 67, 0.15);\n",
       "    fill: var(--button-hover-fill-color);\n",
       "  }\n",
       "\n",
       "  .colab-df-quickchart-complete:disabled,\n",
       "  .colab-df-quickchart-complete:disabled:hover {\n",
       "    background-color: var(--disabled-bg-color);\n",
       "    fill: var(--disabled-fill-color);\n",
       "    box-shadow: none;\n",
       "  }\n",
       "\n",
       "  .colab-df-spinner {\n",
       "    border: 2px solid var(--fill-color);\n",
       "    border-color: transparent;\n",
       "    border-bottom-color: var(--fill-color);\n",
       "    animation:\n",
       "      spin 1s steps(1) infinite;\n",
       "  }\n",
       "\n",
       "  @keyframes spin {\n",
       "    0% {\n",
       "      border-color: transparent;\n",
       "      border-bottom-color: var(--fill-color);\n",
       "      border-left-color: var(--fill-color);\n",
       "    }\n",
       "    20% {\n",
       "      border-color: transparent;\n",
       "      border-left-color: var(--fill-color);\n",
       "      border-top-color: var(--fill-color);\n",
       "    }\n",
       "    30% {\n",
       "      border-color: transparent;\n",
       "      border-left-color: var(--fill-color);\n",
       "      border-top-color: var(--fill-color);\n",
       "      border-right-color: var(--fill-color);\n",
       "    }\n",
       "    40% {\n",
       "      border-color: transparent;\n",
       "      border-right-color: var(--fill-color);\n",
       "      border-top-color: var(--fill-color);\n",
       "    }\n",
       "    60% {\n",
       "      border-color: transparent;\n",
       "      border-right-color: var(--fill-color);\n",
       "    }\n",
       "    80% {\n",
       "      border-color: transparent;\n",
       "      border-right-color: var(--fill-color);\n",
       "      border-bottom-color: var(--fill-color);\n",
       "    }\n",
       "    90% {\n",
       "      border-color: transparent;\n",
       "      border-bottom-color: var(--fill-color);\n",
       "    }\n",
       "  }\n",
       "</style>\n",
       "\n",
       "  <script>\n",
       "    async function quickchart(key) {\n",
       "      const quickchartButtonEl =\n",
       "        document.querySelector('#' + key + ' button');\n",
       "      quickchartButtonEl.disabled = true;  // To prevent multiple clicks.\n",
       "      quickchartButtonEl.classList.add('colab-df-spinner');\n",
       "      try {\n",
       "        const charts = await google.colab.kernel.invokeFunction(\n",
       "            'suggestCharts', [key], {});\n",
       "      } catch (error) {\n",
       "        console.error('Error during call to suggestCharts:', error);\n",
       "      }\n",
       "      quickchartButtonEl.classList.remove('colab-df-spinner');\n",
       "      quickchartButtonEl.classList.add('colab-df-quickchart-complete');\n",
       "    }\n",
       "    (() => {\n",
       "      let quickchartButtonEl =\n",
       "        document.querySelector('#df-98c7aa70-b384-4343-b43f-b02df5eb0452 button');\n",
       "      quickchartButtonEl.style.display =\n",
       "        google.colab.kernel.accessAllowed ? 'block' : 'none';\n",
       "    })();\n",
       "  </script>\n",
       "</div>\n",
       "\n",
       "    </div>\n",
       "  </div>\n"
      ],
      "text/plain": [
       "                        count         mean        std        min        25%  \\\n",
       "user_id                 100.0  546517.0000  52.295779  546443.00  546467.75   \n",
       "time_spent_on_the_page  100.0       5.3778   2.378166       0.19       3.88   \n",
       "\n",
       "                               50%          75%        max  \n",
       "user_id                 546492.500  546567.2500  546592.00  \n",
       "time_spent_on_the_page       5.415       7.0225      10.71  "
      ]
     },
     "execution_count": 31,
     "metadata": {},
     "output_type": "execute_result"
    }
   ],
   "source": [
    "dfnews.describe().T"
   ]
  },
  {
   "cell_type": "markdown",
   "id": "Tp-olCOyWyr7",
   "metadata": {
    "id": "Tp-olCOyWyr7"
   },
   "source": [
    "1. There are 2 numerical variables, user_id and time_spent_on_the_page.\n",
    "\n",
    "2. user_idis just a serialisation of records\n",
    "\n",
    "3. time_spent_on_the_page has a mean of time_spent_on_the_page and a standard deviation of 2.378\n",
    "\n",
    "4. time_spent_on_the_page has a minimum of 0.19 and a maximum of 10.71. Meaning that the user that spent the least time on the page spent 0.19 minutes while the one spending most time was there for 10.71 minutes\n",
    "\n",
    "5. In the numerical variable, 'time_spent_on_the_page', the mean is close to the median (50th percentile) suggesting that the data is approximately normally distributed or symmetrically distributed.\n",
    "\n",
    "6. The IQR (the difference between the 75th and 25th percentile values) is between 3.88 and 7.02. Assuming it is a normal distribution, approximately 68% of the data falls within one standard deviation of the mean. ."
   ]
  },
  {
   "cell_type": "code",
   "execution_count": null,
   "id": "ThIeYpVXWyX9",
   "metadata": {
    "colab": {
     "base_uri": "https://localhost:8080/"
    },
    "id": "ThIeYpVXWyX9",
    "outputId": "045044b6-370b-4047-bdbd-7714e3cc7ac0"
   },
   "outputs": [
    {
     "data": {
      "text/plain": [
       "user_id                   0\n",
       "group                     0\n",
       "landing_page              0\n",
       "time_spent_on_the_page    0\n",
       "converted                 0\n",
       "language_preferred        0\n",
       "dtype: int64"
      ]
     },
     "execution_count": 36,
     "metadata": {},
     "output_type": "execute_result"
    }
   ],
   "source": [
    "dfnews.isna().sum()"
   ]
  },
  {
   "cell_type": "markdown",
   "id": "shqFTUh4ayJn",
   "metadata": {
    "id": "shqFTUh4ayJn"
   },
   "source": [
    "There are no missing value"
   ]
  },
  {
   "cell_type": "code",
   "execution_count": null,
   "id": "p4OU3vX2a2Dk",
   "metadata": {
    "colab": {
     "base_uri": "https://localhost:8080/"
    },
    "id": "p4OU3vX2a2Dk",
    "outputId": "efb12f40-d8b4-4723-ed96-8e323b2f8ba9"
   },
   "outputs": [
    {
     "data": {
      "text/plain": [
       "0"
      ]
     },
     "execution_count": 37,
     "metadata": {},
     "output_type": "execute_result"
    }
   ],
   "source": [
    "dfnews.duplicated().sum()"
   ]
  },
  {
   "cell_type": "markdown",
   "id": "pYdz_icIa8q1",
   "metadata": {
    "id": "pYdz_icIa8q1"
   },
   "source": [
    "There are no duplicated values in the data"
   ]
  },
  {
   "cell_type": "code",
   "execution_count": null,
   "id": "wmyjIvp8WjnR",
   "metadata": {
    "colab": {
     "base_uri": "https://localhost:8080/",
     "height": 174
    },
    "id": "wmyjIvp8WjnR",
    "outputId": "c28affe1-385f-4e35-c7f5-4626453a941b"
   },
   "outputs": [
    {
     "data": {
      "application/vnd.google.colaboratory.intrinsic+json": {
       "summary": "{\n  \"name\": \"dfnews\",\n  \"rows\": 4,\n  \"fields\": [\n    {\n      \"column\": \"count\",\n      \"properties\": {\n        \"dtype\": \"date\",\n        \"min\": \"100\",\n        \"max\": \"100\",\n        \"num_unique_values\": 1,\n        \"samples\": [\n          \"100\"\n        ],\n        \"semantic_type\": \"\",\n        \"description\": \"\"\n      }\n    },\n    {\n      \"column\": \"unique\",\n      \"properties\": {\n        \"dtype\": \"date\",\n        \"min\": 2,\n        \"max\": 3,\n        \"num_unique_values\": 2,\n        \"samples\": [\n          3\n        ],\n        \"semantic_type\": \"\",\n        \"description\": \"\"\n      }\n    },\n    {\n      \"column\": \"top\",\n      \"properties\": {\n        \"dtype\": \"string\",\n        \"num_unique_values\": 4,\n        \"samples\": [\n          \"old\"\n        ],\n        \"semantic_type\": \"\",\n        \"description\": \"\"\n      }\n    },\n    {\n      \"column\": \"freq\",\n      \"properties\": {\n        \"dtype\": \"date\",\n        \"min\": \"34\",\n        \"max\": \"54\",\n        \"num_unique_values\": 3,\n        \"samples\": [\n          \"50\"\n        ],\n        \"semantic_type\": \"\",\n        \"description\": \"\"\n      }\n    }\n  ]\n}",
       "type": "dataframe"
      },
      "text/html": [
       "\n",
       "  <div id=\"df-b7c28acf-315e-44b8-931a-82fdd177ca8d\" class=\"colab-df-container\">\n",
       "    <div>\n",
       "<style scoped>\n",
       "    .dataframe tbody tr th:only-of-type {\n",
       "        vertical-align: middle;\n",
       "    }\n",
       "\n",
       "    .dataframe tbody tr th {\n",
       "        vertical-align: top;\n",
       "    }\n",
       "\n",
       "    .dataframe thead th {\n",
       "        text-align: right;\n",
       "    }\n",
       "</style>\n",
       "<table border=\"1\" class=\"dataframe\">\n",
       "  <thead>\n",
       "    <tr style=\"text-align: right;\">\n",
       "      <th></th>\n",
       "      <th>count</th>\n",
       "      <th>unique</th>\n",
       "      <th>top</th>\n",
       "      <th>freq</th>\n",
       "    </tr>\n",
       "  </thead>\n",
       "  <tbody>\n",
       "    <tr>\n",
       "      <th>group</th>\n",
       "      <td>100</td>\n",
       "      <td>2</td>\n",
       "      <td>control</td>\n",
       "      <td>50</td>\n",
       "    </tr>\n",
       "    <tr>\n",
       "      <th>landing_page</th>\n",
       "      <td>100</td>\n",
       "      <td>2</td>\n",
       "      <td>old</td>\n",
       "      <td>50</td>\n",
       "    </tr>\n",
       "    <tr>\n",
       "      <th>converted</th>\n",
       "      <td>100</td>\n",
       "      <td>2</td>\n",
       "      <td>yes</td>\n",
       "      <td>54</td>\n",
       "    </tr>\n",
       "    <tr>\n",
       "      <th>language_preferred</th>\n",
       "      <td>100</td>\n",
       "      <td>3</td>\n",
       "      <td>Spanish</td>\n",
       "      <td>34</td>\n",
       "    </tr>\n",
       "  </tbody>\n",
       "</table>\n",
       "</div>\n",
       "    <div class=\"colab-df-buttons\">\n",
       "\n",
       "  <div class=\"colab-df-container\">\n",
       "    <button class=\"colab-df-convert\" onclick=\"convertToInteractive('df-b7c28acf-315e-44b8-931a-82fdd177ca8d')\"\n",
       "            title=\"Convert this dataframe to an interactive table.\"\n",
       "            style=\"display:none;\">\n",
       "\n",
       "  <svg xmlns=\"http://www.w3.org/2000/svg\" height=\"24px\" viewBox=\"0 -960 960 960\">\n",
       "    <path d=\"M120-120v-720h720v720H120Zm60-500h600v-160H180v160Zm220 220h160v-160H400v160Zm0 220h160v-160H400v160ZM180-400h160v-160H180v160Zm440 0h160v-160H620v160ZM180-180h160v-160H180v160Zm440 0h160v-160H620v160Z\"/>\n",
       "  </svg>\n",
       "    </button>\n",
       "\n",
       "  <style>\n",
       "    .colab-df-container {\n",
       "      display:flex;\n",
       "      gap: 12px;\n",
       "    }\n",
       "\n",
       "    .colab-df-convert {\n",
       "      background-color: #E8F0FE;\n",
       "      border: none;\n",
       "      border-radius: 50%;\n",
       "      cursor: pointer;\n",
       "      display: none;\n",
       "      fill: #1967D2;\n",
       "      height: 32px;\n",
       "      padding: 0 0 0 0;\n",
       "      width: 32px;\n",
       "    }\n",
       "\n",
       "    .colab-df-convert:hover {\n",
       "      background-color: #E2EBFA;\n",
       "      box-shadow: 0px 1px 2px rgba(60, 64, 67, 0.3), 0px 1px 3px 1px rgba(60, 64, 67, 0.15);\n",
       "      fill: #174EA6;\n",
       "    }\n",
       "\n",
       "    .colab-df-buttons div {\n",
       "      margin-bottom: 4px;\n",
       "    }\n",
       "\n",
       "    [theme=dark] .colab-df-convert {\n",
       "      background-color: #3B4455;\n",
       "      fill: #D2E3FC;\n",
       "    }\n",
       "\n",
       "    [theme=dark] .colab-df-convert:hover {\n",
       "      background-color: #434B5C;\n",
       "      box-shadow: 0px 1px 3px 1px rgba(0, 0, 0, 0.15);\n",
       "      filter: drop-shadow(0px 1px 2px rgba(0, 0, 0, 0.3));\n",
       "      fill: #FFFFFF;\n",
       "    }\n",
       "  </style>\n",
       "\n",
       "    <script>\n",
       "      const buttonEl =\n",
       "        document.querySelector('#df-b7c28acf-315e-44b8-931a-82fdd177ca8d button.colab-df-convert');\n",
       "      buttonEl.style.display =\n",
       "        google.colab.kernel.accessAllowed ? 'block' : 'none';\n",
       "\n",
       "      async function convertToInteractive(key) {\n",
       "        const element = document.querySelector('#df-b7c28acf-315e-44b8-931a-82fdd177ca8d');\n",
       "        const dataTable =\n",
       "          await google.colab.kernel.invokeFunction('convertToInteractive',\n",
       "                                                    [key], {});\n",
       "        if (!dataTable) return;\n",
       "\n",
       "        const docLinkHtml = 'Like what you see? Visit the ' +\n",
       "          '<a target=\"_blank\" href=https://colab.research.google.com/notebooks/data_table.ipynb>data table notebook</a>'\n",
       "          + ' to learn more about interactive tables.';\n",
       "        element.innerHTML = '';\n",
       "        dataTable['output_type'] = 'display_data';\n",
       "        await google.colab.output.renderOutput(dataTable, element);\n",
       "        const docLink = document.createElement('div');\n",
       "        docLink.innerHTML = docLinkHtml;\n",
       "        element.appendChild(docLink);\n",
       "      }\n",
       "    </script>\n",
       "  </div>\n",
       "\n",
       "\n",
       "<div id=\"df-6d77238c-adbd-44f8-9ace-17961ee36e82\">\n",
       "  <button class=\"colab-df-quickchart\" onclick=\"quickchart('df-6d77238c-adbd-44f8-9ace-17961ee36e82')\"\n",
       "            title=\"Suggest charts\"\n",
       "            style=\"display:none;\">\n",
       "\n",
       "<svg xmlns=\"http://www.w3.org/2000/svg\" height=\"24px\"viewBox=\"0 0 24 24\"\n",
       "     width=\"24px\">\n",
       "    <g>\n",
       "        <path d=\"M19 3H5c-1.1 0-2 .9-2 2v14c0 1.1.9 2 2 2h14c1.1 0 2-.9 2-2V5c0-1.1-.9-2-2-2zM9 17H7v-7h2v7zm4 0h-2V7h2v10zm4 0h-2v-4h2v4z\"/>\n",
       "    </g>\n",
       "</svg>\n",
       "  </button>\n",
       "\n",
       "<style>\n",
       "  .colab-df-quickchart {\n",
       "      --bg-color: #E8F0FE;\n",
       "      --fill-color: #1967D2;\n",
       "      --hover-bg-color: #E2EBFA;\n",
       "      --hover-fill-color: #174EA6;\n",
       "      --disabled-fill-color: #AAA;\n",
       "      --disabled-bg-color: #DDD;\n",
       "  }\n",
       "\n",
       "  [theme=dark] .colab-df-quickchart {\n",
       "      --bg-color: #3B4455;\n",
       "      --fill-color: #D2E3FC;\n",
       "      --hover-bg-color: #434B5C;\n",
       "      --hover-fill-color: #FFFFFF;\n",
       "      --disabled-bg-color: #3B4455;\n",
       "      --disabled-fill-color: #666;\n",
       "  }\n",
       "\n",
       "  .colab-df-quickchart {\n",
       "    background-color: var(--bg-color);\n",
       "    border: none;\n",
       "    border-radius: 50%;\n",
       "    cursor: pointer;\n",
       "    display: none;\n",
       "    fill: var(--fill-color);\n",
       "    height: 32px;\n",
       "    padding: 0;\n",
       "    width: 32px;\n",
       "  }\n",
       "\n",
       "  .colab-df-quickchart:hover {\n",
       "    background-color: var(--hover-bg-color);\n",
       "    box-shadow: 0 1px 2px rgba(60, 64, 67, 0.3), 0 1px 3px 1px rgba(60, 64, 67, 0.15);\n",
       "    fill: var(--button-hover-fill-color);\n",
       "  }\n",
       "\n",
       "  .colab-df-quickchart-complete:disabled,\n",
       "  .colab-df-quickchart-complete:disabled:hover {\n",
       "    background-color: var(--disabled-bg-color);\n",
       "    fill: var(--disabled-fill-color);\n",
       "    box-shadow: none;\n",
       "  }\n",
       "\n",
       "  .colab-df-spinner {\n",
       "    border: 2px solid var(--fill-color);\n",
       "    border-color: transparent;\n",
       "    border-bottom-color: var(--fill-color);\n",
       "    animation:\n",
       "      spin 1s steps(1) infinite;\n",
       "  }\n",
       "\n",
       "  @keyframes spin {\n",
       "    0% {\n",
       "      border-color: transparent;\n",
       "      border-bottom-color: var(--fill-color);\n",
       "      border-left-color: var(--fill-color);\n",
       "    }\n",
       "    20% {\n",
       "      border-color: transparent;\n",
       "      border-left-color: var(--fill-color);\n",
       "      border-top-color: var(--fill-color);\n",
       "    }\n",
       "    30% {\n",
       "      border-color: transparent;\n",
       "      border-left-color: var(--fill-color);\n",
       "      border-top-color: var(--fill-color);\n",
       "      border-right-color: var(--fill-color);\n",
       "    }\n",
       "    40% {\n",
       "      border-color: transparent;\n",
       "      border-right-color: var(--fill-color);\n",
       "      border-top-color: var(--fill-color);\n",
       "    }\n",
       "    60% {\n",
       "      border-color: transparent;\n",
       "      border-right-color: var(--fill-color);\n",
       "    }\n",
       "    80% {\n",
       "      border-color: transparent;\n",
       "      border-right-color: var(--fill-color);\n",
       "      border-bottom-color: var(--fill-color);\n",
       "    }\n",
       "    90% {\n",
       "      border-color: transparent;\n",
       "      border-bottom-color: var(--fill-color);\n",
       "    }\n",
       "  }\n",
       "</style>\n",
       "\n",
       "  <script>\n",
       "    async function quickchart(key) {\n",
       "      const quickchartButtonEl =\n",
       "        document.querySelector('#' + key + ' button');\n",
       "      quickchartButtonEl.disabled = true;  // To prevent multiple clicks.\n",
       "      quickchartButtonEl.classList.add('colab-df-spinner');\n",
       "      try {\n",
       "        const charts = await google.colab.kernel.invokeFunction(\n",
       "            'suggestCharts', [key], {});\n",
       "      } catch (error) {\n",
       "        console.error('Error during call to suggestCharts:', error);\n",
       "      }\n",
       "      quickchartButtonEl.classList.remove('colab-df-spinner');\n",
       "      quickchartButtonEl.classList.add('colab-df-quickchart-complete');\n",
       "    }\n",
       "    (() => {\n",
       "      let quickchartButtonEl =\n",
       "        document.querySelector('#df-6d77238c-adbd-44f8-9ace-17961ee36e82 button');\n",
       "      quickchartButtonEl.style.display =\n",
       "        google.colab.kernel.accessAllowed ? 'block' : 'none';\n",
       "    })();\n",
       "  </script>\n",
       "</div>\n",
       "\n",
       "    </div>\n",
       "  </div>\n"
      ],
      "text/plain": [
       "                   count unique      top freq\n",
       "group                100      2  control   50\n",
       "landing_page         100      2      old   50\n",
       "converted            100      2      yes   54\n",
       "language_preferred   100      3  Spanish   34"
      ]
     },
     "execution_count": 38,
     "metadata": {},
     "output_type": "execute_result"
    }
   ],
   "source": [
    "dfnews.describe(include=\"object\").T"
   ]
  },
  {
   "cell_type": "markdown",
   "id": "lMi7eGZncKlJ",
   "metadata": {
    "id": "lMi7eGZncKlJ"
   },
   "source": [
    "For the categorical variables:\n",
    "1. \"group\" has 2 unique values with \"control\" constituting of 50 entries or 50% of the entries\n",
    "2. \"landing_page\" has 2 unique values with \"old\" constituting of 50 entries or 50% of the entries\n",
    "3. \"converted\" has 2 unique values with \"yes\" constituting of 54 entries or 54% of the entries\n",
    "4. \"language_preferred\" has 3 unique values with \"Spanish\" constituting of 34 entries or 34% of the entries"
   ]
  },
  {
   "cell_type": "markdown",
   "id": "-Z2fMKS3bDDY",
   "metadata": {
    "id": "-Z2fMKS3bDDY"
   },
   "source": []
  },
  {
   "cell_type": "markdown",
   "id": "68f3b2c9",
   "metadata": {
    "id": "68f3b2c9"
   },
   "source": [
    "### Univariate Analysis"
   ]
  },
  {
   "cell_type": "code",
   "execution_count": null,
   "id": "1932d0f3",
   "metadata": {
    "colab": {
     "base_uri": "https://localhost:8080/"
    },
    "id": "1932d0f3",
    "outputId": "b092bf7a-1cfe-4103-b4c9-ce8d5912bf0b"
   },
   "outputs": [
    {
     "name": "stdout",
     "output_type": "stream",
     "text": [
      "<class 'pandas.core.frame.DataFrame'>\n",
      "RangeIndex: 100 entries, 0 to 99\n",
      "Data columns (total 6 columns):\n",
      " #   Column                  Non-Null Count  Dtype  \n",
      "---  ------                  --------------  -----  \n",
      " 0   user_id                 100 non-null    int64  \n",
      " 1   group                   100 non-null    object \n",
      " 2   landing_page            100 non-null    object \n",
      " 3   time_spent_on_the_page  100 non-null    float64\n",
      " 4   converted               100 non-null    object \n",
      " 5   language_preferred      100 non-null    object \n",
      "dtypes: float64(1), int64(1), object(4)\n",
      "memory usage: 4.8+ KB\n"
     ]
    }
   ],
   "source": [
    "dfnews.info()"
   ]
  },
  {
   "cell_type": "code",
   "execution_count": null,
   "id": "58e9a1d0",
   "metadata": {
    "colab": {
     "base_uri": "https://localhost:8080/"
    },
    "id": "58e9a1d0",
    "outputId": "218d10ff-fd83-4f85-e3d9-957403eede14"
   },
   "outputs": [
    {
     "data": {
      "text/plain": [
       "group\n",
       "control      50\n",
       "treatment    50\n",
       "Name: count, dtype: int64"
      ]
     },
     "execution_count": 41,
     "metadata": {},
     "output_type": "execute_result"
    }
   ],
   "source": [
    "dfnews.group.value_counts()"
   ]
  },
  {
   "cell_type": "markdown",
   "id": "IYbIONPeepZt",
   "metadata": {
    "id": "IYbIONPeepZt"
   },
   "source": [
    "Group has 50 entries with value \"control\" and 50 entries with value \"treatment\""
   ]
  },
  {
   "cell_type": "code",
   "execution_count": null,
   "id": "QIPQA_qle39B",
   "metadata": {
    "colab": {
     "base_uri": "https://localhost:8080/",
     "height": 410
    },
    "id": "QIPQA_qle39B",
    "outputId": "63fbba3d-d5ee-4f34-ee53-c894515fe478"
   },
   "outputs": [
    {
     "data": {
      "image/png": "[encoded data removed]",
      "text/plain": [
       "<Figure size 600x400 with 1 Axes>"
      ]
     },
     "metadata": {},
     "output_type": "display_data"
    }
   ],
   "source": [
    "plt.figure(figsize=(6,4))\n",
    "sns.countplot(data=dfnews, x='group')\n",
    "plt.title('Count of Users by Group')\n",
    "plt.xlabel('Group')\n",
    "plt.ylabel('Count')\n",
    "plt.show()"
   ]
  },
  {
   "cell_type": "markdown",
   "id": "FPbuSt-DhZVD",
   "metadata": {
    "id": "FPbuSt-DhZVD"
   },
   "source": [
    "1. Users are divided into two groups: control and treatment. Each has group has 50 users.\n",
    "\n",
    "2. The sample has therefore been randomly split into two equal-sized groups, with each group having an equal chance of being assigned to the control or treatment group."
   ]
  },
  {
   "cell_type": "code",
   "execution_count": null,
   "id": "IL4MjyK5hsxY",
   "metadata": {
    "colab": {
     "base_uri": "https://localhost:8080/"
    },
    "id": "IL4MjyK5hsxY",
    "outputId": "4e474482-21c4-473b-ed91-1d1cce4687a9"
   },
   "outputs": [
    {
     "data": {
      "text/plain": [
       "landing_page\n",
       "old    50\n",
       "new    50\n",
       "Name: count, dtype: int64"
      ]
     },
     "execution_count": 55,
     "metadata": {},
     "output_type": "execute_result"
    }
   ],
   "source": [
    "dfnews.landing_page.value_counts()"
   ]
  },
  {
   "cell_type": "markdown",
   "id": "zgjkbpW3iBb7",
   "metadata": {
    "id": "zgjkbpW3iBb7"
   },
   "source": [
    "landing_page has 50 entries with value \"old\" and 50 entries with value \"new\""
   ]
  },
  {
   "cell_type": "code",
   "execution_count": null,
   "id": "IJ7-PpmCiNuj",
   "metadata": {
    "colab": {
     "base_uri": "https://localhost:8080/",
     "height": 410
    },
    "id": "IJ7-PpmCiNuj",
    "outputId": "f8256c0c-7670-4bd7-d533-b908dbb9fd1a"
   },
   "outputs": [
    {
     "data": {
      "image/png": "[encoded data removed]",
      "text/plain": [
       "<Figure size 600x400 with 1 Axes>"
      ]
     },
     "metadata": {},
     "output_type": "display_data"
    }
   ],
   "source": [
    "plt.figure(figsize=(6,4))\n",
    "sns.countplot(data=dfnews, x='landing_page')\n",
    "plt.title('Count of Users by landing_page')\n",
    "plt.xlabel('Landing page')\n",
    "plt.ylabel('Count')\n",
    "plt.show()"
   ]
  },
  {
   "cell_type": "markdown",
   "id": "3Kjdq4uTivsT",
   "metadata": {
    "id": "3Kjdq4uTivsT"
   },
   "source": [
    "1. 50 of the users' landing page is the old (existing) version and 50 users' landing page is the new version.\n",
    "2. The sample has therefore been randomly split into two equal-sized groups, with each group having an equal chance of being assigned to the old or new landing page.\n",
    "3. It is important to establish if the users landing page depends on the \"group\" above"
   ]
  },
  {
   "cell_type": "code",
   "execution_count": null,
   "id": "nyF1D5IzjVic",
   "metadata": {
    "colab": {
     "base_uri": "https://localhost:8080/",
     "height": 443
    },
    "id": "nyF1D5IzjVic",
    "outputId": "5716ac93-5dab-4f16-c0f0-7f4abb04d39f"
   },
   "outputs": [
    {
     "data": {
      "application/vnd.google.colaboratory.intrinsic+json": {
       "summary": "{\n  \"name\": \"dftest\",\n  \"rows\": 100,\n  \"fields\": [\n    {\n      \"column\": \"user_id\",\n      \"properties\": {\n        \"dtype\": \"number\",\n        \"std\": 52,\n        \"min\": 546443,\n        \"max\": 546592,\n        \"num_unique_values\": 100,\n        \"samples\": [\n          546580,\n          546576,\n          546568\n        ],\n        \"semantic_type\": \"\",\n        \"description\": \"\"\n      }\n    },\n    {\n      \"column\": \"group\",\n      \"properties\": {\n        \"dtype\": \"category\",\n        \"num_unique_values\": 2,\n        \"samples\": [\n          \"treatment\",\n          \"control\"\n        ],\n        \"semantic_type\": \"\",\n        \"description\": \"\"\n      }\n    },\n    {\n      \"column\": \"landing_page\",\n      \"properties\": {\n        \"dtype\": \"category\",\n        \"num_unique_values\": 2,\n        \"samples\": [\n          \"new\",\n          \"old\"\n        ],\n        \"semantic_type\": \"\",\n        \"description\": \"\"\n      }\n    },\n    {\n      \"column\": \"time_spent_on_the_page\",\n      \"properties\": {\n        \"dtype\": \"number\",\n        \"std\": 2.378166078933492,\n        \"min\": 0.19,\n        \"max\": 10.71,\n        \"num_unique_values\": 94,\n        \"samples\": [\n          8.46,\n          3.65\n        ],\n        \"semantic_type\": \"\",\n        \"description\": \"\"\n      }\n    },\n    {\n      \"column\": \"converted\",\n      \"properties\": {\n        \"dtype\": \"category\",\n        \"num_unique_values\": 2,\n        \"samples\": [\n          \"yes\",\n          \"no\"\n        ],\n        \"semantic_type\": \"\",\n        \"description\": \"\"\n      }\n    },\n    {\n      \"column\": \"language_preferred\",\n      \"properties\": {\n        \"dtype\": \"category\",\n        \"num_unique_values\": 3,\n        \"samples\": [\n          \"Spanish\",\n          \"English\"\n        ],\n        \"semantic_type\": \"\",\n        \"description\": \"\"\n      }\n    }\n  ]\n}",
       "type": "dataframe",
       "variable_name": "dftest"
      },
      "text/html": [
       "\n",
       "  <div id=\"df-e523685e-4f96-40c4-873b-90aba94f486d\" class=\"colab-df-container\">\n",
       "    <div>\n",
       "<style scoped>\n",
       "    .dataframe tbody tr th:only-of-type {\n",
       "        vertical-align: middle;\n",
       "    }\n",
       "\n",
       "    .dataframe tbody tr th {\n",
       "        vertical-align: top;\n",
       "    }\n",
       "\n",
       "    .dataframe thead th {\n",
       "        text-align: right;\n",
       "    }\n",
       "</style>\n",
       "<table border=\"1\" class=\"dataframe\">\n",
       "  <thead>\n",
       "    <tr style=\"text-align: right;\">\n",
       "      <th></th>\n",
       "      <th>user_id</th>\n",
       "      <th>group</th>\n",
       "      <th>landing_page</th>\n",
       "      <th>time_spent_on_the_page</th>\n",
       "      <th>converted</th>\n",
       "      <th>language_preferred</th>\n",
       "    </tr>\n",
       "  </thead>\n",
       "  <tbody>\n",
       "    <tr>\n",
       "      <th>0</th>\n",
       "      <td>546592</td>\n",
       "      <td>control</td>\n",
       "      <td>old</td>\n",
       "      <td>3.48</td>\n",
       "      <td>no</td>\n",
       "      <td>Spanish</td>\n",
       "    </tr>\n",
       "    <tr>\n",
       "      <th>1</th>\n",
       "      <td>546468</td>\n",
       "      <td>treatment</td>\n",
       "      <td>new</td>\n",
       "      <td>7.13</td>\n",
       "      <td>yes</td>\n",
       "      <td>English</td>\n",
       "    </tr>\n",
       "    <tr>\n",
       "      <th>2</th>\n",
       "      <td>546462</td>\n",
       "      <td>treatment</td>\n",
       "      <td>new</td>\n",
       "      <td>4.40</td>\n",
       "      <td>no</td>\n",
       "      <td>Spanish</td>\n",
       "    </tr>\n",
       "    <tr>\n",
       "      <th>3</th>\n",
       "      <td>546567</td>\n",
       "      <td>control</td>\n",
       "      <td>old</td>\n",
       "      <td>3.02</td>\n",
       "      <td>no</td>\n",
       "      <td>French</td>\n",
       "    </tr>\n",
       "    <tr>\n",
       "      <th>4</th>\n",
       "      <td>546459</td>\n",
       "      <td>treatment</td>\n",
       "      <td>new</td>\n",
       "      <td>4.75</td>\n",
       "      <td>yes</td>\n",
       "      <td>Spanish</td>\n",
       "    </tr>\n",
       "    <tr>\n",
       "      <th>...</th>\n",
       "      <td>...</td>\n",
       "      <td>...</td>\n",
       "      <td>...</td>\n",
       "      <td>...</td>\n",
       "      <td>...</td>\n",
       "      <td>...</td>\n",
       "    </tr>\n",
       "    <tr>\n",
       "      <th>95</th>\n",
       "      <td>546446</td>\n",
       "      <td>treatment</td>\n",
       "      <td>new</td>\n",
       "      <td>5.15</td>\n",
       "      <td>no</td>\n",
       "      <td>Spanish</td>\n",
       "    </tr>\n",
       "    <tr>\n",
       "      <th>96</th>\n",
       "      <td>546544</td>\n",
       "      <td>control</td>\n",
       "      <td>old</td>\n",
       "      <td>6.52</td>\n",
       "      <td>yes</td>\n",
       "      <td>English</td>\n",
       "    </tr>\n",
       "    <tr>\n",
       "      <th>97</th>\n",
       "      <td>546472</td>\n",
       "      <td>treatment</td>\n",
       "      <td>new</td>\n",
       "      <td>7.07</td>\n",
       "      <td>yes</td>\n",
       "      <td>Spanish</td>\n",
       "    </tr>\n",
       "    <tr>\n",
       "      <th>98</th>\n",
       "      <td>546481</td>\n",
       "      <td>treatment</td>\n",
       "      <td>new</td>\n",
       "      <td>6.20</td>\n",
       "      <td>yes</td>\n",
       "      <td>Spanish</td>\n",
       "    </tr>\n",
       "    <tr>\n",
       "      <th>99</th>\n",
       "      <td>546483</td>\n",
       "      <td>treatment</td>\n",
       "      <td>new</td>\n",
       "      <td>5.86</td>\n",
       "      <td>yes</td>\n",
       "      <td>English</td>\n",
       "    </tr>\n",
       "  </tbody>\n",
       "</table>\n",
       "<p>100 rows × 6 columns</p>\n",
       "</div>\n",
       "    <div class=\"colab-df-buttons\">\n",
       "\n",
       "  <div class=\"colab-df-container\">\n",
       "    <button class=\"colab-df-convert\" onclick=\"convertToInteractive('df-e523685e-4f96-40c4-873b-90aba94f486d')\"\n",
       "            title=\"Convert this dataframe to an interactive table.\"\n",
       "            style=\"display:none;\">\n",
       "\n",
       "  <svg xmlns=\"http://www.w3.org/2000/svg\" height=\"24px\" viewBox=\"0 -960 960 960\">\n",
       "    <path d=\"M120-120v-720h720v720H120Zm60-500h600v-160H180v160Zm220 220h160v-160H400v160Zm0 220h160v-160H400v160ZM180-400h160v-160H180v160Zm440 0h160v-160H620v160ZM180-180h160v-160H180v160Zm440 0h160v-160H620v160Z\"/>\n",
       "  </svg>\n",
       "    </button>\n",
       "\n",
       "  <style>\n",
       "    .colab-df-container {\n",
       "      display:flex;\n",
       "      gap: 12px;\n",
       "    }\n",
       "\n",
       "    .colab-df-convert {\n",
       "      background-color: #E8F0FE;\n",
       "      border: none;\n",
       "      border-radius: 50%;\n",
       "      cursor: pointer;\n",
       "      display: none;\n",
       "      fill: #1967D2;\n",
       "      height: 32px;\n",
       "      padding: 0 0 0 0;\n",
       "      width: 32px;\n",
       "    }\n",
       "\n",
       "    .colab-df-convert:hover {\n",
       "      background-color: #E2EBFA;\n",
       "      box-shadow: 0px 1px 2px rgba(60, 64, 67, 0.3), 0px 1px 3px 1px rgba(60, 64, 67, 0.15);\n",
       "      fill: #174EA6;\n",
       "    }\n",
       "\n",
       "    .colab-df-buttons div {\n",
       "      margin-bottom: 4px;\n",
       "    }\n",
       "\n",
       "    [theme=dark] .colab-df-convert {\n",
       "      background-color: #3B4455;\n",
       "      fill: #D2E3FC;\n",
       "    }\n",
       "\n",
       "    [theme=dark] .colab-df-convert:hover {\n",
       "      background-color: #434B5C;\n",
       "      box-shadow: 0px 1px 3px 1px rgba(0, 0, 0, 0.15);\n",
       "      filter: drop-shadow(0px 1px 2px rgba(0, 0, 0, 0.3));\n",
       "      fill: #FFFFFF;\n",
       "    }\n",
       "  </style>\n",
       "\n",
       "    <script>\n",
       "      const buttonEl =\n",
       "        document.querySelector('#df-e523685e-4f96-40c4-873b-90aba94f486d button.colab-df-convert');\n",
       "      buttonEl.style.display =\n",
       "        google.colab.kernel.accessAllowed ? 'block' : 'none';\n",
       "\n",
       "      async function convertToInteractive(key) {\n",
       "        const element = document.querySelector('#df-e523685e-4f96-40c4-873b-90aba94f486d');\n",
       "        const dataTable =\n",
       "          await google.colab.kernel.invokeFunction('convertToInteractive',\n",
       "                                                    [key], {});\n",
       "        if (!dataTable) return;\n",
       "\n",
       "        const docLinkHtml = 'Like what you see? Visit the ' +\n",
       "          '<a target=\"_blank\" href=https://colab.research.google.com/notebooks/data_table.ipynb>data table notebook</a>'\n",
       "          + ' to learn more about interactive tables.';\n",
       "        element.innerHTML = '';\n",
       "        dataTable['output_type'] = 'display_data';\n",
       "        await google.colab.output.renderOutput(dataTable, element);\n",
       "        const docLink = document.createElement('div');\n",
       "        docLink.innerHTML = docLinkHtml;\n",
       "        element.appendChild(docLink);\n",
       "      }\n",
       "    </script>\n",
       "  </div>\n",
       "\n",
       "\n",
       "<div id=\"df-f70e9a28-2dd5-4063-bd63-e184ad96509f\">\n",
       "  <button class=\"colab-df-quickchart\" onclick=\"quickchart('df-f70e9a28-2dd5-4063-bd63-e184ad96509f')\"\n",
       "            title=\"Suggest charts\"\n",
       "            style=\"display:none;\">\n",
       "\n",
       "<svg xmlns=\"http://www.w3.org/2000/svg\" height=\"24px\"viewBox=\"0 0 24 24\"\n",
       "     width=\"24px\">\n",
       "    <g>\n",
       "        <path d=\"M19 3H5c-1.1 0-2 .9-2 2v14c0 1.1.9 2 2 2h14c1.1 0 2-.9 2-2V5c0-1.1-.9-2-2-2zM9 17H7v-7h2v7zm4 0h-2V7h2v10zm4 0h-2v-4h2v4z\"/>\n",
       "    </g>\n",
       "</svg>\n",
       "  </button>\n",
       "\n",
       "<style>\n",
       "  .colab-df-quickchart {\n",
       "      --bg-color: #E8F0FE;\n",
       "      --fill-color: #1967D2;\n",
       "      --hover-bg-color: #E2EBFA;\n",
       "      --hover-fill-color: #174EA6;\n",
       "      --disabled-fill-color: #AAA;\n",
       "      --disabled-bg-color: #DDD;\n",
       "  }\n",
       "\n",
       "  [theme=dark] .colab-df-quickchart {\n",
       "      --bg-color: #3B4455;\n",
       "      --fill-color: #D2E3FC;\n",
       "      --hover-bg-color: #434B5C;\n",
       "      --hover-fill-color: #FFFFFF;\n",
       "      --disabled-bg-color: #3B4455;\n",
       "      --disabled-fill-color: #666;\n",
       "  }\n",
       "\n",
       "  .colab-df-quickchart {\n",
       "    background-color: var(--bg-color);\n",
       "    border: none;\n",
       "    border-radius: 50%;\n",
       "    cursor: pointer;\n",
       "    display: none;\n",
       "    fill: var(--fill-color);\n",
       "    height: 32px;\n",
       "    padding: 0;\n",
       "    width: 32px;\n",
       "  }\n",
       "\n",
       "  .colab-df-quickchart:hover {\n",
       "    background-color: var(--hover-bg-color);\n",
       "    box-shadow: 0 1px 2px rgba(60, 64, 67, 0.3), 0 1px 3px 1px rgba(60, 64, 67, 0.15);\n",
       "    fill: var(--button-hover-fill-color);\n",
       "  }\n",
       "\n",
       "  .colab-df-quickchart-complete:disabled,\n",
       "  .colab-df-quickchart-complete:disabled:hover {\n",
       "    background-color: var(--disabled-bg-color);\n",
       "    fill: var(--disabled-fill-color);\n",
       "    box-shadow: none;\n",
       "  }\n",
       "\n",
       "  .colab-df-spinner {\n",
       "    border: 2px solid var(--fill-color);\n",
       "    border-color: transparent;\n",
       "    border-bottom-color: var(--fill-color);\n",
       "    animation:\n",
       "      spin 1s steps(1) infinite;\n",
       "  }\n",
       "\n",
       "  @keyframes spin {\n",
       "    0% {\n",
       "      border-color: transparent;\n",
       "      border-bottom-color: var(--fill-color);\n",
       "      border-left-color: var(--fill-color);\n",
       "    }\n",
       "    20% {\n",
       "      border-color: transparent;\n",
       "      border-left-color: var(--fill-color);\n",
       "      border-top-color: var(--fill-color);\n",
       "    }\n",
       "    30% {\n",
       "      border-color: transparent;\n",
       "      border-left-color: var(--fill-color);\n",
       "      border-top-color: var(--fill-color);\n",
       "      border-right-color: var(--fill-color);\n",
       "    }\n",
       "    40% {\n",
       "      border-color: transparent;\n",
       "      border-right-color: var(--fill-color);\n",
       "      border-top-color: var(--fill-color);\n",
       "    }\n",
       "    60% {\n",
       "      border-color: transparent;\n",
       "      border-right-color: var(--fill-color);\n",
       "    }\n",
       "    80% {\n",
       "      border-color: transparent;\n",
       "      border-right-color: var(--fill-color);\n",
       "      border-bottom-color: var(--fill-color);\n",
       "    }\n",
       "    90% {\n",
       "      border-color: transparent;\n",
       "      border-bottom-color: var(--fill-color);\n",
       "    }\n",
       "  }\n",
       "</style>\n",
       "\n",
       "  <script>\n",
       "    async function quickchart(key) {\n",
       "      const quickchartButtonEl =\n",
       "        document.querySelector('#' + key + ' button');\n",
       "      quickchartButtonEl.disabled = true;  // To prevent multiple clicks.\n",
       "      quickchartButtonEl.classList.add('colab-df-spinner');\n",
       "      try {\n",
       "        const charts = await google.colab.kernel.invokeFunction(\n",
       "            'suggestCharts', [key], {});\n",
       "      } catch (error) {\n",
       "        console.error('Error during call to suggestCharts:', error);\n",
       "      }\n",
       "      quickchartButtonEl.classList.remove('colab-df-spinner');\n",
       "      quickchartButtonEl.classList.add('colab-df-quickchart-complete');\n",
       "    }\n",
       "    (() => {\n",
       "      let quickchartButtonEl =\n",
       "        document.querySelector('#df-f70e9a28-2dd5-4063-bd63-e184ad96509f button');\n",
       "      quickchartButtonEl.style.display =\n",
       "        google.colab.kernel.accessAllowed ? 'block' : 'none';\n",
       "    })();\n",
       "  </script>\n",
       "</div>\n",
       "\n",
       "  <div id=\"id_18ddb78d-a6a5-4722-b589-8238e2bee623\">\n",
       "    <style>\n",
       "      .colab-df-generate {\n",
       "        background-color: #E8F0FE;\n",
       "        border: none;\n",
       "        border-radius: 50%;\n",
       "        cursor: pointer;\n",
       "        display: none;\n",
       "        fill: #1967D2;\n",
       "        height: 32px;\n",
       "        padding: 0 0 0 0;\n",
       "        width: 32px;\n",
       "      }\n",
       "\n",
       "      .colab-df-generate:hover {\n",
       "        background-color: #E2EBFA;\n",
       "        box-shadow: 0px 1px 2px rgba(60, 64, 67, 0.3), 0px 1px 3px 1px rgba(60, 64, 67, 0.15);\n",
       "        fill: #174EA6;\n",
       "      }\n",
       "\n",
       "      [theme=dark] .colab-df-generate {\n",
       "        background-color: #3B4455;\n",
       "        fill: #D2E3FC;\n",
       "      }\n",
       "\n",
       "      [theme=dark] .colab-df-generate:hover {\n",
       "        background-color: #434B5C;\n",
       "        box-shadow: 0px 1px 3px 1px rgba(0, 0, 0, 0.15);\n",
       "        filter: drop-shadow(0px 1px 2px rgba(0, 0, 0, 0.3));\n",
       "        fill: #FFFFFF;\n",
       "      }\n",
       "    </style>\n",
       "    <button class=\"colab-df-generate\" onclick=\"generateWithVariable('dftest')\"\n",
       "            title=\"Generate code using this dataframe.\"\n",
       "            style=\"display:none;\">\n",
       "\n",
       "  <svg xmlns=\"http://www.w3.org/2000/svg\" height=\"24px\"viewBox=\"0 0 24 24\"\n",
       "       width=\"24px\">\n",
       "    <path d=\"M7,19H8.4L18.45,9,17,7.55,7,17.6ZM5,21V16.75L18.45,3.32a2,2,0,0,1,2.83,0l1.4,1.43a1.91,1.91,0,0,1,.58,1.4,1.91,1.91,0,0,1-.58,1.4L9.25,21ZM18.45,9,17,7.55Zm-12,3A5.31,5.31,0,0,0,4.9,8.1,5.31,5.31,0,0,0,1,6.5,5.31,5.31,0,0,0,4.9,4.9,5.31,5.31,0,0,0,6.5,1,5.31,5.31,0,0,0,8.1,4.9,5.31,5.31,0,0,0,12,6.5,5.46,5.46,0,0,0,6.5,12Z\"/>\n",
       "  </svg>\n",
       "    </button>\n",
       "    <script>\n",
       "      (() => {\n",
       "      const buttonEl =\n",
       "        document.querySelector('#id_18ddb78d-a6a5-4722-b589-8238e2bee623 button.colab-df-generate');\n",
       "      buttonEl.style.display =\n",
       "        google.colab.kernel.accessAllowed ? 'block' : 'none';\n",
       "\n",
       "      buttonEl.onclick = () => {\n",
       "        google.colab.notebook.generateWithVariable('dftest');\n",
       "      }\n",
       "      })();\n",
       "    </script>\n",
       "  </div>\n",
       "\n",
       "    </div>\n",
       "  </div>\n"
      ],
      "text/plain": [
       "    user_id      group landing_page  time_spent_on_the_page converted  \\\n",
       "0    546592    control          old                    3.48        no   \n",
       "1    546468  treatment          new                    7.13       yes   \n",
       "2    546462  treatment          new                    4.40        no   \n",
       "3    546567    control          old                    3.02        no   \n",
       "4    546459  treatment          new                    4.75       yes   \n",
       "..      ...        ...          ...                     ...       ...   \n",
       "95   546446  treatment          new                    5.15        no   \n",
       "96   546544    control          old                    6.52       yes   \n",
       "97   546472  treatment          new                    7.07       yes   \n",
       "98   546481  treatment          new                    6.20       yes   \n",
       "99   546483  treatment          new                    5.86       yes   \n",
       "\n",
       "   language_preferred  \n",
       "0             Spanish  \n",
       "1             English  \n",
       "2             Spanish  \n",
       "3              French  \n",
       "4             Spanish  \n",
       "..                ...  \n",
       "95            Spanish  \n",
       "96            English  \n",
       "97            Spanish  \n",
       "98            Spanish  \n",
       "99            English  \n",
       "\n",
       "[100 rows x 6 columns]"
      ]
     },
     "execution_count": 8,
     "metadata": {},
     "output_type": "execute_result"
    }
   ],
   "source": [
    "dftest=dfnews.copy()\n",
    "dftest\n"
   ]
  },
  {
   "cell_type": "code",
   "execution_count": null,
   "id": "FIsl6nCXkHeS",
   "metadata": {
    "colab": {
     "base_uri": "https://localhost:8080/",
     "height": 226
    },
    "id": "FIsl6nCXkHeS",
    "outputId": "26e4a2f5-40eb-4d7b-d648-bdc082b9d84e"
   },
   "outputs": [
    {
     "data": {
      "application/vnd.google.colaboratory.intrinsic+json": {
       "summary": "{\n  \"name\": \"dfgroup\",\n  \"rows\": 50,\n  \"fields\": [\n    {\n      \"column\": \"user_id\",\n      \"properties\": {\n        \"dtype\": \"number\",\n        \"std\": 17,\n        \"min\": 546493,\n        \"max\": 546592,\n        \"num_unique_values\": 50,\n        \"samples\": [\n          546586,\n          546591,\n          546562\n        ],\n        \"semantic_type\": \"\",\n        \"description\": \"\"\n      }\n    },\n    {\n      \"column\": \"group\",\n      \"properties\": {\n        \"dtype\": \"category\",\n        \"num_unique_values\": 1,\n        \"samples\": [\n          \"control\"\n        ],\n        \"semantic_type\": \"\",\n        \"description\": \"\"\n      }\n    },\n    {\n      \"column\": \"landing_page\",\n      \"properties\": {\n        \"dtype\": \"category\",\n        \"num_unique_values\": 1,\n        \"samples\": [\n          \"old\"\n        ],\n        \"semantic_type\": \"\",\n        \"description\": \"\"\n      }\n    },\n    {\n      \"column\": \"time_spent_on_the_page\",\n      \"properties\": {\n        \"dtype\": \"number\",\n        \"std\": 2.581974849306046,\n        \"min\": 0.19,\n        \"max\": 10.3,\n        \"num_unique_values\": 48,\n        \"samples\": [\n          4.71\n        ],\n        \"semantic_type\": \"\",\n        \"description\": \"\"\n      }\n    },\n    {\n      \"column\": \"converted\",\n      \"properties\": {\n        \"dtype\": \"category\",\n        \"num_unique_values\": 2,\n        \"samples\": [\n          \"yes\"\n        ],\n        \"semantic_type\": \"\",\n        \"description\": \"\"\n      }\n    },\n    {\n      \"column\": \"language_preferred\",\n      \"properties\": {\n        \"dtype\": \"category\",\n        \"num_unique_values\": 3,\n        \"samples\": [\n          \"Spanish\"\n        ],\n        \"semantic_type\": \"\",\n        \"description\": \"\"\n      }\n    }\n  ]\n}",
       "type": "dataframe",
       "variable_name": "dfgroup"
      },
      "text/html": [
       "\n",
       "  <div id=\"df-66af7376-0931-43f2-9b40-84a51dbb2d0e\" class=\"colab-df-container\">\n",
       "    <div>\n",
       "<style scoped>\n",
       "    .dataframe tbody tr th:only-of-type {\n",
       "        vertical-align: middle;\n",
       "    }\n",
       "\n",
       "    .dataframe tbody tr th {\n",
       "        vertical-align: top;\n",
       "    }\n",
       "\n",
       "    .dataframe thead th {\n",
       "        text-align: right;\n",
       "    }\n",
       "</style>\n",
       "<table border=\"1\" class=\"dataframe\">\n",
       "  <thead>\n",
       "    <tr style=\"text-align: right;\">\n",
       "      <th></th>\n",
       "      <th>user_id</th>\n",
       "      <th>group</th>\n",
       "      <th>landing_page</th>\n",
       "      <th>time_spent_on_the_page</th>\n",
       "      <th>converted</th>\n",
       "      <th>language_preferred</th>\n",
       "    </tr>\n",
       "  </thead>\n",
       "  <tbody>\n",
       "    <tr>\n",
       "      <th>0</th>\n",
       "      <td>546592</td>\n",
       "      <td>control</td>\n",
       "      <td>old</td>\n",
       "      <td>3.48</td>\n",
       "      <td>no</td>\n",
       "      <td>Spanish</td>\n",
       "    </tr>\n",
       "    <tr>\n",
       "      <th>3</th>\n",
       "      <td>546567</td>\n",
       "      <td>control</td>\n",
       "      <td>old</td>\n",
       "      <td>3.02</td>\n",
       "      <td>no</td>\n",
       "      <td>French</td>\n",
       "    </tr>\n",
       "    <tr>\n",
       "      <th>5</th>\n",
       "      <td>546558</td>\n",
       "      <td>control</td>\n",
       "      <td>old</td>\n",
       "      <td>5.28</td>\n",
       "      <td>yes</td>\n",
       "      <td>English</td>\n",
       "    </tr>\n",
       "    <tr>\n",
       "      <th>7</th>\n",
       "      <td>546581</td>\n",
       "      <td>control</td>\n",
       "      <td>old</td>\n",
       "      <td>6.53</td>\n",
       "      <td>yes</td>\n",
       "      <td>Spanish</td>\n",
       "    </tr>\n",
       "    <tr>\n",
       "      <th>9</th>\n",
       "      <td>546548</td>\n",
       "      <td>control</td>\n",
       "      <td>old</td>\n",
       "      <td>2.08</td>\n",
       "      <td>no</td>\n",
       "      <td>English</td>\n",
       "    </tr>\n",
       "  </tbody>\n",
       "</table>\n",
       "</div>\n",
       "    <div class=\"colab-df-buttons\">\n",
       "\n",
       "  <div class=\"colab-df-container\">\n",
       "    <button class=\"colab-df-convert\" onclick=\"convertToInteractive('df-66af7376-0931-43f2-9b40-84a51dbb2d0e')\"\n",
       "            title=\"Convert this dataframe to an interactive table.\"\n",
       "            style=\"display:none;\">\n",
       "\n",
       "  <svg xmlns=\"http://www.w3.org/2000/svg\" height=\"24px\" viewBox=\"0 -960 960 960\">\n",
       "    <path d=\"M120-120v-720h720v720H120Zm60-500h600v-160H180v160Zm220 220h160v-160H400v160Zm0 220h160v-160H400v160ZM180-400h160v-160H180v160Zm440 0h160v-160H620v160ZM180-180h160v-160H180v160Zm440 0h160v-160H620v160Z\"/>\n",
       "  </svg>\n",
       "    </button>\n",
       "\n",
       "  <style>\n",
       "    .colab-df-container {\n",
       "      display:flex;\n",
       "      gap: 12px;\n",
       "    }\n",
       "\n",
       "    .colab-df-convert {\n",
       "      background-color: #E8F0FE;\n",
       "      border: none;\n",
       "      border-radius: 50%;\n",
       "      cursor: pointer;\n",
       "      display: none;\n",
       "      fill: #1967D2;\n",
       "      height: 32px;\n",
       "      padding: 0 0 0 0;\n",
       "      width: 32px;\n",
       "    }\n",
       "\n",
       "    .colab-df-convert:hover {\n",
       "      background-color: #E2EBFA;\n",
       "      box-shadow: 0px 1px 2px rgba(60, 64, 67, 0.3), 0px 1px 3px 1px rgba(60, 64, 67, 0.15);\n",
       "      fill: #174EA6;\n",
       "    }\n",
       "\n",
       "    .colab-df-buttons div {\n",
       "      margin-bottom: 4px;\n",
       "    }\n",
       "\n",
       "    [theme=dark] .colab-df-convert {\n",
       "      background-color: #3B4455;\n",
       "      fill: #D2E3FC;\n",
       "    }\n",
       "\n",
       "    [theme=dark] .colab-df-convert:hover {\n",
       "      background-color: #434B5C;\n",
       "      box-shadow: 0px 1px 3px 1px rgba(0, 0, 0, 0.15);\n",
       "      filter: drop-shadow(0px 1px 2px rgba(0, 0, 0, 0.3));\n",
       "      fill: #FFFFFF;\n",
       "    }\n",
       "  </style>\n",
       "\n",
       "    <script>\n",
       "      const buttonEl =\n",
       "        document.querySelector('#df-66af7376-0931-43f2-9b40-84a51dbb2d0e button.colab-df-convert');\n",
       "      buttonEl.style.display =\n",
       "        google.colab.kernel.accessAllowed ? 'block' : 'none';\n",
       "\n",
       "      async function convertToInteractive(key) {\n",
       "        const element = document.querySelector('#df-66af7376-0931-43f2-9b40-84a51dbb2d0e');\n",
       "        const dataTable =\n",
       "          await google.colab.kernel.invokeFunction('convertToInteractive',\n",
       "                                                    [key], {});\n",
       "        if (!dataTable) return;\n",
       "\n",
       "        const docLinkHtml = 'Like what you see? Visit the ' +\n",
       "          '<a target=\"_blank\" href=https://colab.research.google.com/notebooks/data_table.ipynb>data table notebook</a>'\n",
       "          + ' to learn more about interactive tables.';\n",
       "        element.innerHTML = '';\n",
       "        dataTable['output_type'] = 'display_data';\n",
       "        await google.colab.output.renderOutput(dataTable, element);\n",
       "        const docLink = document.createElement('div');\n",
       "        docLink.innerHTML = docLinkHtml;\n",
       "        element.appendChild(docLink);\n",
       "      }\n",
       "    </script>\n",
       "  </div>\n",
       "\n",
       "\n",
       "<div id=\"df-9322e868-8e4d-44bb-922f-17f331ca5513\">\n",
       "  <button class=\"colab-df-quickchart\" onclick=\"quickchart('df-9322e868-8e4d-44bb-922f-17f331ca5513')\"\n",
       "            title=\"Suggest charts\"\n",
       "            style=\"display:none;\">\n",
       "\n",
       "<svg xmlns=\"http://www.w3.org/2000/svg\" height=\"24px\"viewBox=\"0 0 24 24\"\n",
       "     width=\"24px\">\n",
       "    <g>\n",
       "        <path d=\"M19 3H5c-1.1 0-2 .9-2 2v14c0 1.1.9 2 2 2h14c1.1 0 2-.9 2-2V5c0-1.1-.9-2-2-2zM9 17H7v-7h2v7zm4 0h-2V7h2v10zm4 0h-2v-4h2v4z\"/>\n",
       "    </g>\n",
       "</svg>\n",
       "  </button>\n",
       "\n",
       "<style>\n",
       "  .colab-df-quickchart {\n",
       "      --bg-color: #E8F0FE;\n",
       "      --fill-color: #1967D2;\n",
       "      --hover-bg-color: #E2EBFA;\n",
       "      --hover-fill-color: #174EA6;\n",
       "      --disabled-fill-color: #AAA;\n",
       "      --disabled-bg-color: #DDD;\n",
       "  }\n",
       "\n",
       "  [theme=dark] .colab-df-quickchart {\n",
       "      --bg-color: #3B4455;\n",
       "      --fill-color: #D2E3FC;\n",
       "      --hover-bg-color: #434B5C;\n",
       "      --hover-fill-color: #FFFFFF;\n",
       "      --disabled-bg-color: #3B4455;\n",
       "      --disabled-fill-color: #666;\n",
       "  }\n",
       "\n",
       "  .colab-df-quickchart {\n",
       "    background-color: var(--bg-color);\n",
       "    border: none;\n",
       "    border-radius: 50%;\n",
       "    cursor: pointer;\n",
       "    display: none;\n",
       "    fill: var(--fill-color);\n",
       "    height: 32px;\n",
       "    padding: 0;\n",
       "    width: 32px;\n",
       "  }\n",
       "\n",
       "  .colab-df-quickchart:hover {\n",
       "    background-color: var(--hover-bg-color);\n",
       "    box-shadow: 0 1px 2px rgba(60, 64, 67, 0.3), 0 1px 3px 1px rgba(60, 64, 67, 0.15);\n",
       "    fill: var(--button-hover-fill-color);\n",
       "  }\n",
       "\n",
       "  .colab-df-quickchart-complete:disabled,\n",
       "  .colab-df-quickchart-complete:disabled:hover {\n",
       "    background-color: var(--disabled-bg-color);\n",
       "    fill: var(--disabled-fill-color);\n",
       "    box-shadow: none;\n",
       "  }\n",
       "\n",
       "  .colab-df-spinner {\n",
       "    border: 2px solid var(--fill-color);\n",
       "    border-color: transparent;\n",
       "    border-bottom-color: var(--fill-color);\n",
       "    animation:\n",
       "      spin 1s steps(1) infinite;\n",
       "  }\n",
       "\n",
       "  @keyframes spin {\n",
       "    0% {\n",
       "      border-color: transparent;\n",
       "      border-bottom-color: var(--fill-color);\n",
       "      border-left-color: var(--fill-color);\n",
       "    }\n",
       "    20% {\n",
       "      border-color: transparent;\n",
       "      border-left-color: var(--fill-color);\n",
       "      border-top-color: var(--fill-color);\n",
       "    }\n",
       "    30% {\n",
       "      border-color: transparent;\n",
       "      border-left-color: var(--fill-color);\n",
       "      border-top-color: var(--fill-color);\n",
       "      border-right-color: var(--fill-color);\n",
       "    }\n",
       "    40% {\n",
       "      border-color: transparent;\n",
       "      border-right-color: var(--fill-color);\n",
       "      border-top-color: var(--fill-color);\n",
       "    }\n",
       "    60% {\n",
       "      border-color: transparent;\n",
       "      border-right-color: var(--fill-color);\n",
       "    }\n",
       "    80% {\n",
       "      border-color: transparent;\n",
       "      border-right-color: var(--fill-color);\n",
       "      border-bottom-color: var(--fill-color);\n",
       "    }\n",
       "    90% {\n",
       "      border-color: transparent;\n",
       "      border-bottom-color: var(--fill-color);\n",
       "    }\n",
       "  }\n",
       "</style>\n",
       "\n",
       "  <script>\n",
       "    async function quickchart(key) {\n",
       "      const quickchartButtonEl =\n",
       "        document.querySelector('#' + key + ' button');\n",
       "      quickchartButtonEl.disabled = true;  // To prevent multiple clicks.\n",
       "      quickchartButtonEl.classList.add('colab-df-spinner');\n",
       "      try {\n",
       "        const charts = await google.colab.kernel.invokeFunction(\n",
       "            'suggestCharts', [key], {});\n",
       "      } catch (error) {\n",
       "        console.error('Error during call to suggestCharts:', error);\n",
       "      }\n",
       "      quickchartButtonEl.classList.remove('colab-df-spinner');\n",
       "      quickchartButtonEl.classList.add('colab-df-quickchart-complete');\n",
       "    }\n",
       "    (() => {\n",
       "      let quickchartButtonEl =\n",
       "        document.querySelector('#df-9322e868-8e4d-44bb-922f-17f331ca5513 button');\n",
       "      quickchartButtonEl.style.display =\n",
       "        google.colab.kernel.accessAllowed ? 'block' : 'none';\n",
       "    })();\n",
       "  </script>\n",
       "</div>\n",
       "\n",
       "    </div>\n",
       "  </div>\n"
      ],
      "text/plain": [
       "   user_id    group landing_page  time_spent_on_the_page converted  \\\n",
       "0   546592  control          old                    3.48        no   \n",
       "3   546567  control          old                    3.02        no   \n",
       "5   546558  control          old                    5.28       yes   \n",
       "7   546581  control          old                    6.53       yes   \n",
       "9   546548  control          old                    2.08        no   \n",
       "\n",
       "  language_preferred  \n",
       "0            Spanish  \n",
       "3             French  \n",
       "5            English  \n",
       "7            Spanish  \n",
       "9            English  "
      ]
     },
     "execution_count": 9,
     "metadata": {},
     "output_type": "execute_result"
    }
   ],
   "source": [
    "dfgroup=dftest.query('group==\"control\"')\n",
    "dfgroup.head()\n",
    "\n",
    "\n",
    "\n"
   ]
  },
  {
   "cell_type": "code",
   "execution_count": null,
   "id": "h2bDzJZamhAZ",
   "metadata": {
    "colab": {
     "base_uri": "https://localhost:8080/"
    },
    "id": "h2bDzJZamhAZ",
    "outputId": "62a8d38d-ca20-498f-e183-95f8aa949492"
   },
   "outputs": [
    {
     "data": {
      "text/plain": [
       "(50, 6)"
      ]
     },
     "execution_count": 10,
     "metadata": {},
     "output_type": "execute_result"
    }
   ],
   "source": [
    "dfgroup.shape"
   ]
  },
  {
   "cell_type": "code",
   "execution_count": null,
   "id": "m-sJ1QPal9Qu",
   "metadata": {
    "colab": {
     "base_uri": "https://localhost:8080/",
     "height": 174
    },
    "id": "m-sJ1QPal9Qu",
    "outputId": "bdd14a2b-e1d9-490a-c138-9d559c600ac1"
   },
   "outputs": [
    {
     "data": {
      "application/vnd.google.colaboratory.intrinsic+json": {
       "summary": "{\n  \"name\": \"dfgroup\",\n  \"rows\": 4,\n  \"fields\": [\n    {\n      \"column\": \"count\",\n      \"properties\": {\n        \"dtype\": \"date\",\n        \"min\": \"50\",\n        \"max\": \"50\",\n        \"num_unique_values\": 1,\n        \"samples\": [\n          \"50\"\n        ],\n        \"semantic_type\": \"\",\n        \"description\": \"\"\n      }\n    },\n    {\n      \"column\": \"unique\",\n      \"properties\": {\n        \"dtype\": \"date\",\n        \"min\": 1,\n        \"max\": 3,\n        \"num_unique_values\": 3,\n        \"samples\": [\n          1\n        ],\n        \"semantic_type\": \"\",\n        \"description\": \"\"\n      }\n    },\n    {\n      \"column\": \"top\",\n      \"properties\": {\n        \"dtype\": \"string\",\n        \"num_unique_values\": 4,\n        \"samples\": [\n          \"old\"\n        ],\n        \"semantic_type\": \"\",\n        \"description\": \"\"\n      }\n    },\n    {\n      \"column\": \"freq\",\n      \"properties\": {\n        \"dtype\": \"date\",\n        \"min\": \"17\",\n        \"max\": \"50\",\n        \"num_unique_values\": 3,\n        \"samples\": [\n          \"50\"\n        ],\n        \"semantic_type\": \"\",\n        \"description\": \"\"\n      }\n    }\n  ]\n}",
       "type": "dataframe"
      },
      "text/html": [
       "\n",
       "  <div id=\"df-c39401a6-6579-4424-afed-672cc1f7a377\" class=\"colab-df-container\">\n",
       "    <div>\n",
       "<style scoped>\n",
       "    .dataframe tbody tr th:only-of-type {\n",
       "        vertical-align: middle;\n",
       "    }\n",
       "\n",
       "    .dataframe tbody tr th {\n",
       "        vertical-align: top;\n",
       "    }\n",
       "\n",
       "    .dataframe thead th {\n",
       "        text-align: right;\n",
       "    }\n",
       "</style>\n",
       "<table border=\"1\" class=\"dataframe\">\n",
       "  <thead>\n",
       "    <tr style=\"text-align: right;\">\n",
       "      <th></th>\n",
       "      <th>count</th>\n",
       "      <th>unique</th>\n",
       "      <th>top</th>\n",
       "      <th>freq</th>\n",
       "    </tr>\n",
       "  </thead>\n",
       "  <tbody>\n",
       "    <tr>\n",
       "      <th>group</th>\n",
       "      <td>50</td>\n",
       "      <td>1</td>\n",
       "      <td>control</td>\n",
       "      <td>50</td>\n",
       "    </tr>\n",
       "    <tr>\n",
       "      <th>landing_page</th>\n",
       "      <td>50</td>\n",
       "      <td>1</td>\n",
       "      <td>old</td>\n",
       "      <td>50</td>\n",
       "    </tr>\n",
       "    <tr>\n",
       "      <th>converted</th>\n",
       "      <td>50</td>\n",
       "      <td>2</td>\n",
       "      <td>no</td>\n",
       "      <td>29</td>\n",
       "    </tr>\n",
       "    <tr>\n",
       "      <th>language_preferred</th>\n",
       "      <td>50</td>\n",
       "      <td>3</td>\n",
       "      <td>Spanish</td>\n",
       "      <td>17</td>\n",
       "    </tr>\n",
       "  </tbody>\n",
       "</table>\n",
       "</div>\n",
       "    <div class=\"colab-df-buttons\">\n",
       "\n",
       "  <div class=\"colab-df-container\">\n",
       "    <button class=\"colab-df-convert\" onclick=\"convertToInteractive('df-c39401a6-6579-4424-afed-672cc1f7a377')\"\n",
       "            title=\"Convert this dataframe to an interactive table.\"\n",
       "            style=\"display:none;\">\n",
       "\n",
       "  <svg xmlns=\"http://www.w3.org/2000/svg\" height=\"24px\" viewBox=\"0 -960 960 960\">\n",
       "    <path d=\"M120-120v-720h720v720H120Zm60-500h600v-160H180v160Zm220 220h160v-160H400v160Zm0 220h160v-160H400v160ZM180-400h160v-160H180v160Zm440 0h160v-160H620v160ZM180-180h160v-160H180v160Zm440 0h160v-160H620v160Z\"/>\n",
       "  </svg>\n",
       "    </button>\n",
       "\n",
       "  <style>\n",
       "    .colab-df-container {\n",
       "      display:flex;\n",
       "      gap: 12px;\n",
       "    }\n",
       "\n",
       "    .colab-df-convert {\n",
       "      background-color: #E8F0FE;\n",
       "      border: none;\n",
       "      border-radius: 50%;\n",
       "      cursor: pointer;\n",
       "      display: none;\n",
       "      fill: #1967D2;\n",
       "      height: 32px;\n",
       "      padding: 0 0 0 0;\n",
       "      width: 32px;\n",
       "    }\n",
       "\n",
       "    .colab-df-convert:hover {\n",
       "      background-color: #E2EBFA;\n",
       "      box-shadow: 0px 1px 2px rgba(60, 64, 67, 0.3), 0px 1px 3px 1px rgba(60, 64, 67, 0.15);\n",
       "      fill: #174EA6;\n",
       "    }\n",
       "\n",
       "    .colab-df-buttons div {\n",
       "      margin-bottom: 4px;\n",
       "    }\n",
       "\n",
       "    [theme=dark] .colab-df-convert {\n",
       "      background-color: #3B4455;\n",
       "      fill: #D2E3FC;\n",
       "    }\n",
       "\n",
       "    [theme=dark] .colab-df-convert:hover {\n",
       "      background-color: #434B5C;\n",
       "      box-shadow: 0px 1px 3px 1px rgba(0, 0, 0, 0.15);\n",
       "      filter: drop-shadow(0px 1px 2px rgba(0, 0, 0, 0.3));\n",
       "      fill: #FFFFFF;\n",
       "    }\n",
       "  </style>\n",
       "\n",
       "    <script>\n",
       "      const buttonEl =\n",
       "        document.querySelector('#df-c39401a6-6579-4424-afed-672cc1f7a377 button.colab-df-convert');\n",
       "      buttonEl.style.display =\n",
       "        google.colab.kernel.accessAllowed ? 'block' : 'none';\n",
       "\n",
       "      async function convertToInteractive(key) {\n",
       "        const element = document.querySelector('#df-c39401a6-6579-4424-afed-672cc1f7a377');\n",
       "        const dataTable =\n",
       "          await google.colab.kernel.invokeFunction('convertToInteractive',\n",
       "                                                    [key], {});\n",
       "        if (!dataTable) return;\n",
       "\n",
       "        const docLinkHtml = 'Like what you see? Visit the ' +\n",
       "          '<a target=\"_blank\" href=https://colab.research.google.com/notebooks/data_table.ipynb>data table notebook</a>'\n",
       "          + ' to learn more about interactive tables.';\n",
       "        element.innerHTML = '';\n",
       "        dataTable['output_type'] = 'display_data';\n",
       "        await google.colab.output.renderOutput(dataTable, element);\n",
       "        const docLink = document.createElement('div');\n",
       "        docLink.innerHTML = docLinkHtml;\n",
       "        element.appendChild(docLink);\n",
       "      }\n",
       "    </script>\n",
       "  </div>\n",
       "\n",
       "\n",
       "<div id=\"df-1015355c-bf2c-4c6b-8a6a-d70cfc1f72c9\">\n",
       "  <button class=\"colab-df-quickchart\" onclick=\"quickchart('df-1015355c-bf2c-4c6b-8a6a-d70cfc1f72c9')\"\n",
       "            title=\"Suggest charts\"\n",
       "            style=\"display:none;\">\n",
       "\n",
       "<svg xmlns=\"http://www.w3.org/2000/svg\" height=\"24px\"viewBox=\"0 0 24 24\"\n",
       "     width=\"24px\">\n",
       "    <g>\n",
       "        <path d=\"M19 3H5c-1.1 0-2 .9-2 2v14c0 1.1.9 2 2 2h14c1.1 0 2-.9 2-2V5c0-1.1-.9-2-2-2zM9 17H7v-7h2v7zm4 0h-2V7h2v10zm4 0h-2v-4h2v4z\"/>\n",
       "    </g>\n",
       "</svg>\n",
       "  </button>\n",
       "\n",
       "<style>\n",
       "  .colab-df-quickchart {\n",
       "      --bg-color: #E8F0FE;\n",
       "      --fill-color: #1967D2;\n",
       "      --hover-bg-color: #E2EBFA;\n",
       "      --hover-fill-color: #174EA6;\n",
       "      --disabled-fill-color: #AAA;\n",
       "      --disabled-bg-color: #DDD;\n",
       "  }\n",
       "\n",
       "  [theme=dark] .colab-df-quickchart {\n",
       "      --bg-color: #3B4455;\n",
       "      --fill-color: #D2E3FC;\n",
       "      --hover-bg-color: #434B5C;\n",
       "      --hover-fill-color: #FFFFFF;\n",
       "      --disabled-bg-color: #3B4455;\n",
       "      --disabled-fill-color: #666;\n",
       "  }\n",
       "\n",
       "  .colab-df-quickchart {\n",
       "    background-color: var(--bg-color);\n",
       "    border: none;\n",
       "    border-radius: 50%;\n",
       "    cursor: pointer;\n",
       "    display: none;\n",
       "    fill: var(--fill-color);\n",
       "    height: 32px;\n",
       "    padding: 0;\n",
       "    width: 32px;\n",
       "  }\n",
       "\n",
       "  .colab-df-quickchart:hover {\n",
       "    background-color: var(--hover-bg-color);\n",
       "    box-shadow: 0 1px 2px rgba(60, 64, 67, 0.3), 0 1px 3px 1px rgba(60, 64, 67, 0.15);\n",
       "    fill: var(--button-hover-fill-color);\n",
       "  }\n",
       "\n",
       "  .colab-df-quickchart-complete:disabled,\n",
       "  .colab-df-quickchart-complete:disabled:hover {\n",
       "    background-color: var(--disabled-bg-color);\n",
       "    fill: var(--disabled-fill-color);\n",
       "    box-shadow: none;\n",
       "  }\n",
       "\n",
       "  .colab-df-spinner {\n",
       "    border: 2px solid var(--fill-color);\n",
       "    border-color: transparent;\n",
       "    border-bottom-color: var(--fill-color);\n",
       "    animation:\n",
       "      spin 1s steps(1) infinite;\n",
       "  }\n",
       "\n",
       "  @keyframes spin {\n",
       "    0% {\n",
       "      border-color: transparent;\n",
       "      border-bottom-color: var(--fill-color);\n",
       "      border-left-color: var(--fill-color);\n",
       "    }\n",
       "    20% {\n",
       "      border-color: transparent;\n",
       "      border-left-color: var(--fill-color);\n",
       "      border-top-color: var(--fill-color);\n",
       "    }\n",
       "    30% {\n",
       "      border-color: transparent;\n",
       "      border-left-color: var(--fill-color);\n",
       "      border-top-color: var(--fill-color);\n",
       "      border-right-color: var(--fill-color);\n",
       "    }\n",
       "    40% {\n",
       "      border-color: transparent;\n",
       "      border-right-color: var(--fill-color);\n",
       "      border-top-color: var(--fill-color);\n",
       "    }\n",
       "    60% {\n",
       "      border-color: transparent;\n",
       "      border-right-color: var(--fill-color);\n",
       "    }\n",
       "    80% {\n",
       "      border-color: transparent;\n",
       "      border-right-color: var(--fill-color);\n",
       "      border-bottom-color: var(--fill-color);\n",
       "    }\n",
       "    90% {\n",
       "      border-color: transparent;\n",
       "      border-bottom-color: var(--fill-color);\n",
       "    }\n",
       "  }\n",
       "</style>\n",
       "\n",
       "  <script>\n",
       "    async function quickchart(key) {\n",
       "      const quickchartButtonEl =\n",
       "        document.querySelector('#' + key + ' button');\n",
       "      quickchartButtonEl.disabled = true;  // To prevent multiple clicks.\n",
       "      quickchartButtonEl.classList.add('colab-df-spinner');\n",
       "      try {\n",
       "        const charts = await google.colab.kernel.invokeFunction(\n",
       "            'suggestCharts', [key], {});\n",
       "      } catch (error) {\n",
       "        console.error('Error during call to suggestCharts:', error);\n",
       "      }\n",
       "      quickchartButtonEl.classList.remove('colab-df-spinner');\n",
       "      quickchartButtonEl.classList.add('colab-df-quickchart-complete');\n",
       "    }\n",
       "    (() => {\n",
       "      let quickchartButtonEl =\n",
       "        document.querySelector('#df-1015355c-bf2c-4c6b-8a6a-d70cfc1f72c9 button');\n",
       "      quickchartButtonEl.style.display =\n",
       "        google.colab.kernel.accessAllowed ? 'block' : 'none';\n",
       "    })();\n",
       "  </script>\n",
       "</div>\n",
       "\n",
       "    </div>\n",
       "  </div>\n"
      ],
      "text/plain": [
       "                   count unique      top freq\n",
       "group                 50      1  control   50\n",
       "landing_page          50      1      old   50\n",
       "converted             50      2       no   29\n",
       "language_preferred    50      3  Spanish   17"
      ]
     },
     "execution_count": 11,
     "metadata": {},
     "output_type": "execute_result"
    }
   ],
   "source": [
    "dfgroup.describe(include=\"object\").T"
   ]
  },
  {
   "cell_type": "markdown",
   "id": "TGmIbuG2rnL2",
   "metadata": {
    "id": "TGmIbuG2rnL2"
   },
   "source": [
    "All the users on the \"control\" group, landed on the \"old\" page"
   ]
  },
  {
   "cell_type": "code",
   "execution_count": null,
   "id": "miJrNcvSsmch",
   "metadata": {
    "colab": {
     "base_uri": "https://localhost:8080/",
     "height": 472
    },
    "id": "miJrNcvSsmch",
    "outputId": "9f378ffd-b573-4121-df79-c906bf1701f0"
   },
   "outputs": [
    {
     "data": {
      "image/png": "[encoded data removed]",
      "text/plain": [
       "<Figure size 640x480 with 1 Axes>"
      ]
     },
     "metadata": {},
     "output_type": "display_data"
    }
   ],
   "source": [
    "# Create a histogram of time_spent_on_the_page with 20 bins and set the color to #e6ac83\n",
    "plt.hist(dfnews['time_spent_on_the_page'], bins=20, color='#e6ac83')\n",
    "\n",
    "# Add labels and title\n",
    "plt.xlabel('Time spent on the landing page')\n",
    "plt.ylabel('Frequency')\n",
    "plt.title('Histogram of Time Spent on the landing Page')\n",
    "\n",
    "# Show the plot\n",
    "plt.show()\n"
   ]
  },
  {
   "cell_type": "markdown",
   "id": "Ws_avdxxPfSb",
   "metadata": {
    "id": "Ws_avdxxPfSb"
   },
   "source": [
    "The time_spent_on_the_page is close to normal distribution."
   ]
  },
  {
   "cell_type": "code",
   "execution_count": null,
   "id": "tsNd4nxUt1cD",
   "metadata": {
    "colab": {
     "base_uri": "https://localhost:8080/",
     "height": 433
    },
    "id": "tsNd4nxUt1cD",
    "outputId": "4776dfea-d9b0-4e4d-f790-130ab758a619"
   },
   "outputs": [
    {
     "data": {
      "image/png": "[encoded data removed]",
      "text/plain": [
       "<Figure size 640x480 with 1 Axes>"
      ]
     },
     "metadata": {},
     "output_type": "display_data"
    }
   ],
   "source": [
    "#Prepare a box plot for time spent on page\n",
    "sns.boxplot(data=dfnews.time_spent_on_the_page)\n",
    "# Add labels and title\n",
    "plt.ylabel('Minutes')\n",
    "plt.title('Box Plot of Time Spent on the landing Page')\n",
    "plt.show()"
   ]
  },
  {
   "cell_type": "markdown",
   "id": "RijDszntubkA",
   "metadata": {
    "id": "RijDszntubkA"
   },
   "source": [
    "1. There are no outliers\n",
    "2. Data lies within the range of ~4-7 minutes"
   ]
  },
  {
   "cell_type": "code",
   "execution_count": null,
   "id": "JeSL55WMu8Ft",
   "metadata": {
    "colab": {
     "base_uri": "https://localhost:8080/",
     "height": 206
    },
    "id": "JeSL55WMu8Ft",
    "outputId": "ba4e07e5-ed43-4e9a-806f-255a5593b8d8"
   },
   "outputs": [
    {
     "data": {
      "application/vnd.google.colaboratory.intrinsic+json": {
       "summary": "{\n  \"name\": \"dfold\",\n  \"rows\": 50,\n  \"fields\": [\n    {\n      \"column\": \"user_id\",\n      \"properties\": {\n        \"dtype\": \"number\",\n        \"std\": 17,\n        \"min\": 546493,\n        \"max\": 546592,\n        \"num_unique_values\": 50,\n        \"samples\": [\n          546586,\n          546591,\n          546562\n        ],\n        \"semantic_type\": \"\",\n        \"description\": \"\"\n      }\n    },\n    {\n      \"column\": \"group\",\n      \"properties\": {\n        \"dtype\": \"category\",\n        \"num_unique_values\": 1,\n        \"samples\": [\n          \"control\"\n        ],\n        \"semantic_type\": \"\",\n        \"description\": \"\"\n      }\n    },\n    {\n      \"column\": \"landing_page\",\n      \"properties\": {\n        \"dtype\": \"category\",\n        \"num_unique_values\": 1,\n        \"samples\": [\n          \"old\"\n        ],\n        \"semantic_type\": \"\",\n        \"description\": \"\"\n      }\n    },\n    {\n      \"column\": \"time_spent_on_the_page\",\n      \"properties\": {\n        \"dtype\": \"number\",\n        \"std\": 2.581974849306046,\n        \"min\": 0.19,\n        \"max\": 10.3,\n        \"num_unique_values\": 48,\n        \"samples\": [\n          4.71\n        ],\n        \"semantic_type\": \"\",\n        \"description\": \"\"\n      }\n    },\n    {\n      \"column\": \"converted\",\n      \"properties\": {\n        \"dtype\": \"category\",\n        \"num_unique_values\": 2,\n        \"samples\": [\n          \"yes\"\n        ],\n        \"semantic_type\": \"\",\n        \"description\": \"\"\n      }\n    },\n    {\n      \"column\": \"language_preferred\",\n      \"properties\": {\n        \"dtype\": \"category\",\n        \"num_unique_values\": 3,\n        \"samples\": [\n          \"Spanish\"\n        ],\n        \"semantic_type\": \"\",\n        \"description\": \"\"\n      }\n    }\n  ]\n}",
       "type": "dataframe",
       "variable_name": "dfold"
      },
      "text/html": [
       "\n",
       "  <div id=\"df-b3cb802b-9d84-49ec-85a5-97e15c0c0367\" class=\"colab-df-container\">\n",
       "    <div>\n",
       "<style scoped>\n",
       "    .dataframe tbody tr th:only-of-type {\n",
       "        vertical-align: middle;\n",
       "    }\n",
       "\n",
       "    .dataframe tbody tr th {\n",
       "        vertical-align: top;\n",
       "    }\n",
       "\n",
       "    .dataframe thead th {\n",
       "        text-align: right;\n",
       "    }\n",
       "</style>\n",
       "<table border=\"1\" class=\"dataframe\">\n",
       "  <thead>\n",
       "    <tr style=\"text-align: right;\">\n",
       "      <th></th>\n",
       "      <th>user_id</th>\n",
       "      <th>group</th>\n",
       "      <th>landing_page</th>\n",
       "      <th>time_spent_on_the_page</th>\n",
       "      <th>converted</th>\n",
       "      <th>language_preferred</th>\n",
       "    </tr>\n",
       "  </thead>\n",
       "  <tbody>\n",
       "    <tr>\n",
       "      <th>0</th>\n",
       "      <td>546592</td>\n",
       "      <td>control</td>\n",
       "      <td>old</td>\n",
       "      <td>3.48</td>\n",
       "      <td>no</td>\n",
       "      <td>Spanish</td>\n",
       "    </tr>\n",
       "    <tr>\n",
       "      <th>3</th>\n",
       "      <td>546567</td>\n",
       "      <td>control</td>\n",
       "      <td>old</td>\n",
       "      <td>3.02</td>\n",
       "      <td>no</td>\n",
       "      <td>French</td>\n",
       "    </tr>\n",
       "    <tr>\n",
       "      <th>5</th>\n",
       "      <td>546558</td>\n",
       "      <td>control</td>\n",
       "      <td>old</td>\n",
       "      <td>5.28</td>\n",
       "      <td>yes</td>\n",
       "      <td>English</td>\n",
       "    </tr>\n",
       "    <tr>\n",
       "      <th>7</th>\n",
       "      <td>546581</td>\n",
       "      <td>control</td>\n",
       "      <td>old</td>\n",
       "      <td>6.53</td>\n",
       "      <td>yes</td>\n",
       "      <td>Spanish</td>\n",
       "    </tr>\n",
       "    <tr>\n",
       "      <th>9</th>\n",
       "      <td>546548</td>\n",
       "      <td>control</td>\n",
       "      <td>old</td>\n",
       "      <td>2.08</td>\n",
       "      <td>no</td>\n",
       "      <td>English</td>\n",
       "    </tr>\n",
       "  </tbody>\n",
       "</table>\n",
       "</div>\n",
       "    <div class=\"colab-df-buttons\">\n",
       "\n",
       "  <div class=\"colab-df-container\">\n",
       "    <button class=\"colab-df-convert\" onclick=\"convertToInteractive('df-b3cb802b-9d84-49ec-85a5-97e15c0c0367')\"\n",
       "            title=\"Convert this dataframe to an interactive table.\"\n",
       "            style=\"display:none;\">\n",
       "\n",
       "  <svg xmlns=\"http://www.w3.org/2000/svg\" height=\"24px\" viewBox=\"0 -960 960 960\">\n",
       "    <path d=\"M120-120v-720h720v720H120Zm60-500h600v-160H180v160Zm220 220h160v-160H400v160Zm0 220h160v-160H400v160ZM180-400h160v-160H180v160Zm440 0h160v-160H620v160ZM180-180h160v-160H180v160Zm440 0h160v-160H620v160Z\"/>\n",
       "  </svg>\n",
       "    </button>\n",
       "\n",
       "  <style>\n",
       "    .colab-df-container {\n",
       "      display:flex;\n",
       "      gap: 12px;\n",
       "    }\n",
       "\n",
       "    .colab-df-convert {\n",
       "      background-color: #E8F0FE;\n",
       "      border: none;\n",
       "      border-radius: 50%;\n",
       "      cursor: pointer;\n",
       "      display: none;\n",
       "      fill: #1967D2;\n",
       "      height: 32px;\n",
       "      padding: 0 0 0 0;\n",
       "      width: 32px;\n",
       "    }\n",
       "\n",
       "    .colab-df-convert:hover {\n",
       "      background-color: #E2EBFA;\n",
       "      box-shadow: 0px 1px 2px rgba(60, 64, 67, 0.3), 0px 1px 3px 1px rgba(60, 64, 67, 0.15);\n",
       "      fill: #174EA6;\n",
       "    }\n",
       "\n",
       "    .colab-df-buttons div {\n",
       "      margin-bottom: 4px;\n",
       "    }\n",
       "\n",
       "    [theme=dark] .colab-df-convert {\n",
       "      background-color: #3B4455;\n",
       "      fill: #D2E3FC;\n",
       "    }\n",
       "\n",
       "    [theme=dark] .colab-df-convert:hover {\n",
       "      background-color: #434B5C;\n",
       "      box-shadow: 0px 1px 3px 1px rgba(0, 0, 0, 0.15);\n",
       "      filter: drop-shadow(0px 1px 2px rgba(0, 0, 0, 0.3));\n",
       "      fill: #FFFFFF;\n",
       "    }\n",
       "  </style>\n",
       "\n",
       "    <script>\n",
       "      const buttonEl =\n",
       "        document.querySelector('#df-b3cb802b-9d84-49ec-85a5-97e15c0c0367 button.colab-df-convert');\n",
       "      buttonEl.style.display =\n",
       "        google.colab.kernel.accessAllowed ? 'block' : 'none';\n",
       "\n",
       "      async function convertToInteractive(key) {\n",
       "        const element = document.querySelector('#df-b3cb802b-9d84-49ec-85a5-97e15c0c0367');\n",
       "        const dataTable =\n",
       "          await google.colab.kernel.invokeFunction('convertToInteractive',\n",
       "                                                    [key], {});\n",
       "        if (!dataTable) return;\n",
       "\n",
       "        const docLinkHtml = 'Like what you see? Visit the ' +\n",
       "          '<a target=\"_blank\" href=https://colab.research.google.com/notebooks/data_table.ipynb>data table notebook</a>'\n",
       "          + ' to learn more about interactive tables.';\n",
       "        element.innerHTML = '';\n",
       "        dataTable['output_type'] = 'display_data';\n",
       "        await google.colab.output.renderOutput(dataTable, element);\n",
       "        const docLink = document.createElement('div');\n",
       "        docLink.innerHTML = docLinkHtml;\n",
       "        element.appendChild(docLink);\n",
       "      }\n",
       "    </script>\n",
       "  </div>\n",
       "\n",
       "\n",
       "<div id=\"df-2af961bb-e93a-473c-96ef-9091af304f62\">\n",
       "  <button class=\"colab-df-quickchart\" onclick=\"quickchart('df-2af961bb-e93a-473c-96ef-9091af304f62')\"\n",
       "            title=\"Suggest charts\"\n",
       "            style=\"display:none;\">\n",
       "\n",
       "<svg xmlns=\"http://www.w3.org/2000/svg\" height=\"24px\"viewBox=\"0 0 24 24\"\n",
       "     width=\"24px\">\n",
       "    <g>\n",
       "        <path d=\"M19 3H5c-1.1 0-2 .9-2 2v14c0 1.1.9 2 2 2h14c1.1 0 2-.9 2-2V5c0-1.1-.9-2-2-2zM9 17H7v-7h2v7zm4 0h-2V7h2v10zm4 0h-2v-4h2v4z\"/>\n",
       "    </g>\n",
       "</svg>\n",
       "  </button>\n",
       "\n",
       "<style>\n",
       "  .colab-df-quickchart {\n",
       "      --bg-color: #E8F0FE;\n",
       "      --fill-color: #1967D2;\n",
       "      --hover-bg-color: #E2EBFA;\n",
       "      --hover-fill-color: #174EA6;\n",
       "      --disabled-fill-color: #AAA;\n",
       "      --disabled-bg-color: #DDD;\n",
       "  }\n",
       "\n",
       "  [theme=dark] .colab-df-quickchart {\n",
       "      --bg-color: #3B4455;\n",
       "      --fill-color: #D2E3FC;\n",
       "      --hover-bg-color: #434B5C;\n",
       "      --hover-fill-color: #FFFFFF;\n",
       "      --disabled-bg-color: #3B4455;\n",
       "      --disabled-fill-color: #666;\n",
       "  }\n",
       "\n",
       "  .colab-df-quickchart {\n",
       "    background-color: var(--bg-color);\n",
       "    border: none;\n",
       "    border-radius: 50%;\n",
       "    cursor: pointer;\n",
       "    display: none;\n",
       "    fill: var(--fill-color);\n",
       "    height: 32px;\n",
       "    padding: 0;\n",
       "    width: 32px;\n",
       "  }\n",
       "\n",
       "  .colab-df-quickchart:hover {\n",
       "    background-color: var(--hover-bg-color);\n",
       "    box-shadow: 0 1px 2px rgba(60, 64, 67, 0.3), 0 1px 3px 1px rgba(60, 64, 67, 0.15);\n",
       "    fill: var(--button-hover-fill-color);\n",
       "  }\n",
       "\n",
       "  .colab-df-quickchart-complete:disabled,\n",
       "  .colab-df-quickchart-complete:disabled:hover {\n",
       "    background-color: var(--disabled-bg-color);\n",
       "    fill: var(--disabled-fill-color);\n",
       "    box-shadow: none;\n",
       "  }\n",
       "\n",
       "  .colab-df-spinner {\n",
       "    border: 2px solid var(--fill-color);\n",
       "    border-color: transparent;\n",
       "    border-bottom-color: var(--fill-color);\n",
       "    animation:\n",
       "      spin 1s steps(1) infinite;\n",
       "  }\n",
       "\n",
       "  @keyframes spin {\n",
       "    0% {\n",
       "      border-color: transparent;\n",
       "      border-bottom-color: var(--fill-color);\n",
       "      border-left-color: var(--fill-color);\n",
       "    }\n",
       "    20% {\n",
       "      border-color: transparent;\n",
       "      border-left-color: var(--fill-color);\n",
       "      border-top-color: var(--fill-color);\n",
       "    }\n",
       "    30% {\n",
       "      border-color: transparent;\n",
       "      border-left-color: var(--fill-color);\n",
       "      border-top-color: var(--fill-color);\n",
       "      border-right-color: var(--fill-color);\n",
       "    }\n",
       "    40% {\n",
       "      border-color: transparent;\n",
       "      border-right-color: var(--fill-color);\n",
       "      border-top-color: var(--fill-color);\n",
       "    }\n",
       "    60% {\n",
       "      border-color: transparent;\n",
       "      border-right-color: var(--fill-color);\n",
       "    }\n",
       "    80% {\n",
       "      border-color: transparent;\n",
       "      border-right-color: var(--fill-color);\n",
       "      border-bottom-color: var(--fill-color);\n",
       "    }\n",
       "    90% {\n",
       "      border-color: transparent;\n",
       "      border-bottom-color: var(--fill-color);\n",
       "    }\n",
       "  }\n",
       "</style>\n",
       "\n",
       "  <script>\n",
       "    async function quickchart(key) {\n",
       "      const quickchartButtonEl =\n",
       "        document.querySelector('#' + key + ' button');\n",
       "      quickchartButtonEl.disabled = true;  // To prevent multiple clicks.\n",
       "      quickchartButtonEl.classList.add('colab-df-spinner');\n",
       "      try {\n",
       "        const charts = await google.colab.kernel.invokeFunction(\n",
       "            'suggestCharts', [key], {});\n",
       "      } catch (error) {\n",
       "        console.error('Error during call to suggestCharts:', error);\n",
       "      }\n",
       "      quickchartButtonEl.classList.remove('colab-df-spinner');\n",
       "      quickchartButtonEl.classList.add('colab-df-quickchart-complete');\n",
       "    }\n",
       "    (() => {\n",
       "      let quickchartButtonEl =\n",
       "        document.querySelector('#df-2af961bb-e93a-473c-96ef-9091af304f62 button');\n",
       "      quickchartButtonEl.style.display =\n",
       "        google.colab.kernel.accessAllowed ? 'block' : 'none';\n",
       "    })();\n",
       "  </script>\n",
       "</div>\n",
       "\n",
       "    </div>\n",
       "  </div>\n"
      ],
      "text/plain": [
       "   user_id    group landing_page  time_spent_on_the_page converted  \\\n",
       "0   546592  control          old                    3.48        no   \n",
       "3   546567  control          old                    3.02        no   \n",
       "5   546558  control          old                    5.28       yes   \n",
       "7   546581  control          old                    6.53       yes   \n",
       "9   546548  control          old                    2.08        no   \n",
       "\n",
       "  language_preferred  \n",
       "0            Spanish  \n",
       "3             French  \n",
       "5            English  \n",
       "7            Spanish  \n",
       "9            English  "
      ]
     },
     "execution_count": 18,
     "metadata": {},
     "output_type": "execute_result"
    }
   ],
   "source": [
    "#Check the time on landing page for users on the old page only\n",
    "dfold=dftest.query('landing_page==\"old\"')\n",
    "dfold.head()"
   ]
  },
  {
   "cell_type": "code",
   "execution_count": null,
   "id": "x-VaQgBJvtfY",
   "metadata": {
    "colab": {
     "base_uri": "https://localhost:8080/"
    },
    "id": "x-VaQgBJvtfY",
    "outputId": "2c875152-39ba-4699-d825-c1cc6a8e13de"
   },
   "outputs": [
    {
     "data": {
      "text/plain": [
       "(50, 6)"
      ]
     },
     "execution_count": 19,
     "metadata": {},
     "output_type": "execute_result"
    }
   ],
   "source": [
    "dfold.shape"
   ]
  },
  {
   "cell_type": "code",
   "execution_count": null,
   "id": "tBM71XCKgJEo",
   "metadata": {
    "colab": {
     "base_uri": "https://localhost:8080/"
    },
    "id": "tBM71XCKgJEo",
    "outputId": "2b56b130-95b8-46d6-c78e-a17299f088bc"
   },
   "outputs": [
    {
     "data": {
      "text/plain": [
       "group\n",
       "control      50\n",
       "treatment    50\n",
       "Name: count, dtype: int64"
      ]
     },
     "execution_count": 21,
     "metadata": {},
     "output_type": "execute_result"
    }
   ],
   "source": [
    "dfnews.group.value_counts()"
   ]
  },
  {
   "cell_type": "code",
   "execution_count": null,
   "id": "tmsEl0hNv0id",
   "metadata": {
    "colab": {
     "base_uri": "https://localhost:8080/",
     "height": 433
    },
    "id": "tmsEl0hNv0id",
    "outputId": "ef9b9cc8-b050-47e4-b4db-b36ce64fa3ba"
   },
   "outputs": [
    {
     "data": {
      "image/png": "[encoded data removed]",
      "text/plain": [
       "<Figure size 640x480 with 1 Axes>"
      ]
     },
     "metadata": {},
     "output_type": "display_data"
    }
   ],
   "source": [
    "#Boxplot for landing time_spent_on_the_page for those landing on old landing page\n",
    "sns.boxplot(data=dfold.time_spent_on_the_page)\n",
    "# Add labels and title\n",
    "plt.ylabel('Minutes')\n",
    "plt.title('Box Plot of Time Spent on the landing Page for old landing page')\n",
    "plt.show()"
   ]
  },
  {
   "cell_type": "markdown",
   "id": "fWt7nfMfwPmu",
   "metadata": {
    "id": "fWt7nfMfwPmu"
   },
   "source": [
    "1. There are no outliers\n",
    "2. data lies between ~ 2.3 -6.2"
   ]
  },
  {
   "cell_type": "code",
   "execution_count": null,
   "id": "gj_86m3uwog8",
   "metadata": {
    "colab": {
     "base_uri": "https://localhost:8080/"
    },
    "id": "gj_86m3uwog8",
    "outputId": "26fc4d27-8a42-40bf-d5cd-22e8a596507e"
   },
   "outputs": [
    {
     "data": {
      "text/plain": [
       "converted\n",
       "yes    54\n",
       "no     46\n",
       "Name: count, dtype: int64"
      ]
     },
     "execution_count": 21,
     "metadata": {},
     "output_type": "execute_result"
    }
   ],
   "source": [
    "#Analysis for data on the converted column\n",
    "dfnews.converted.value_counts()\n",
    "\n",
    "#sns.histplot(dfnews.converted)"
   ]
  },
  {
   "cell_type": "code",
   "execution_count": null,
   "id": "HvT8FKILxPf_",
   "metadata": {
    "colab": {
     "base_uri": "https://localhost:8080/",
     "height": 564
    },
    "id": "HvT8FKILxPf_",
    "outputId": "bd5a834b-6ad5-45df-a7ea-22248ec1273d"
   },
   "outputs": [
    {
     "data": {
      "image/png": "[encoded data removed]",
      "text/plain": [
       "<Figure size 600x600 with 1 Axes>"
      ]
     },
     "metadata": {},
     "output_type": "display_data"
    }
   ],
   "source": [
    "sns.set_style(\"whitegrid\")\n",
    "plt.figure(figsize=(6,6))\n",
    "ax = sns.countplot(data=dfnews, x='converted',color='green')#, palette='pastel')\n",
    "plt.title('Count of Users by Conversion')\n",
    "plt.xlabel('Conversion')\n",
    "plt.ylabel('Count')\n",
    "plt.show()"
   ]
  },
  {
   "cell_type": "markdown",
   "id": "iRWezkGKzDQA",
   "metadata": {
    "id": "iRWezkGKzDQA"
   },
   "source": [
    "From the counts and the plot above 54% of the users were converted. 46% were not converted."
   ]
  },
  {
   "cell_type": "markdown",
   "id": "l32ui7jWzZGi",
   "metadata": {
    "id": "l32ui7jWzZGi"
   },
   "source": []
  },
  {
   "cell_type": "code",
   "execution_count": null,
   "id": "v9GrItm6zTYM",
   "metadata": {
    "colab": {
     "base_uri": "https://localhost:8080/"
    },
    "id": "v9GrItm6zTYM",
    "outputId": "b1254863-1e66-4100-862f-f4475e1959fe"
   },
   "outputs": [
    {
     "data": {
      "text/plain": [
       "language_preferred\n",
       "Spanish    34\n",
       "French     34\n",
       "English    32\n",
       "Name: count, dtype: int64"
      ]
     },
     "execution_count": 31,
     "metadata": {},
     "output_type": "execute_result"
    }
   ],
   "source": [
    "#Analysis of language preffered\n",
    "dfnews.language_preferred.value_counts()"
   ]
  },
  {
   "cell_type": "code",
   "execution_count": null,
   "id": "igN9li8Zz3-Y",
   "metadata": {
    "colab": {
     "base_uri": "https://localhost:8080/",
     "height": 564
    },
    "id": "igN9li8Zz3-Y",
    "outputId": "10c0e60d-1678-42b2-edce-091d481dcc83"
   },
   "outputs": [
    {
     "data": {
      "image/png": "[encoded data removed]",
      "text/plain": [
       "<Figure size 600x600 with 1 Axes>"
      ]
     },
     "metadata": {},
     "output_type": "display_data"
    }
   ],
   "source": [
    "sns.set_style(\"whitegrid\")\n",
    "plt.figure(figsize=(6,6))\n",
    "ax = sns.countplot(data=dfnews, x='language_preferred',hue=\"language_preferred\" )#color='green')#, palette='pastel')\n",
    "plt.title('Count of Users by language preferred')\n",
    "plt.xlabel('Language Preferred')\n",
    "plt.ylabel('Count')\n",
    "plt.show()"
   ]
  },
  {
   "cell_type": "markdown",
   "id": "5c9kwreQ1aDR",
   "metadata": {
    "id": "5c9kwreQ1aDR"
   },
   "source": [
    "1. Spanish and French language are marginaly higher in preference compared each at 34% to English at 32%.\n",
    "2. User are evenly distributed across the 3 languages"
   ]
  },
  {
   "cell_type": "markdown",
   "id": "fad2de2f",
   "metadata": {
    "id": "fad2de2f"
   },
   "source": [
    "### Bivariate Analysis"
   ]
  },
  {
   "cell_type": "markdown",
   "id": "8hmHqLnkiVm1",
   "metadata": {
    "id": "8hmHqLnkiVm1"
   },
   "source": [
    "Time spent on the landing page (Old and New)"
   ]
  },
  {
   "cell_type": "code",
   "execution_count": null,
   "id": "6eZJa41eg21n",
   "metadata": {
    "colab": {
     "base_uri": "https://localhost:8080/",
     "height": 471
    },
    "id": "6eZJa41eg21n",
    "outputId": "eb9ada23-667a-4f64-e9ec-e60cde93dd8f"
   },
   "outputs": [
    {
     "data": {
      "image/png": "[encoded data removed]",
      "text/plain": [
       "<Figure size 1000x600 with 1 Axes>"
      ]
     },
     "metadata": {},
     "output_type": "display_data"
    }
   ],
   "source": [
    "# Isolate the data for the new and the old landing pages\n",
    "old_lpg_data = dfnews[dfnews['landing_page'] == 'old']\n",
    "new_lpg_data = dfnews[dfnews['landing_page'] == 'new']\n",
    "\n",
    "# Define a figure and axis object\n",
    "fig, ax = plt.subplots(figsize=(10,6))\n",
    "\n",
    "# Create boxplots  for the 'old' and 'new' landing pages\n",
    "oldpage_boxplot_data = ax.boxplot(old_lpg_data['time_spent_on_the_page'], positions=[1], widths=0.6, patch_artist=True, boxprops=dict(facecolor='#B6F6C7'))\n",
    "newpage_boxplot_data = ax.boxplot(new_lpg_data['time_spent_on_the_page'], positions=[2], widths=0.6, patch_artist=True, boxprops=dict(facecolor='#BED9F7'))\n",
    "\n",
    "# Define x-axis and y-axis labels and title\n",
    "ax.set_xlabel('Landing Page')\n",
    "ax.set_ylabel('Time Spent on Page (minutes)')\n",
    "ax.set_title('Time Spent on Landing Page by Page Type')\n",
    "\n",
    "# Define the legend for the boxplot colors\n",
    "ax.legend([oldpage_boxplot_data[\"boxes\"][0], newpage_boxplot_data[\"boxes\"][0]], ['old', 'new'])\n",
    "\n",
    "# Show the boxplots\n",
    "plt.show()"
   ]
  },
  {
   "cell_type": "markdown",
   "id": "H45r6QmRTF7X",
   "metadata": {
    "id": "H45r6QmRTF7X"
   },
   "source": [
    "1. There are 3 outliers in the new landing page.\n",
    "2. The median for the \"old\" landing page is slightly lower ~4.5 minutes compared to that of the \"new\" landing page which is ~6.2 minutes\n",
    "3. The 75th percentile of time spent on the new was around 7 minutes, meaning that 75% of users spent less than 7 minutes on the landing pages."
   ]
  },
  {
   "cell_type": "markdown",
   "id": "eYsz9JlgXhET",
   "metadata": {
    "id": "eYsz9JlgXhET"
   },
   "source": [
    "**Conversion Vs Time spent on the Page**"
   ]
  },
  {
   "cell_type": "code",
   "execution_count": null,
   "id": "2wjaaHIRXo86",
   "metadata": {
    "colab": {
     "base_uri": "https://localhost:8080/",
     "height": 471
    },
    "id": "2wjaaHIRXo86",
    "outputId": "7d87a9c4-5f65-4cfd-b5d6-5d7eeec5efd9"
   },
   "outputs": [
    {
     "data": {
      "image/png": "[encoded data removed]",
      "text/plain": [
       "<Figure size 1000x600 with 1 Axes>"
      ]
     },
     "metadata": {},
     "output_type": "display_data"
    }
   ],
   "source": [
    "\n",
    "## We start by doing visualization\n",
    "#Define a figure and the axis variables/objects\n",
    "fig, ax = plt.subplots(figsize=(10,6))\n",
    "\n",
    "# Create boxplot data for the 'converted' values of 'yes' and 'no'\n",
    "yes_bplot_data = ax.boxplot(dfnews[dfnews['converted'] == 'yes']['time_spent_on_the_page'], positions=[1], widths=0.6, patch_artist=True, boxprops=dict(facecolor='#B6F6C7'))\n",
    "no_bplot_data = ax.boxplot(dfnews[dfnews['converted'] == 'no']['time_spent_on_the_page'], positions=[2], widths=0.6, patch_artist=True, boxprops=dict(facecolor='#BED9F7'))\n",
    "\n",
    "# Set x-axis and y-axis labels and title\n",
    "ax.set_xlabel('Converted')\n",
    "ax.set_ylabel('Time Spent on Page in minutes')\n",
    "ax.set_title('Time Spent on Landing Page by Conversion Status')\n",
    "\n",
    "# Create a legend for the boxplot colors\n",
    "ax.legend([yes_bplot_data[\"boxes\"][0], no_bplot_data[\"boxes\"][0]], ['yes', 'no'])\n",
    "\n",
    "# Show the boxplot\n",
    "plt.show()"
   ]
  },
  {
   "cell_type": "markdown",
   "id": "ITDyl9tZYlHv",
   "metadata": {
    "id": "ITDyl9tZYlHv"
   },
   "source": [
    "1. The \"Yes\" group has 4 outliers. The \"No\" group has 1 outlier\n",
    "2. The median time spent on page in minutes for the \"Yes\" group is higher ~6.5 compared to the \"No\" group at ~4 minutes. This implies that the new page is possibly better than the old page.\n",
    "3. The total time spent in minutes for the converted is higher ~10 minutes compared to the of not converted at ~9 minutes"
   ]
  },
  {
   "cell_type": "markdown",
   "id": "D362QOFScWdG",
   "metadata": {
    "id": "D362QOFScWdG"
   },
   "source": [
    "**Preffered Language versus Time Spent on the Page**"
   ]
  },
  {
   "cell_type": "code",
   "execution_count": null,
   "id": "9HB0xYlZcd-n",
   "metadata": {
    "colab": {
     "base_uri": "https://localhost:8080/",
     "height": 584
    },
    "id": "9HB0xYlZcd-n",
    "outputId": "20018947-a188-4bf7-b188-5027170aa9bd"
   },
   "outputs": [
    {
     "data": {
      "image/png": "[encoded data removed]",
      "text/plain": [
       "<Figure size 1000x600 with 1 Axes>"
      ]
     },
     "metadata": {},
     "output_type": "display_data"
    }
   ],
   "source": [
    "#Visualisation\n",
    "# Create a figure and axis object\n",
    "fig, ax = plt.subplots(figsize=(10,6))\n",
    "\n",
    "# Create boxplot data for each language group\n",
    "eng_bplot_data = ax.boxplot(dfnews[dfnews['language_preferred'] == 'English']['time_spent_on_the_page'], positions=[1], widths=0.6, patch_artist=True, boxprops=dict(facecolor='#B6F6C7'), showfliers=True, showmeans=True)\n",
    "frn_bplot_data = ax.boxplot(dfnews[dfnews['language_preferred'] == 'French']['time_spent_on_the_page'], positions=[2], widths=0.6, patch_artist=True, boxprops=dict(facecolor='#BED9F7'), showfliers=True, showmeans=True)\n",
    "esp_bplot_data = ax.boxplot(dfnews[dfnews['language_preferred'] == 'Spanish']['time_spent_on_the_page'], positions=[3], widths=0.6, patch_artist=True, boxprops=dict(facecolor='#F8CECC'), showfliers=True, showmeans=True)\n",
    "\n",
    "# Set x-axis and y-axis labels and title\n",
    "ax.set_xlabel('Language Preferred')\n",
    "ax.set_ylabel('Time Spent on Page inminutes')\n",
    "ax.set_title('Time Spent on Landing Page by Language Preference')\n",
    "\n",
    "# Create a legend for the boxplot colors\n",
    "ax.legend([eng_bplot_data[\"boxes\"][0], frn_bplot_data[\"boxes\"][0], esp_bplot_data[\"boxes\"][0]], ['English', 'French', 'Spanish'])\n",
    "\n",
    "# Show the boxplot\n",
    "plt.show()"
   ]
  },
  {
   "cell_type": "code",
   "execution_count": null,
   "id": "nc7KG5zXdKvI",
   "metadata": {
    "id": "nc7KG5zXdKvI"
   },
   "outputs": [],
   "source": [
    "1. The median time spent on the page for all the three language groups (English, French and Spanish) are close with English having the highest and French the lowest.\n",
    "2. English has the highest standard deviation (2.62), indicating that there is more variability in the time spent on the page for English speakers compared to French and Spanish speakers.\n",
    "3. There is 1 outliers in the Spanish group with a time spent on page which is nearly 0 minutes.\n",
    "4. When we compare, we can deduce that the distributions of time spent on the page for each language group are relatively similar. There are some overlap in the interquartile ranges. Therefore, we can't conclude that language preference has a significant impact on the time spent on the page.\n"
   ]
  },
  {
   "cell_type": "markdown",
   "id": "PVVA2aqsiGrM",
   "metadata": {
    "id": "PVVA2aqsiGrM"
   },
   "source": [
    "## 1. Do the users spend more time on the new landing page than the existing landing page?\n"
   ]
  },
  {
   "cell_type": "markdown",
   "id": "-jdHbyeCiIgb",
   "metadata": {
    "id": "-jdHbyeCiIgb"
   },
   "source": [
    "Visualisation"
   ]
  },
  {
   "cell_type": "code",
   "execution_count": null,
   "id": "oVKDZZzWfeI2",
   "metadata": {
    "colab": {
     "base_uri": "https://localhost:8080/",
     "height": 471
    },
    "id": "oVKDZZzWfeI2",
    "outputId": "9fdf92fe-adfc-4626-a267-a10bcd8f2836"
   },
   "outputs": [
    {
     "data": {
      "image/png": "[encoded data removed]",
      "text/plain": [
       "<Figure size 1000x600 with 1 Axes>"
      ]
     },
     "metadata": {},
     "output_type": "display_data"
    }
   ],
   "source": [
    "# Isolate the data for the new and the old landing pages\n",
    "old_lpg_data = dfnews[dfnews['landing_page'] == 'old']\n",
    "new_lpg_data = dfnews[dfnews['landing_page'] == 'new']\n",
    "\n",
    "# Define a figure and axis object\n",
    "fig, ax = plt.subplots(figsize=(10,6))\n",
    "\n",
    "# Create boxplots  for the 'old' and 'new' landing pages\n",
    "oldpage_boxplot_data = ax.boxplot(old_lpg_data['time_spent_on_the_page'], positions=[1], widths=0.6, patch_artist=True, boxprops=dict(facecolor='#B6F6C7'))\n",
    "newpage_boxplot_data = ax.boxplot(new_lpg_data['time_spent_on_the_page'], positions=[2], widths=0.6, patch_artist=True, boxprops=dict(facecolor='#BED9F7'))\n",
    "\n",
    "# Define x-axis and y-axis labels and title\n",
    "ax.set_xlabel('Landing Page')\n",
    "ax.set_ylabel('Time Spent on Page (minutes)')\n",
    "ax.set_title('Time Spent on Landing Page by Page Type')\n",
    "\n",
    "# Define the legend for the boxplot colors\n",
    "ax.legend([oldpage_boxplot_data[\"boxes\"][0], newpage_boxplot_data[\"boxes\"][0]], ['old', 'new'])\n",
    "\n",
    "# Show the boxplots\n",
    "plt.show()"
   ]
  },
  {
   "cell_type": "markdown",
   "id": "rusmtfzVjGTB",
   "metadata": {
    "id": "rusmtfzVjGTB"
   },
   "source": [
    "The median for the \"old\" landing page is slightly lower ~4.5 minutes compared to that of the \"new\" landing page which is ~6.2 minutes. For further investigations, we shall conduct the statistical test below;"
   ]
  },
  {
   "cell_type": "markdown",
   "id": "56b3dafd",
   "metadata": {
    "id": "56b3dafd"
   },
   "source": [
    "### Step 1: Define the null and alternate hypotheses"
   ]
  },
  {
   "cell_type": "markdown",
   "id": "d2ac77ef",
   "metadata": {
    "id": "d2ac77ef"
   },
   "source": [
    "Let  μ1,  be the the mean time spent on the new landing page and μ2 be the mean time spent on the existing landing page respectively.\n",
    "\n",
    "Null hypothesis\n",
    "\n",
    "H0:μ1=μ2\n",
    "\n",
    "Alternate hypothesis\n",
    "\n",
    "Ha:μ1>μ2"
   ]
  },
  {
   "cell_type": "markdown",
   "id": "c7ee4907",
   "metadata": {
    "id": "c7ee4907"
   },
   "source": [
    "### Step 2: Select Appropriate test"
   ]
  },
  {
   "cell_type": "markdown",
   "id": "2c183cd7",
   "metadata": {
    "id": "2c183cd7"
   },
   "source": [
    "We shall conduct a one-tailed test for the two population means from two independent populations. Since the standard deviations for the populations are unknown, we will use a Two Independent Sample T-test. We will conduct Shapiro-Wilk’s test to check whether the 'time_spent_on_the_page' variable for both the control and treatment groups follows a normal distirbution or not."
   ]
  },
  {
   "cell_type": "markdown",
   "id": "XccoBuSxkYez",
   "metadata": {
    "id": "XccoBuSxkYez"
   },
   "source": [
    "Shapiro-Wilk's Test\n",
    "\n",
    "H0:  Time spent on the page for control group/ treatment group follows a normal distribution"
   ]
  },
  {
   "cell_type": "code",
   "execution_count": null,
   "id": "3oVAt4MYkdSj",
   "metadata": {
    "colab": {
     "base_uri": "https://localhost:8080/"
    },
    "id": "3oVAt4MYkdSj",
    "outputId": "f6c75608-28fa-4521-8426-210990e201a0"
   },
   "outputs": [
    {
     "name": "stdout",
     "output_type": "stream",
     "text": [
      "Shapiro-Wilk's test result for control group: ShapiroResult(statistic=0.9776089191436768, pvalue=0.45611920952796936)\n",
      "Shapiro-Wilk's test result for treatment group: ShapiroResult(statistic=0.9857664704322815, pvalue=0.8040016293525696)\n"
     ]
    }
   ],
   "source": [
    "#We test if the Time spent on the page for control group/ treatment group follows a normal distribution\n",
    "from scipy.stats import shapiro\n",
    "\n",
    "# Subset the data for control group and treatment group\n",
    "control_df = dfnews[dfnews['group'] == 'control']\n",
    "treatment_df = dfnews[dfnews['group'] == 'treatment']\n",
    "\n",
    "# Perform Shapiro-Wilk's test on control group\n",
    "control_sw = shapiro(control_df['time_spent_on_the_page'])\n",
    "print(\"Shapiro-Wilk's test result for control group:\", control_sw)\n",
    "\n",
    "# Perform Shapiro-Wilk's test on treatment group\n",
    "treatment_sw = shapiro(treatment_df['time_spent_on_the_page'])\n",
    "print(\"Shapiro-Wilk's test result for treatment group:\", treatment_sw)\n"
   ]
  },
  {
   "cell_type": "markdown",
   "id": "qpil4DgJlN9C",
   "metadata": {
    "id": "qpil4DgJlN9C"
   },
   "source": [
    "Since p-value (~0.456 and ~0.804) of the test is much greater than the level of significance ($\\alpha = 0.05$), we **fail to reject the null hypothesis** that the response follows the normal distribution. Therefore, we can conclude that the time_spent_on_the_page variable for both the control and treatment groups **follow a normal distribution**."
   ]
  },
  {
   "cell_type": "markdown",
   "id": "vlRZ3S6lmafY",
   "metadata": {
    "id": "vlRZ3S6lmafY"
   },
   "source": [
    "### Let's test whether the T-test assumptions are satisfied or not\n",
    "\n",
    "* Continuous data - Yes, the time spending on the page is measured on a continuous scale.\n",
    "* Normally distributed populations - The time_spent_on_the_page variable for both the control and treatment groups follow a normal distribution via Shapiro-Wilk’s test.\n",
    "* Independent populations - As we are taking random samples for two different groups, the two samples are from two independent populations.\n",
    "* Unequal population standard deviations - As the sample standard deviations are different, the population standard deviations may be assumed to be different.\n",
    "* Random sampling from the population - Yes, the sample of 100 users was selected randomly.\n",
    "\n",
    "We can use **two Independent Sample T-test** for this problem."
   ]
  },
  {
   "cell_type": "code",
   "execution_count": null,
   "id": "YglOetrLkq2C",
   "metadata": {
    "id": "YglOetrLkq2C"
   },
   "outputs": [],
   "source": []
  },
  {
   "cell_type": "markdown",
   "id": "3f58c9a7",
   "metadata": {
    "id": "3f58c9a7"
   },
   "source": [
    "### Step 3: Decide the significance level"
   ]
  },
  {
   "cell_type": "markdown",
   "id": "92d7d7ee",
   "metadata": {
    "id": "92d7d7ee"
   },
   "source": [
    "We shall use a significance level of α=0.05 as provided in the problem statement."
   ]
  },
  {
   "cell_type": "markdown",
   "id": "5fed2eac",
   "metadata": {
    "id": "5fed2eac"
   },
   "source": [
    "### Step 4: Collect and prepare data"
   ]
  },
  {
   "cell_type": "code",
   "execution_count": null,
   "id": "gSU9VmUpp2pP",
   "metadata": {
    "colab": {
     "base_uri": "https://localhost:8080/"
    },
    "id": "gSU9VmUpp2pP",
    "outputId": "0245d6ce-2cbe-4e54-bb0a-b70eaf3c0c6e"
   },
   "outputs": [
    {
     "name": "stdout",
     "output_type": "stream",
     "text": [
      "<class 'pandas.core.frame.DataFrame'>\n",
      "RangeIndex: 100 entries, 0 to 99\n",
      "Data columns (total 6 columns):\n",
      " #   Column                  Non-Null Count  Dtype  \n",
      "---  ------                  --------------  -----  \n",
      " 0   user_id                 100 non-null    int64  \n",
      " 1   group                   100 non-null    object \n",
      " 2   landing_page            100 non-null    object \n",
      " 3   time_spent_on_the_page  100 non-null    float64\n",
      " 4   converted               100 non-null    object \n",
      " 5   language_preferred      100 non-null    object \n",
      "dtypes: float64(1), int64(1), object(4)\n",
      "memory usage: 4.8+ KB\n"
     ]
    }
   ],
   "source": [
    "dfnews.info()"
   ]
  },
  {
   "cell_type": "code",
   "execution_count": null,
   "id": "f5a59495",
   "metadata": {
    "id": "f5a59495"
   },
   "outputs": [],
   "source": [
    "# filter data for new landing page users and create a data frame\n",
    "time_spent_on_the_page_new = dfnews[dfnews['landing_page'] == 'new']['time_spent_on_the_page']\n",
    "\n",
    "# filter data for old landing page users and create a data frame\n",
    "time_spent_on_the_page_old = dfnews[dfnews['landing_page'] == 'old']['time_spent_on_the_page']"
   ]
  },
  {
   "cell_type": "code",
   "execution_count": null,
   "id": "--gtXochsDZe",
   "metadata": {
    "colab": {
     "base_uri": "https://localhost:8080/"
    },
    "id": "--gtXochsDZe",
    "outputId": "32119ee8-a3ea-4bc1-c564-2d2e725679a1"
   },
   "outputs": [
    {
     "name": "stdout",
     "output_type": "stream",
     "text": [
      "The sample standard deviation of the time spent on the new page is:  1.82\n",
      "The sample standard deviation of the time spent on the old page is:  2.58\n"
     ]
    }
   ],
   "source": [
    "print(\"The sample standard deviation of the time spent on the new page is: \",round(time_spent_on_the_page_new.std(),2))\n",
    "print(\"The sample standard deviation of the time spent on the old page is: \",round(time_spent_on_the_page_old.std(),2))"
   ]
  },
  {
   "cell_type": "markdown",
   "id": "wqlrb1XhsDFa",
   "metadata": {
    "id": "wqlrb1XhsDFa"
   },
   "source": []
  },
  {
   "cell_type": "markdown",
   "id": "f5c5258d",
   "metadata": {
    "id": "f5c5258d"
   },
   "source": [
    "### Step 5: Calculate the p-value"
   ]
  },
  {
   "cell_type": "code",
   "execution_count": null,
   "id": "fac8594a",
   "metadata": {
    "colab": {
     "base_uri": "https://localhost:8080/"
    },
    "id": "fac8594a",
    "outputId": "a79fd435-3394-42f6-e042-8e3a79a02b88"
   },
   "outputs": [
    {
     "name": "stdout",
     "output_type": "stream",
     "text": [
      "The p-value is 0.0001392381225166549\n"
     ]
    }
   ],
   "source": [
    "from scipy.stats import ttest_ind\n",
    "\n",
    "# calculate the p-value\n",
    "test_stat, p_value =  ttest_ind(time_spent_on_the_page_new, time_spent_on_the_page_old, equal_var = False, alternative = 'greater')\n",
    "\n",
    "print('The p-value is', p_value)"
   ]
  },
  {
   "cell_type": "markdown",
   "id": "359b12f8",
   "metadata": {
    "id": "359b12f8"
   },
   "source": [
    "### Step 6: Compare the p-value with $\\alpha$"
   ]
  },
  {
   "cell_type": "code",
   "execution_count": null,
   "id": "7be47289",
   "metadata": {
    "colab": {
     "base_uri": "https://localhost:8080/"
    },
    "id": "7be47289",
    "outputId": "f8029f44-b5e1-4abe-bfe7-5f91835af054"
   },
   "outputs": [
    {
     "name": "stdout",
     "output_type": "stream",
     "text": [
      "Since the p-value {p_value} is less than the level of significance, we reject the null hypothesis.\n"
     ]
    }
   ],
   "source": [
    "#If P value is less that level of significance which is 0.05 then we reject the null hypothesis\n",
    "if p_value < 0.05:\n",
    "    print('Since the p-value {p_value} is less than the level of significance, we reject the null hypothesis.')\n",
    "else:\n",
    "    print('Since the p-value {p_value} is greater than the level of significance, we fail to reject the null hypothesis.')"
   ]
  },
  {
   "cell_type": "markdown",
   "id": "d9affc84",
   "metadata": {
    "id": "d9affc84"
   },
   "source": [
    "### Step 7:  Draw inference"
   ]
  },
  {
   "cell_type": "markdown",
   "id": "6b16dd4b",
   "metadata": {
    "id": "6b16dd4b"
   },
   "source": [
    "The p-value (~0.00013) is much less than the level of significance ( α=0.05 ). We reject the null hypothesis. We therefore have enough evidence to support the claim that users spend more time on the new landing page than the old landing page."
   ]
  },
  {
   "cell_type": "markdown",
   "id": "1ad0823a",
   "metadata": {
    "id": "1ad0823a"
   },
   "source": [
    "**A similar approach can be followed to answer the other questions.**"
   ]
  },
  {
   "cell_type": "markdown",
   "id": "353e9d24",
   "metadata": {
    "id": "353e9d24"
   },
   "source": [
    "## 2. Is the conversion rate (the proportion of users who visit the landing page and get converted) for the new page greater than the conversion rate for the old page?"
   ]
  },
  {
   "cell_type": "markdown",
   "id": "OLc-rfiywEgB",
   "metadata": {
    "id": "OLc-rfiywEgB"
   },
   "source": [
    "We perform a Visual analysis"
   ]
  },
  {
   "cell_type": "code",
   "execution_count": null,
   "id": "Q0Pb61mCwJgc",
   "metadata": {
    "colab": {
     "base_uri": "https://localhost:8080/",
     "height": 733
    },
    "id": "Q0Pb61mCwJgc",
    "outputId": "f774fe59-ecbd-4b2e-a93b-5d980490865b"
   },
   "outputs": [
    {
     "data": {
      "image/png": "[encoded data removed]",
      "text/plain": [
       "<Figure size 600x800 with 1 Axes>"
      ]
     },
     "metadata": {},
     "output_type": "display_data"
    }
   ],
   "source": [
    "#Create a crosstab for the data and plt the bar chart\n",
    "cr = pd.crosstab(dfnews['landing_page'], dfnews['converted'], normalize='index')\n",
    "cr.plot(kind='bar', figsize=(6,8), stacked=True, color=['#ff7676', '#958623'])\n",
    "plt.xlabel('Landing Page')\n",
    "plt.ylabel('Conversion Rate')\n",
    "plt.title('Conversion Rate by Landing Page')\n",
    "plt.show()"
   ]
  },
  {
   "cell_type": "markdown",
   "id": "PuOYgzfaxuXZ",
   "metadata": {
    "id": "PuOYgzfaxuXZ"
   },
   "source": [
    "From the bar chart the conversion rate for the new page is higher than for the old page."
   ]
  },
  {
   "cell_type": "code",
   "execution_count": null,
   "id": "PjGmSVzGx9QB",
   "metadata": {
    "colab": {
     "base_uri": "https://localhost:8080/"
    },
    "id": "PjGmSVzGx9QB",
    "outputId": "50ab3e27-3877-4b17-b667-2fa792cfc765"
   },
   "outputs": [
    {
     "data": {
      "text/plain": [
       "landing_page  converted\n",
       "new           no           17\n",
       "              yes          33\n",
       "old           no           29\n",
       "              yes          21\n",
       "dtype: int64"
      ]
     },
     "execution_count": 45,
     "metadata": {},
     "output_type": "execute_result"
    }
   ],
   "source": [
    "#We test if the conversion rate for the new is bigger than for the old\n",
    "dfnews.groupby(['landing_page', 'converted']).size()"
   ]
  },
  {
   "cell_type": "markdown",
   "id": "V6IGG5vRyfRo",
   "metadata": {
    "id": "V6IGG5vRyfRo"
   },
   "source": [
    "Comparatively more users are converted on the new than on the old page."
   ]
  },
  {
   "cell_type": "markdown",
   "id": "8tLxqYcaypt5",
   "metadata": {
    "id": "8tLxqYcaypt5"
   },
   "source": [
    "### Step 1: Define the Null and Alternate Hypothesis"
   ]
  },
  {
   "cell_type": "markdown",
   "id": "MSMCdFzhyx6G",
   "metadata": {
    "id": "MSMCdFzhyx6G"
   },
   "source": [
    "Assume p1  and  p2  be the proportions of users who visit the new landing page and get converted, and the proportions of users who visit the old landing page and get converted, respectively.\n",
    "\n",
    "We will test the null hypothesis:\n",
    "\n",
    "H0:p1≤p2\n",
    "\n",
    "against the alternative hypothesis:\n",
    "\n",
    "Ha:p1>p2\n",
    "\n",
    "where  p1  represents the conversion rate for the new landing page and  p2  represents the conversion rate for the old landing page.\n",
    "\n",
    "We will use hypothesis testing to determine whether there is sufficient evidence to reject the null hypothesis and accept the alternative hypothesis."
   ]
  },
  {
   "cell_type": "markdown",
   "id": "aSUlOEc9zltR",
   "metadata": {
    "id": "aSUlOEc9zltR"
   },
   "source": [
    "### Step 2: Select Appropriate test\n",
    "\n",
    "\n",
    "This is a one-tailed test concerning two population proportions from two independent populations. **Based on this information, we will use a Two Proportion Z-test.\n",
    "\n",
    "Let's test whether the Z-test assumptions are satisfied or not\n",
    "\n",
    "*   Binomally distributed population - Yes, a user is either converted or not converted.\n",
    "* Random sampling from the population - Yes, we are informed that the collected sample is a simple random sample.\n",
    "*   Can the binomial distribution be approximated to normal distribution - Yes."
   ]
  },
  {
   "cell_type": "markdown",
   "id": "q_Ez4VC41AZr",
   "metadata": {
    "id": "q_Ez4VC41AZr"
   },
   "source": [
    "### Step 3: Decide the significance level\n",
    "We select α = 0.05 as guided in the business problem."
   ]
  },
  {
   "cell_type": "markdown",
   "id": "9aMugf0-1xtc",
   "metadata": {
    "id": "9aMugf0-1xtc"
   },
   "source": [
    "### Step 4: Collect and prepare data"
   ]
  },
  {
   "cell_type": "code",
   "execution_count": null,
   "id": "Fuhc4kqR2SpQ",
   "metadata": {
    "id": "Fuhc4kqR2SpQ"
   },
   "outputs": [],
   "source": [
    "# Create an array of converted user counts for old and new landing pages\n",
    "converted_users_counts = np.array([len(dfnews.loc[(dfnews.landing_page == 'old') & (dfnews.converted == 'yes')]),\n",
    "                            len(dfnews.loc[(dfnews.landing_page == 'new') & (dfnews.converted == 'yes')])])\n",
    "\n",
    "# Create and array of sample sizes - we know sample sizes from problem statement\n",
    "sample_sizes = np.array([50, 50])"
   ]
  },
  {
   "cell_type": "code",
   "execution_count": null,
   "id": "1gmWuW3c2rjA",
   "metadata": {
    "colab": {
     "base_uri": "https://localhost:8080/"
    },
    "id": "1gmWuW3c2rjA",
    "outputId": "6ac67580-2f45-4687-807d-7109d4489dd6"
   },
   "outputs": [
    {
     "name": "stdout",
     "output_type": "stream",
     "text": [
      "[21 33]\n",
      "[50 50]\n"
     ]
    }
   ],
   "source": [
    "print(converted_users_counts)\n",
    "print(sample_sizes)"
   ]
  },
  {
   "cell_type": "markdown",
   "id": "qdQSjgzyz7SI",
   "metadata": {
    "id": "qdQSjgzyz7SI"
   },
   "source": [
    "### Step 5: Calculate the p-value"
   ]
  },
  {
   "cell_type": "code",
   "execution_count": null,
   "id": "u8_IL-Im3O4g",
   "metadata": {
    "colab": {
     "base_uri": "https://localhost:8080/"
    },
    "id": "u8_IL-Im3O4g",
    "outputId": "f8f9815f-c49b-41ab-a5c3-bf2eb77a43a4"
   },
   "outputs": [
    {
     "name": "stdout",
     "output_type": "stream",
     "text": [
      "The calculated p-value is 0.016052616408112556\n"
     ]
    }
   ],
   "source": [
    "from statsmodels.stats.proportion import proportions_ztest\n",
    "\n",
    "# Calculate p-value using ttest_ind()\n",
    "test_stat, p_value = proportions_ztest(converted_users_counts, sample_sizes)\n",
    "\n",
    "print('The calculated p-value is', p_value) # print p-value"
   ]
  },
  {
   "cell_type": "markdown",
   "id": "HPRgseDp3doc",
   "metadata": {
    "id": "HPRgseDp3doc"
   },
   "source": [
    "### Step 6: Compare the p-value with  α"
   ]
  },
  {
   "cell_type": "markdown",
   "id": "MADrF5sI37rx",
   "metadata": {
    "id": "MADrF5sI37rx"
   },
   "source": [
    "p-value 0.016 and is less that the significance level value of 0.05. We therefore reject the null hypothesis"
   ]
  },
  {
   "cell_type": "markdown",
   "id": "n5N2kEy24RBG",
   "metadata": {
    "id": "n5N2kEy24RBG"
   },
   "source": [
    "### Step 7: Inferences"
   ]
  },
  {
   "cell_type": "markdown",
   "id": "3nqnufXw4a0g",
   "metadata": {
    "id": "3nqnufXw4a0g"
   },
   "source": [
    "p-Value is less that 0.05, the level of significance. We therefore reject the hypothesis since we do not have sufficient evidence that the conversion for the group on the new page is less than that of the old page."
   ]
  },
  {
   "cell_type": "markdown",
   "id": "d49bfa2d",
   "metadata": {
    "id": "d49bfa2d"
   },
   "source": [
    "## 3. Is the conversion and preferred language are independent or related?"
   ]
  },
  {
   "cell_type": "markdown",
   "id": "OxMm0Rp48ph5",
   "metadata": {
    "id": "OxMm0Rp48ph5"
   },
   "source": [
    "### Begin with Visual Analysis"
   ]
  },
  {
   "cell_type": "code",
   "execution_count": null,
   "id": "XSgfPdkT8zE7",
   "metadata": {
    "colab": {
     "base_uri": "https://localhost:8080/",
     "height": 728
    },
    "id": "XSgfPdkT8zE7",
    "outputId": "41571ff0-2fda-4931-9065-7b6e164a8bec"
   },
   "outputs": [
    {
     "data": {
      "image/png": "[encoded data removed]",
      "text/plain": [
       "<Figure size 600x800 with 1 Axes>"
      ]
     },
     "metadata": {},
     "output_type": "display_data"
    }
   ],
   "source": [
    "pd.crosstab(dfnews['converted'], dfnews['language_preferred'], normalize='index').plot(kind=\"bar\", figsize=(6,8), stacked=True, color=['#ccf5ff', '#b30000', '#958623'])\n",
    "plt.legend()\n",
    "plt.xlabel('Converted')\n",
    "plt.ylabel('Conversion Rate')\n",
    "plt.title('Conversion Rate by Language')\n",
    "plt.show()"
   ]
  },
  {
   "cell_type": "markdown",
   "id": "y1WACcsz-gz1",
   "metadata": {
    "id": "y1WACcsz-gz1"
   },
   "source": [
    "From the chart above, the conversion for French speakers is lower than that of other languages."
   ]
  },
  {
   "cell_type": "markdown",
   "id": "QAuYbFqz-rgE",
   "metadata": {
    "id": "QAuYbFqz-rgE"
   },
   "source": [
    "### Step 1: Define the Null and Alternate Hypotheses"
   ]
  },
  {
   "cell_type": "markdown",
   "id": "wRc84Yhe-5FG",
   "metadata": {
    "id": "wRc84Yhe-5FG"
   },
   "source": [
    "We define the hyptheses as below\n",
    "\n",
    "Null Hypotheses:\n",
    "H0:  Conversion status and preferred language are independent\n",
    "\n",
    "The alternate hypotheses:\n",
    "\n",
    "Ha: Conversion status and preferred language are not independent"
   ]
  },
  {
   "cell_type": "markdown",
   "id": "-G5NmrFk_Ry4",
   "metadata": {
    "id": "-G5NmrFk_Ry4"
   },
   "source": [
    "### Step 2: Select Appropriate test"
   ]
  },
  {
   "cell_type": "markdown",
   "id": "_3S-QYjC_bCT",
   "metadata": {
    "id": "_3S-QYjC_bCT"
   },
   "source": [
    "This problem requires a test of independence. It concerns two categorical variables - converted status and preferred language. The Chi-Square Test for Independence will be used.\n",
    "\n",
    "Are the Assumptions Satisfied?\n",
    "\n",
    "\n",
    "\n",
    "*   Categorical variables - Yes\n",
    "*   Expected value of the number of sample observations in each level of the variable is at least 5 - Yes, the number of observations in each level is greater than 5.\n",
    "*   Random sampling from the population - Yes, a sample of 100 users was random selected."
   ]
  },
  {
   "cell_type": "markdown",
   "id": "alctasu4AW6F",
   "metadata": {
    "id": "alctasu4AW6F"
   },
   "source": [
    "### Step 3: Decide the significance level"
   ]
  },
  {
   "cell_type": "markdown",
   "id": "nz6B375UAhn-",
   "metadata": {
    "id": "nz6B375UAhn-"
   },
   "source": [
    "As provided for in the problem statement, we use  α = 0.05."
   ]
  },
  {
   "cell_type": "markdown",
   "id": "ubVdGf0KAo_c",
   "metadata": {
    "id": "ubVdGf0KAo_c"
   },
   "source": [
    "### Step 4: Collect data"
   ]
  },
  {
   "cell_type": "code",
   "execution_count": null,
   "id": "eUIOBsCV_PHA",
   "metadata": {
    "colab": {
     "base_uri": "https://localhost:8080/",
     "height": 143
    },
    "id": "eUIOBsCV_PHA",
    "outputId": "1d0381ce-f5e6-43c8-ac8c-e2d17e43ba02"
   },
   "outputs": [
    {
     "data": {
      "application/vnd.google.colaboratory.intrinsic+json": {
       "summary": "{\n  \"name\": \"cont_table\",\n  \"rows\": 2,\n  \"fields\": [\n    {\n      \"column\": \"converted\",\n      \"properties\": {\n        \"dtype\": \"string\",\n        \"num_unique_values\": 2,\n        \"samples\": [\n          \"yes\",\n          \"no\"\n        ],\n        \"semantic_type\": \"\",\n        \"description\": \"\"\n      }\n    },\n    {\n      \"column\": \"English\",\n      \"properties\": {\n        \"dtype\": \"number\",\n        \"std\": 7,\n        \"min\": 11,\n        \"max\": 21,\n        \"num_unique_values\": 2,\n        \"samples\": [\n          21,\n          11\n        ],\n        \"semantic_type\": \"\",\n        \"description\": \"\"\n      }\n    },\n    {\n      \"column\": \"French\",\n      \"properties\": {\n        \"dtype\": \"number\",\n        \"std\": 2,\n        \"min\": 15,\n        \"max\": 19,\n        \"num_unique_values\": 2,\n        \"samples\": [\n          15,\n          19\n        ],\n        \"semantic_type\": \"\",\n        \"description\": \"\"\n      }\n    },\n    {\n      \"column\": \"Spanish\",\n      \"properties\": {\n        \"dtype\": \"number\",\n        \"std\": 1,\n        \"min\": 16,\n        \"max\": 18,\n        \"num_unique_values\": 2,\n        \"samples\": [\n          18,\n          16\n        ],\n        \"semantic_type\": \"\",\n        \"description\": \"\"\n      }\n    }\n  ]\n}",
       "type": "dataframe",
       "variable_name": "cont_table"
      },
      "text/html": [
       "\n",
       "  <div id=\"df-19317cf6-90a0-421d-a0a2-a45285365c1b\" class=\"colab-df-container\">\n",
       "    <div>\n",
       "<style scoped>\n",
       "    .dataframe tbody tr th:only-of-type {\n",
       "        vertical-align: middle;\n",
       "    }\n",
       "\n",
       "    .dataframe tbody tr th {\n",
       "        vertical-align: top;\n",
       "    }\n",
       "\n",
       "    .dataframe thead th {\n",
       "        text-align: right;\n",
       "    }\n",
       "</style>\n",
       "<table border=\"1\" class=\"dataframe\">\n",
       "  <thead>\n",
       "    <tr style=\"text-align: right;\">\n",
       "      <th>language_preferred</th>\n",
       "      <th>English</th>\n",
       "      <th>French</th>\n",
       "      <th>Spanish</th>\n",
       "    </tr>\n",
       "    <tr>\n",
       "      <th>converted</th>\n",
       "      <th></th>\n",
       "      <th></th>\n",
       "      <th></th>\n",
       "    </tr>\n",
       "  </thead>\n",
       "  <tbody>\n",
       "    <tr>\n",
       "      <th>no</th>\n",
       "      <td>11</td>\n",
       "      <td>19</td>\n",
       "      <td>16</td>\n",
       "    </tr>\n",
       "    <tr>\n",
       "      <th>yes</th>\n",
       "      <td>21</td>\n",
       "      <td>15</td>\n",
       "      <td>18</td>\n",
       "    </tr>\n",
       "  </tbody>\n",
       "</table>\n",
       "</div>\n",
       "    <div class=\"colab-df-buttons\">\n",
       "\n",
       "  <div class=\"colab-df-container\">\n",
       "    <button class=\"colab-df-convert\" onclick=\"convertToInteractive('df-19317cf6-90a0-421d-a0a2-a45285365c1b')\"\n",
       "            title=\"Convert this dataframe to an interactive table.\"\n",
       "            style=\"display:none;\">\n",
       "\n",
       "  <svg xmlns=\"http://www.w3.org/2000/svg\" height=\"24px\" viewBox=\"0 -960 960 960\">\n",
       "    <path d=\"M120-120v-720h720v720H120Zm60-500h600v-160H180v160Zm220 220h160v-160H400v160Zm0 220h160v-160H400v160ZM180-400h160v-160H180v160Zm440 0h160v-160H620v160ZM180-180h160v-160H180v160Zm440 0h160v-160H620v160Z\"/>\n",
       "  </svg>\n",
       "    </button>\n",
       "\n",
       "  <style>\n",
       "    .colab-df-container {\n",
       "      display:flex;\n",
       "      gap: 12px;\n",
       "    }\n",
       "\n",
       "    .colab-df-convert {\n",
       "      background-color: #E8F0FE;\n",
       "      border: none;\n",
       "      border-radius: 50%;\n",
       "      cursor: pointer;\n",
       "      display: none;\n",
       "      fill: #1967D2;\n",
       "      height: 32px;\n",
       "      padding: 0 0 0 0;\n",
       "      width: 32px;\n",
       "    }\n",
       "\n",
       "    .colab-df-convert:hover {\n",
       "      background-color: #E2EBFA;\n",
       "      box-shadow: 0px 1px 2px rgba(60, 64, 67, 0.3), 0px 1px 3px 1px rgba(60, 64, 67, 0.15);\n",
       "      fill: #174EA6;\n",
       "    }\n",
       "\n",
       "    .colab-df-buttons div {\n",
       "      margin-bottom: 4px;\n",
       "    }\n",
       "\n",
       "    [theme=dark] .colab-df-convert {\n",
       "      background-color: #3B4455;\n",
       "      fill: #D2E3FC;\n",
       "    }\n",
       "\n",
       "    [theme=dark] .colab-df-convert:hover {\n",
       "      background-color: #434B5C;\n",
       "      box-shadow: 0px 1px 3px 1px rgba(0, 0, 0, 0.15);\n",
       "      filter: drop-shadow(0px 1px 2px rgba(0, 0, 0, 0.3));\n",
       "      fill: #FFFFFF;\n",
       "    }\n",
       "  </style>\n",
       "\n",
       "    <script>\n",
       "      const buttonEl =\n",
       "        document.querySelector('#df-19317cf6-90a0-421d-a0a2-a45285365c1b button.colab-df-convert');\n",
       "      buttonEl.style.display =\n",
       "        google.colab.kernel.accessAllowed ? 'block' : 'none';\n",
       "\n",
       "      async function convertToInteractive(key) {\n",
       "        const element = document.querySelector('#df-19317cf6-90a0-421d-a0a2-a45285365c1b');\n",
       "        const dataTable =\n",
       "          await google.colab.kernel.invokeFunction('convertToInteractive',\n",
       "                                                    [key], {});\n",
       "        if (!dataTable) return;\n",
       "\n",
       "        const docLinkHtml = 'Like what you see? Visit the ' +\n",
       "          '<a target=\"_blank\" href=https://colab.research.google.com/notebooks/data_table.ipynb>data table notebook</a>'\n",
       "          + ' to learn more about interactive tables.';\n",
       "        element.innerHTML = '';\n",
       "        dataTable['output_type'] = 'display_data';\n",
       "        await google.colab.output.renderOutput(dataTable, element);\n",
       "        const docLink = document.createElement('div');\n",
       "        docLink.innerHTML = docLinkHtml;\n",
       "        element.appendChild(docLink);\n",
       "      }\n",
       "    </script>\n",
       "  </div>\n",
       "\n",
       "\n",
       "<div id=\"df-6017f3b4-1d73-47d7-b8b4-c425ad07ea30\">\n",
       "  <button class=\"colab-df-quickchart\" onclick=\"quickchart('df-6017f3b4-1d73-47d7-b8b4-c425ad07ea30')\"\n",
       "            title=\"Suggest charts\"\n",
       "            style=\"display:none;\">\n",
       "\n",
       "<svg xmlns=\"http://www.w3.org/2000/svg\" height=\"24px\"viewBox=\"0 0 24 24\"\n",
       "     width=\"24px\">\n",
       "    <g>\n",
       "        <path d=\"M19 3H5c-1.1 0-2 .9-2 2v14c0 1.1.9 2 2 2h14c1.1 0 2-.9 2-2V5c0-1.1-.9-2-2-2zM9 17H7v-7h2v7zm4 0h-2V7h2v10zm4 0h-2v-4h2v4z\"/>\n",
       "    </g>\n",
       "</svg>\n",
       "  </button>\n",
       "\n",
       "<style>\n",
       "  .colab-df-quickchart {\n",
       "      --bg-color: #E8F0FE;\n",
       "      --fill-color: #1967D2;\n",
       "      --hover-bg-color: #E2EBFA;\n",
       "      --hover-fill-color: #174EA6;\n",
       "      --disabled-fill-color: #AAA;\n",
       "      --disabled-bg-color: #DDD;\n",
       "  }\n",
       "\n",
       "  [theme=dark] .colab-df-quickchart {\n",
       "      --bg-color: #3B4455;\n",
       "      --fill-color: #D2E3FC;\n",
       "      --hover-bg-color: #434B5C;\n",
       "      --hover-fill-color: #FFFFFF;\n",
       "      --disabled-bg-color: #3B4455;\n",
       "      --disabled-fill-color: #666;\n",
       "  }\n",
       "\n",
       "  .colab-df-quickchart {\n",
       "    background-color: var(--bg-color);\n",
       "    border: none;\n",
       "    border-radius: 50%;\n",
       "    cursor: pointer;\n",
       "    display: none;\n",
       "    fill: var(--fill-color);\n",
       "    height: 32px;\n",
       "    padding: 0;\n",
       "    width: 32px;\n",
       "  }\n",
       "\n",
       "  .colab-df-quickchart:hover {\n",
       "    background-color: var(--hover-bg-color);\n",
       "    box-shadow: 0 1px 2px rgba(60, 64, 67, 0.3), 0 1px 3px 1px rgba(60, 64, 67, 0.15);\n",
       "    fill: var(--button-hover-fill-color);\n",
       "  }\n",
       "\n",
       "  .colab-df-quickchart-complete:disabled,\n",
       "  .colab-df-quickchart-complete:disabled:hover {\n",
       "    background-color: var(--disabled-bg-color);\n",
       "    fill: var(--disabled-fill-color);\n",
       "    box-shadow: none;\n",
       "  }\n",
       "\n",
       "  .colab-df-spinner {\n",
       "    border: 2px solid var(--fill-color);\n",
       "    border-color: transparent;\n",
       "    border-bottom-color: var(--fill-color);\n",
       "    animation:\n",
       "      spin 1s steps(1) infinite;\n",
       "  }\n",
       "\n",
       "  @keyframes spin {\n",
       "    0% {\n",
       "      border-color: transparent;\n",
       "      border-bottom-color: var(--fill-color);\n",
       "      border-left-color: var(--fill-color);\n",
       "    }\n",
       "    20% {\n",
       "      border-color: transparent;\n",
       "      border-left-color: var(--fill-color);\n",
       "      border-top-color: var(--fill-color);\n",
       "    }\n",
       "    30% {\n",
       "      border-color: transparent;\n",
       "      border-left-color: var(--fill-color);\n",
       "      border-top-color: var(--fill-color);\n",
       "      border-right-color: var(--fill-color);\n",
       "    }\n",
       "    40% {\n",
       "      border-color: transparent;\n",
       "      border-right-color: var(--fill-color);\n",
       "      border-top-color: var(--fill-color);\n",
       "    }\n",
       "    60% {\n",
       "      border-color: transparent;\n",
       "      border-right-color: var(--fill-color);\n",
       "    }\n",
       "    80% {\n",
       "      border-color: transparent;\n",
       "      border-right-color: var(--fill-color);\n",
       "      border-bottom-color: var(--fill-color);\n",
       "    }\n",
       "    90% {\n",
       "      border-color: transparent;\n",
       "      border-bottom-color: var(--fill-color);\n",
       "    }\n",
       "  }\n",
       "</style>\n",
       "\n",
       "  <script>\n",
       "    async function quickchart(key) {\n",
       "      const quickchartButtonEl =\n",
       "        document.querySelector('#' + key + ' button');\n",
       "      quickchartButtonEl.disabled = true;  // To prevent multiple clicks.\n",
       "      quickchartButtonEl.classList.add('colab-df-spinner');\n",
       "      try {\n",
       "        const charts = await google.colab.kernel.invokeFunction(\n",
       "            'suggestCharts', [key], {});\n",
       "      } catch (error) {\n",
       "        console.error('Error during call to suggestCharts:', error);\n",
       "      }\n",
       "      quickchartButtonEl.classList.remove('colab-df-spinner');\n",
       "      quickchartButtonEl.classList.add('colab-df-quickchart-complete');\n",
       "    }\n",
       "    (() => {\n",
       "      let quickchartButtonEl =\n",
       "        document.querySelector('#df-6017f3b4-1d73-47d7-b8b4-c425ad07ea30 button');\n",
       "      quickchartButtonEl.style.display =\n",
       "        google.colab.kernel.accessAllowed ? 'block' : 'none';\n",
       "    })();\n",
       "  </script>\n",
       "</div>\n",
       "\n",
       "  <div id=\"id_a13a4cd9-3694-40a2-80ad-9f1c71441c9a\">\n",
       "    <style>\n",
       "      .colab-df-generate {\n",
       "        background-color: #E8F0FE;\n",
       "        border: none;\n",
       "        border-radius: 50%;\n",
       "        cursor: pointer;\n",
       "        display: none;\n",
       "        fill: #1967D2;\n",
       "        height: 32px;\n",
       "        padding: 0 0 0 0;\n",
       "        width: 32px;\n",
       "      }\n",
       "\n",
       "      .colab-df-generate:hover {\n",
       "        background-color: #E2EBFA;\n",
       "        box-shadow: 0px 1px 2px rgba(60, 64, 67, 0.3), 0px 1px 3px 1px rgba(60, 64, 67, 0.15);\n",
       "        fill: #174EA6;\n",
       "      }\n",
       "\n",
       "      [theme=dark] .colab-df-generate {\n",
       "        background-color: #3B4455;\n",
       "        fill: #D2E3FC;\n",
       "      }\n",
       "\n",
       "      [theme=dark] .colab-df-generate:hover {\n",
       "        background-color: #434B5C;\n",
       "        box-shadow: 0px 1px 3px 1px rgba(0, 0, 0, 0.15);\n",
       "        filter: drop-shadow(0px 1px 2px rgba(0, 0, 0, 0.3));\n",
       "        fill: #FFFFFF;\n",
       "      }\n",
       "    </style>\n",
       "    <button class=\"colab-df-generate\" onclick=\"generateWithVariable('cont_table')\"\n",
       "            title=\"Generate code using this dataframe.\"\n",
       "            style=\"display:none;\">\n",
       "\n",
       "  <svg xmlns=\"http://www.w3.org/2000/svg\" height=\"24px\"viewBox=\"0 0 24 24\"\n",
       "       width=\"24px\">\n",
       "    <path d=\"M7,19H8.4L18.45,9,17,7.55,7,17.6ZM5,21V16.75L18.45,3.32a2,2,0,0,1,2.83,0l1.4,1.43a1.91,1.91,0,0,1,.58,1.4,1.91,1.91,0,0,1-.58,1.4L9.25,21ZM18.45,9,17,7.55Zm-12,3A5.31,5.31,0,0,0,4.9,8.1,5.31,5.31,0,0,0,1,6.5,5.31,5.31,0,0,0,4.9,4.9,5.31,5.31,0,0,0,6.5,1,5.31,5.31,0,0,0,8.1,4.9,5.31,5.31,0,0,0,12,6.5,5.46,5.46,0,0,0,6.5,12Z\"/>\n",
       "  </svg>\n",
       "    </button>\n",
       "    <script>\n",
       "      (() => {\n",
       "      const buttonEl =\n",
       "        document.querySelector('#id_a13a4cd9-3694-40a2-80ad-9f1c71441c9a button.colab-df-generate');\n",
       "      buttonEl.style.display =\n",
       "        google.colab.kernel.accessAllowed ? 'block' : 'none';\n",
       "\n",
       "      buttonEl.onclick = () => {\n",
       "        google.colab.notebook.generateWithVariable('cont_table');\n",
       "      }\n",
       "      })();\n",
       "    </script>\n",
       "  </div>\n",
       "\n",
       "    </div>\n",
       "  </div>\n"
      ],
      "text/plain": [
       "language_preferred  English  French  Spanish\n",
       "converted                                   \n",
       "no                       11      19       16\n",
       "yes                      21      15       18"
      ]
     },
     "execution_count": 4,
     "metadata": {},
     "output_type": "execute_result"
    }
   ],
   "source": [
    "cont_table = pd.crosstab(dfnews['converted'], dfnews['language_preferred'])\n",
    "cont_table"
   ]
  },
  {
   "cell_type": "markdown",
   "id": "mgS8dxyoBQpz",
   "metadata": {
    "id": "mgS8dxyoBQpz"
   },
   "source": [
    "### Step 5: Calculate the p_value"
   ]
  },
  {
   "cell_type": "code",
   "execution_count": null,
   "id": "O7kKnPMpBHwY",
   "metadata": {
    "colab": {
     "base_uri": "https://localhost:8080/"
    },
    "id": "O7kKnPMpBHwY",
    "outputId": "6ad5bdf5-0fa9-442c-9572-bce60fb40cd2"
   },
   "outputs": [
    {
     "name": "stdout",
     "output_type": "stream",
     "text": [
      "The p-value is 0.21298887487543447\n"
     ]
    }
   ],
   "source": [
    "from scipy.stats import chi2_contingency\n",
    "\n",
    "# calculate the p-value\n",
    "chi2, p_value, dof, exp_freq = chi2_contingency(cont_table)\n",
    "print('The p-value is', p_value)"
   ]
  },
  {
   "cell_type": "markdown",
   "id": "vQlA4R4tBhwW",
   "metadata": {
    "id": "vQlA4R4tBhwW"
   },
   "source": [
    "### Step 6: Compare the p-value with  α"
   ]
  },
  {
   "cell_type": "markdown",
   "id": "j7Yypoi4Bzof",
   "metadata": {
    "id": "j7Yypoi4Bzof"
   },
   "source": [
    "p-value is greater than 0.05. We fail to reject the null hypotheses"
   ]
  },
  {
   "cell_type": "markdown",
   "id": "FBQg1taZCIzk",
   "metadata": {
    "id": "FBQg1taZCIzk"
   },
   "source": [
    "### Step 7: inferences"
   ]
  },
  {
   "cell_type": "markdown",
   "id": "Sx0PoRHVCQnh",
   "metadata": {
    "id": "Sx0PoRHVCQnh"
   },
   "source": [
    "Therefore As the p-value (~0.21) is greater than the level of significance ($\\alpha = 0.05$) we **fail to reject the null hypothesis**. We not not have enough evidence to suggest a relationship between the conversion and preferred language variables.  **The conversion status and preferred language are independent of each other.**"
   ]
  },
  {
   "cell_type": "markdown",
   "id": "8d585a90",
   "metadata": {
    "id": "8d585a90"
   },
   "source": [
    "## 4. Is the time spent on the new page same for the different language users?"
   ]
  },
  {
   "cell_type": "markdown",
   "id": "xlbYouh9xTdc",
   "metadata": {
    "id": "xlbYouh9xTdc"
   },
   "source": [
    "Begin by performing the visual analysis"
   ]
  },
  {
   "cell_type": "code",
   "execution_count": null,
   "id": "b422f395",
   "metadata": {
    "colab": {
     "base_uri": "https://localhost:8080/",
     "height": 206
    },
    "id": "b422f395",
    "outputId": "715f485e-211e-410b-c39c-ba4469d89485"
   },
   "outputs": [
    {
     "data": {
      "application/vnd.google.colaboratory.intrinsic+json": {
       "summary": "{\n  \"name\": \"df_newpg\",\n  \"rows\": 50,\n  \"fields\": [\n    {\n      \"column\": \"user_id\",\n      \"properties\": {\n        \"dtype\": \"number\",\n        \"std\": 14,\n        \"min\": 546443,\n        \"max\": 546492,\n        \"num_unique_values\": 50,\n        \"samples\": [\n          546469,\n          546463,\n          546445\n        ],\n        \"semantic_type\": \"\",\n        \"description\": \"\"\n      }\n    },\n    {\n      \"column\": \"group\",\n      \"properties\": {\n        \"dtype\": \"category\",\n        \"num_unique_values\": 1,\n        \"samples\": [\n          \"treatment\"\n        ],\n        \"semantic_type\": \"\",\n        \"description\": \"\"\n      }\n    },\n    {\n      \"column\": \"landing_page\",\n      \"properties\": {\n        \"dtype\": \"category\",\n        \"num_unique_values\": 1,\n        \"samples\": [\n          \"new\"\n        ],\n        \"semantic_type\": \"\",\n        \"description\": \"\"\n      }\n    },\n    {\n      \"column\": \"time_spent_on_the_page\",\n      \"properties\": {\n        \"dtype\": \"number\",\n        \"std\": 1.8170310387878263,\n        \"min\": 1.65,\n        \"max\": 10.71,\n        \"num_unique_values\": 48,\n        \"samples\": [\n          6.01\n        ],\n        \"semantic_type\": \"\",\n        \"description\": \"\"\n      }\n    },\n    {\n      \"column\": \"converted\",\n      \"properties\": {\n        \"dtype\": \"category\",\n        \"num_unique_values\": 2,\n        \"samples\": [\n          \"no\"\n        ],\n        \"semantic_type\": \"\",\n        \"description\": \"\"\n      }\n    },\n    {\n      \"column\": \"language_preferred\",\n      \"properties\": {\n        \"dtype\": \"category\",\n        \"num_unique_values\": 3,\n        \"samples\": [\n          \"English\"\n        ],\n        \"semantic_type\": \"\",\n        \"description\": \"\"\n      }\n    }\n  ]\n}",
       "type": "dataframe",
       "variable_name": "df_newpg"
      },
      "text/html": [
       "\n",
       "  <div id=\"df-c5c07ac3-7a94-4d35-a094-9c97a2df8f04\" class=\"colab-df-container\">\n",
       "    <div>\n",
       "<style scoped>\n",
       "    .dataframe tbody tr th:only-of-type {\n",
       "        vertical-align: middle;\n",
       "    }\n",
       "\n",
       "    .dataframe tbody tr th {\n",
       "        vertical-align: top;\n",
       "    }\n",
       "\n",
       "    .dataframe thead th {\n",
       "        text-align: right;\n",
       "    }\n",
       "</style>\n",
       "<table border=\"1\" class=\"dataframe\">\n",
       "  <thead>\n",
       "    <tr style=\"text-align: right;\">\n",
       "      <th></th>\n",
       "      <th>user_id</th>\n",
       "      <th>group</th>\n",
       "      <th>landing_page</th>\n",
       "      <th>time_spent_on_the_page</th>\n",
       "      <th>converted</th>\n",
       "      <th>language_preferred</th>\n",
       "    </tr>\n",
       "  </thead>\n",
       "  <tbody>\n",
       "    <tr>\n",
       "      <th>1</th>\n",
       "      <td>546468</td>\n",
       "      <td>treatment</td>\n",
       "      <td>new</td>\n",
       "      <td>7.13</td>\n",
       "      <td>yes</td>\n",
       "      <td>English</td>\n",
       "    </tr>\n",
       "    <tr>\n",
       "      <th>2</th>\n",
       "      <td>546462</td>\n",
       "      <td>treatment</td>\n",
       "      <td>new</td>\n",
       "      <td>4.40</td>\n",
       "      <td>no</td>\n",
       "      <td>Spanish</td>\n",
       "    </tr>\n",
       "    <tr>\n",
       "      <th>4</th>\n",
       "      <td>546459</td>\n",
       "      <td>treatment</td>\n",
       "      <td>new</td>\n",
       "      <td>4.75</td>\n",
       "      <td>yes</td>\n",
       "      <td>Spanish</td>\n",
       "    </tr>\n",
       "    <tr>\n",
       "      <th>6</th>\n",
       "      <td>546448</td>\n",
       "      <td>treatment</td>\n",
       "      <td>new</td>\n",
       "      <td>5.25</td>\n",
       "      <td>yes</td>\n",
       "      <td>French</td>\n",
       "    </tr>\n",
       "    <tr>\n",
       "      <th>8</th>\n",
       "      <td>546461</td>\n",
       "      <td>treatment</td>\n",
       "      <td>new</td>\n",
       "      <td>10.71</td>\n",
       "      <td>yes</td>\n",
       "      <td>French</td>\n",
       "    </tr>\n",
       "  </tbody>\n",
       "</table>\n",
       "</div>\n",
       "    <div class=\"colab-df-buttons\">\n",
       "\n",
       "  <div class=\"colab-df-container\">\n",
       "    <button class=\"colab-df-convert\" onclick=\"convertToInteractive('df-c5c07ac3-7a94-4d35-a094-9c97a2df8f04')\"\n",
       "            title=\"Convert this dataframe to an interactive table.\"\n",
       "            style=\"display:none;\">\n",
       "\n",
       "  <svg xmlns=\"http://www.w3.org/2000/svg\" height=\"24px\" viewBox=\"0 -960 960 960\">\n",
       "    <path d=\"M120-120v-720h720v720H120Zm60-500h600v-160H180v160Zm220 220h160v-160H400v160Zm0 220h160v-160H400v160ZM180-400h160v-160H180v160Zm440 0h160v-160H620v160ZM180-180h160v-160H180v160Zm440 0h160v-160H620v160Z\"/>\n",
       "  </svg>\n",
       "    </button>\n",
       "\n",
       "  <style>\n",
       "    .colab-df-container {\n",
       "      display:flex;\n",
       "      gap: 12px;\n",
       "    }\n",
       "\n",
       "    .colab-df-convert {\n",
       "      background-color: #E8F0FE;\n",
       "      border: none;\n",
       "      border-radius: 50%;\n",
       "      cursor: pointer;\n",
       "      display: none;\n",
       "      fill: #1967D2;\n",
       "      height: 32px;\n",
       "      padding: 0 0 0 0;\n",
       "      width: 32px;\n",
       "    }\n",
       "\n",
       "    .colab-df-convert:hover {\n",
       "      background-color: #E2EBFA;\n",
       "      box-shadow: 0px 1px 2px rgba(60, 64, 67, 0.3), 0px 1px 3px 1px rgba(60, 64, 67, 0.15);\n",
       "      fill: #174EA6;\n",
       "    }\n",
       "\n",
       "    .colab-df-buttons div {\n",
       "      margin-bottom: 4px;\n",
       "    }\n",
       "\n",
       "    [theme=dark] .colab-df-convert {\n",
       "      background-color: #3B4455;\n",
       "      fill: #D2E3FC;\n",
       "    }\n",
       "\n",
       "    [theme=dark] .colab-df-convert:hover {\n",
       "      background-color: #434B5C;\n",
       "      box-shadow: 0px 1px 3px 1px rgba(0, 0, 0, 0.15);\n",
       "      filter: drop-shadow(0px 1px 2px rgba(0, 0, 0, 0.3));\n",
       "      fill: #FFFFFF;\n",
       "    }\n",
       "  </style>\n",
       "\n",
       "    <script>\n",
       "      const buttonEl =\n",
       "        document.querySelector('#df-c5c07ac3-7a94-4d35-a094-9c97a2df8f04 button.colab-df-convert');\n",
       "      buttonEl.style.display =\n",
       "        google.colab.kernel.accessAllowed ? 'block' : 'none';\n",
       "\n",
       "      async function convertToInteractive(key) {\n",
       "        const element = document.querySelector('#df-c5c07ac3-7a94-4d35-a094-9c97a2df8f04');\n",
       "        const dataTable =\n",
       "          await google.colab.kernel.invokeFunction('convertToInteractive',\n",
       "                                                    [key], {});\n",
       "        if (!dataTable) return;\n",
       "\n",
       "        const docLinkHtml = 'Like what you see? Visit the ' +\n",
       "          '<a target=\"_blank\" href=https://colab.research.google.com/notebooks/data_table.ipynb>data table notebook</a>'\n",
       "          + ' to learn more about interactive tables.';\n",
       "        element.innerHTML = '';\n",
       "        dataTable['output_type'] = 'display_data';\n",
       "        await google.colab.output.renderOutput(dataTable, element);\n",
       "        const docLink = document.createElement('div');\n",
       "        docLink.innerHTML = docLinkHtml;\n",
       "        element.appendChild(docLink);\n",
       "      }\n",
       "    </script>\n",
       "  </div>\n",
       "\n",
       "\n",
       "<div id=\"df-230c2dd2-cbfc-4ace-9ddb-3ebb39bf3a6a\">\n",
       "  <button class=\"colab-df-quickchart\" onclick=\"quickchart('df-230c2dd2-cbfc-4ace-9ddb-3ebb39bf3a6a')\"\n",
       "            title=\"Suggest charts\"\n",
       "            style=\"display:none;\">\n",
       "\n",
       "<svg xmlns=\"http://www.w3.org/2000/svg\" height=\"24px\"viewBox=\"0 0 24 24\"\n",
       "     width=\"24px\">\n",
       "    <g>\n",
       "        <path d=\"M19 3H5c-1.1 0-2 .9-2 2v14c0 1.1.9 2 2 2h14c1.1 0 2-.9 2-2V5c0-1.1-.9-2-2-2zM9 17H7v-7h2v7zm4 0h-2V7h2v10zm4 0h-2v-4h2v4z\"/>\n",
       "    </g>\n",
       "</svg>\n",
       "  </button>\n",
       "\n",
       "<style>\n",
       "  .colab-df-quickchart {\n",
       "      --bg-color: #E8F0FE;\n",
       "      --fill-color: #1967D2;\n",
       "      --hover-bg-color: #E2EBFA;\n",
       "      --hover-fill-color: #174EA6;\n",
       "      --disabled-fill-color: #AAA;\n",
       "      --disabled-bg-color: #DDD;\n",
       "  }\n",
       "\n",
       "  [theme=dark] .colab-df-quickchart {\n",
       "      --bg-color: #3B4455;\n",
       "      --fill-color: #D2E3FC;\n",
       "      --hover-bg-color: #434B5C;\n",
       "      --hover-fill-color: #FFFFFF;\n",
       "      --disabled-bg-color: #3B4455;\n",
       "      --disabled-fill-color: #666;\n",
       "  }\n",
       "\n",
       "  .colab-df-quickchart {\n",
       "    background-color: var(--bg-color);\n",
       "    border: none;\n",
       "    border-radius: 50%;\n",
       "    cursor: pointer;\n",
       "    display: none;\n",
       "    fill: var(--fill-color);\n",
       "    height: 32px;\n",
       "    padding: 0;\n",
       "    width: 32px;\n",
       "  }\n",
       "\n",
       "  .colab-df-quickchart:hover {\n",
       "    background-color: var(--hover-bg-color);\n",
       "    box-shadow: 0 1px 2px rgba(60, 64, 67, 0.3), 0 1px 3px 1px rgba(60, 64, 67, 0.15);\n",
       "    fill: var(--button-hover-fill-color);\n",
       "  }\n",
       "\n",
       "  .colab-df-quickchart-complete:disabled,\n",
       "  .colab-df-quickchart-complete:disabled:hover {\n",
       "    background-color: var(--disabled-bg-color);\n",
       "    fill: var(--disabled-fill-color);\n",
       "    box-shadow: none;\n",
       "  }\n",
       "\n",
       "  .colab-df-spinner {\n",
       "    border: 2px solid var(--fill-color);\n",
       "    border-color: transparent;\n",
       "    border-bottom-color: var(--fill-color);\n",
       "    animation:\n",
       "      spin 1s steps(1) infinite;\n",
       "  }\n",
       "\n",
       "  @keyframes spin {\n",
       "    0% {\n",
       "      border-color: transparent;\n",
       "      border-bottom-color: var(--fill-color);\n",
       "      border-left-color: var(--fill-color);\n",
       "    }\n",
       "    20% {\n",
       "      border-color: transparent;\n",
       "      border-left-color: var(--fill-color);\n",
       "      border-top-color: var(--fill-color);\n",
       "    }\n",
       "    30% {\n",
       "      border-color: transparent;\n",
       "      border-left-color: var(--fill-color);\n",
       "      border-top-color: var(--fill-color);\n",
       "      border-right-color: var(--fill-color);\n",
       "    }\n",
       "    40% {\n",
       "      border-color: transparent;\n",
       "      border-right-color: var(--fill-color);\n",
       "      border-top-color: var(--fill-color);\n",
       "    }\n",
       "    60% {\n",
       "      border-color: transparent;\n",
       "      border-right-color: var(--fill-color);\n",
       "    }\n",
       "    80% {\n",
       "      border-color: transparent;\n",
       "      border-right-color: var(--fill-color);\n",
       "      border-bottom-color: var(--fill-color);\n",
       "    }\n",
       "    90% {\n",
       "      border-color: transparent;\n",
       "      border-bottom-color: var(--fill-color);\n",
       "    }\n",
       "  }\n",
       "</style>\n",
       "\n",
       "  <script>\n",
       "    async function quickchart(key) {\n",
       "      const quickchartButtonEl =\n",
       "        document.querySelector('#' + key + ' button');\n",
       "      quickchartButtonEl.disabled = true;  // To prevent multiple clicks.\n",
       "      quickchartButtonEl.classList.add('colab-df-spinner');\n",
       "      try {\n",
       "        const charts = await google.colab.kernel.invokeFunction(\n",
       "            'suggestCharts', [key], {});\n",
       "      } catch (error) {\n",
       "        console.error('Error during call to suggestCharts:', error);\n",
       "      }\n",
       "      quickchartButtonEl.classList.remove('colab-df-spinner');\n",
       "      quickchartButtonEl.classList.add('colab-df-quickchart-complete');\n",
       "    }\n",
       "    (() => {\n",
       "      let quickchartButtonEl =\n",
       "        document.querySelector('#df-230c2dd2-cbfc-4ace-9ddb-3ebb39bf3a6a button');\n",
       "      quickchartButtonEl.style.display =\n",
       "        google.colab.kernel.accessAllowed ? 'block' : 'none';\n",
       "    })();\n",
       "  </script>\n",
       "</div>\n",
       "\n",
       "    </div>\n",
       "  </div>\n"
      ],
      "text/plain": [
       "   user_id      group landing_page  time_spent_on_the_page converted  \\\n",
       "1   546468  treatment          new                    7.13       yes   \n",
       "2   546462  treatment          new                    4.40        no   \n",
       "4   546459  treatment          new                    4.75       yes   \n",
       "6   546448  treatment          new                    5.25       yes   \n",
       "8   546461  treatment          new                   10.71       yes   \n",
       "\n",
       "  language_preferred  \n",
       "1            English  \n",
       "2            Spanish  \n",
       "4            Spanish  \n",
       "6             French  \n",
       "8             French  "
      ]
     },
     "execution_count": 46,
     "metadata": {},
     "output_type": "execute_result"
    }
   ],
   "source": [
    "# Filter data to a new DataFrame for users who got served the new page\n",
    "df_newpg = dfnews[dfnews['landing_page'] == 'new']\n",
    "df_newpg.head()\n"
   ]
  },
  {
   "cell_type": "code",
   "execution_count": null,
   "id": "G-oGedJSxysj",
   "metadata": {
    "colab": {
     "base_uri": "https://localhost:8080/",
     "height": 718
    },
    "id": "G-oGedJSxysj",
    "outputId": "f9ccfd7f-f796-4c50-da1f-937e8d32a086"
   },
   "outputs": [
    {
     "data": {
      "image/png": "[encoded data removed]",
      "text/plain": [
       "<Figure size 800x800 with 1 Axes>"
      ]
     },
     "metadata": {},
     "output_type": "display_data"
    }
   ],
   "source": [
    "#Set colour pallete\n",
    "palette=\"bright\"\n",
    "\n",
    "#Create the boxplot\n",
    "plt.figure(figsize=(8,8))\n",
    "sns.boxplot(x='language_preferred', y='time_spent_on_the_page', showmeans=True, data=df_newpg, palette=palette, hue='language_preferred')\n",
    "\n",
    "#Add labels and title\n",
    "plt.xlabel('Language Preferred')\n",
    "plt.title('Time Spent on the New Page by Language')\n",
    "plt.ylabel('Time Spent on the New Page')\n",
    "plt.show()"
   ]
  },
  {
   "cell_type": "code",
   "execution_count": null,
   "id": "a4o3V2bF3wp3",
   "metadata": {
    "colab": {
     "base_uri": "https://localhost:8080/"
    },
    "id": "a4o3V2bF3wp3",
    "outputId": "42888235-9c62-4550-f8c1-b0787e72eed3"
   },
   "outputs": [
    {
     "data": {
      "text/plain": [
       "language_preferred\n",
       "English    5.559062\n",
       "French     5.253235\n",
       "Spanish    5.331765\n",
       "Name: time_spent_on_the_page, dtype: float64"
      ]
     },
     "execution_count": 29,
     "metadata": {},
     "output_type": "execute_result"
    }
   ],
   "source": [
    "#Calculate the means for different languages\n",
    "dfnews.groupby('language_preferred')['time_spent_on_the_page'].mean()"
   ]
  },
  {
   "cell_type": "markdown",
   "id": "VGdcGhJt20N7",
   "metadata": {
    "id": "VGdcGhJt20N7"
   },
   "source": [
    "From the Boxplot and the calculations of the means above, its clear the means for the different languages, English, Spanish and French are close to each other at ~5.6,5.3 and 5.3 respectively."
   ]
  },
  {
   "cell_type": "markdown",
   "id": "Ml4scaJW56Bp",
   "metadata": {
    "id": "Ml4scaJW56Bp"
   },
   "source": [
    "### Step 1: Define the Null and alternate hypotheses"
   ]
  },
  {
   "cell_type": "markdown",
   "id": "nn1X9pSb6qqP",
   "metadata": {
    "id": "nn1X9pSb6qqP"
   },
   "source": [
    "Assume  μ1,μ2,μ3  are the means of time spent on the page for users who prefer English, French and Spanish respectively.\n",
    "\n",
    "Null hypothesis:\n",
    "\n",
    "H0:μ1=μ2=μ3\n",
    "\n",
    "Alternative hypothesis\n",
    "\n",
    "Ha:  The means for time spent on the page for users preferring different languages are different."
   ]
  },
  {
   "cell_type": "markdown",
   "id": "AprW-ks07cpR",
   "metadata": {
    "id": "AprW-ks07cpR"
   },
   "source": [
    "### Step 2: Select Appropriate Test"
   ]
  },
  {
   "cell_type": "markdown",
   "id": "6MLpWAmm7olL",
   "metadata": {
    "id": "6MLpWAmm7olL"
   },
   "source": [
    "The problem concerns three population means. **one way ANNOVA F-Test** will be used to compare the three population means subject to fulfilling the conditions below.\n",
    "\n",
    "1. We will use the **Shapiro-Wilk's test** to check if the 'time_spent_on_the_page' variable follows a normal distribution\n",
    "\n",
    "2. We shall use the **Levene's test** to check the homogeneity of variances."
   ]
  },
  {
   "cell_type": "markdown",
   "id": "HLrKzfm_8Wcd",
   "metadata": {
    "id": "HLrKzfm_8Wcd"
   },
   "source": [
    "### Shapiro Wilk's Test\n",
    "\n",
    "We test the Null hypotheses\n",
    "\n",
    ">$H_0:$ Time spent on the page has a normal distribution\n",
    "\n",
    "against the alternative hypothesis\n",
    "\n",
    ">$H_a:$ Time spent on the page does not have a normal distribution\n"
   ]
  },
  {
   "cell_type": "code",
   "execution_count": null,
   "id": "MrpeO-1h82M2",
   "metadata": {
    "colab": {
     "base_uri": "https://localhost:8080/"
    },
    "id": "MrpeO-1h82M2",
    "outputId": "c942c1c4-c248-401d-cc11-df026fd3a0df"
   },
   "outputs": [
    {
     "name": "stdout",
     "output_type": "stream",
     "text": [
      "The p-value is 0.5643193125724792\n"
     ]
    }
   ],
   "source": [
    "# Testing of Assumption 1: Normality\n",
    "# import the required function from scipy\n",
    "from scipy import stats\n",
    "\n",
    "# find the p-value\n",
    "w, p_value = stats.shapiro(dfnews['time_spent_on_the_page'])\n",
    "print('The p-value is', p_value)"
   ]
  },
  {
   "cell_type": "markdown",
   "id": "0OpHrRx79FC-",
   "metadata": {
    "id": "0OpHrRx79FC-"
   },
   "source": [
    "The p-values is large, we fail to reject the null hypotheses."
   ]
  },
  {
   "cell_type": "markdown",
   "id": "2yRDYwF19TrJ",
   "metadata": {
    "id": "2yRDYwF19TrJ"
   },
   "source": [
    "### Levene’s test"
   ]
  },
  {
   "cell_type": "markdown",
   "id": "a8U6aGxv9aV7",
   "metadata": {
    "id": "a8U6aGxv9aV7"
   },
   "source": [
    "We test the null hypothesis\n",
    "\n",
    "H0 : All the population variances are equal\n",
    "\n",
    "against the alternative hypothesis\n",
    "\n",
    "Ha : At least one variance is different"
   ]
  },
  {
   "cell_type": "code",
   "execution_count": null,
   "id": "gkBrt9ky9pVK",
   "metadata": {
    "colab": {
     "base_uri": "https://localhost:8080/"
    },
    "id": "gkBrt9ky9pVK",
    "outputId": "173a56dc-fa1f-48d3-d5f2-06b1b97dfcb7"
   },
   "outputs": [
    {
     "name": "stdout",
     "output_type": "stream",
     "text": [
      "The p-value is 0.06515086840327314\n"
     ]
    }
   ],
   "source": [
    "#We test Assumption 2: Homogeneity of Variance\n",
    "#import the required function from scipy\n",
    "from scipy.stats import levene\n",
    "statistic, p_value = levene( dfnews['time_spent_on_the_page'][dfnews['language_preferred']==\"English\"],\n",
    "                                   dfnews['time_spent_on_the_page'][dfnews['language_preferred']==\"French\"],\n",
    "                                   dfnews['time_spent_on_the_page'][dfnews['language_preferred']==\"Spanish\"])\n",
    "# find the p-value\n",
    "print('The p-value is', p_value)"
   ]
  },
  {
   "cell_type": "markdown",
   "id": "dc344iEM-l-7",
   "metadata": {
    "id": "dc344iEM-l-7"
   },
   "source": [
    "The p-value is large. We fail to reject the null hypotheses.\n",
    "All the conditions for chi test are satisfied including\n",
    "1. Homogeneity of variance.\n",
    "2. Samples were randomly selected.\n",
    "3. The population are normally distributed."
   ]
  },
  {
   "cell_type": "markdown",
   "id": "ZpLeG74F_Zjq",
   "metadata": {
    "id": "ZpLeG74F_Zjq"
   },
   "source": [
    "### Step 3: Decide the Significance level"
   ]
  },
  {
   "cell_type": "markdown",
   "id": "I5A_A6wF_kP6",
   "metadata": {
    "id": "I5A_A6wF_kP6"
   },
   "source": [
    "As guided in the problem statement, we shall use α = 0.05."
   ]
  },
  {
   "cell_type": "markdown",
   "id": "cNT6oV3B_tS-",
   "metadata": {
    "id": "cNT6oV3B_tS-"
   },
   "source": [
    "### Step 4: Collect and prepare data"
   ]
  },
  {
   "cell_type": "code",
   "execution_count": null,
   "id": "knM_TJdK_zXL",
   "metadata": {
    "id": "knM_TJdK_zXL"
   },
   "outputs": [],
   "source": [
    "# create a subsetted data frame of the time spent on the new page by English language users\n",
    "time_spent_newpg_English = dfnews[dfnews['language_preferred']==\"English\"]['time_spent_on_the_page']\n",
    "time_spent_newpg_French = dfnews[dfnews['language_preferred']==\"French\"]['time_spent_on_the_page']\n",
    "time_spent_newpg_Spanish = dfnews[dfnews['language_preferred']==\"Spanish\"]['time_spent_on_the_page']\n"
   ]
  },
  {
   "cell_type": "code",
   "execution_count": null,
   "id": "DJG3fDkiBBEC",
   "metadata": {
    "colab": {
     "base_uri": "https://localhost:8080/"
    },
    "id": "DJG3fDkiBBEC",
    "outputId": "32f93eb6-8c41-41aa-dd6a-e6a48511427f"
   },
   "outputs": [
    {
     "name": "stdout",
     "output_type": "stream",
     "text": [
      "The p-value is 0.8665610536012648\n"
     ]
    }
   ],
   "source": [
    "#Import the required function from scipy\n",
    "from scipy.stats import f_oneway\n",
    "\n",
    "#Calculate p-value\n",
    "test_stat, p_value = f_oneway(time_spent_newpg_English, time_spent_newpg_French, time_spent_newpg_Spanish)\n",
    "\n",
    "print('The p-value is', p_value)"
   ]
  },
  {
   "cell_type": "markdown",
   "id": "P3sIU8F2Cl5f",
   "metadata": {
    "id": "P3sIU8F2Cl5f"
   },
   "source": [
    "### Step 6: Compare the p-value with  α"
   ]
  },
  {
   "cell_type": "markdown",
   "id": "nIOOoiFNCt5s",
   "metadata": {
    "id": "nIOOoiFNCt5s"
   },
   "source": [
    "The p-value is greater than level of significance of 0.05. We fail to reject the null hypotheses"
   ]
  },
  {
   "cell_type": "markdown",
   "id": "8dXobGcoj7S3",
   "metadata": {
    "id": "8dXobGcoj7S3"
   },
   "source": [
    "### Step 7: Inferences"
   ]
  },
  {
   "cell_type": "markdown",
   "id": "6YATQmsekB_A",
   "metadata": {
    "id": "6YATQmsekB_A"
   },
   "source": [
    "The p-value (~0.867) is greater than the level of significance ( α=0.05 ), we fail to reject the null hypothesis. We therefore infer that there is not enough evidence to suggest the mean time spent on the new page is different for at least one language user. The data suggests that the mean time spent on the new page is the same for all language users."
   ]
  },
  {
   "cell_type": "markdown",
   "id": "3acbc947",
   "metadata": {
    "id": "3acbc947"
   },
   "source": [
    "## Conclusion and Business Recommendations"
   ]
  },
  {
   "cell_type": "markdown",
   "id": "21fb1063",
   "metadata": {
    "id": "21fb1063"
   },
   "source": [
    "### Conclusions"
   ]
  },
  {
   "cell_type": "markdown",
   "id": "U0dAd4i0iCHo",
   "metadata": {
    "id": "U0dAd4i0iCHo"
   },
   "source": [
    "___"
   ]
  },
  {
   "cell_type": "markdown",
   "id": "nU_s2EXI02U-",
   "metadata": {
    "id": "nU_s2EXI02U-"
   },
   "source": [
    "100 users were randomly selected and divided equally into two groups. The existing landing page was served to the first group (control group) and the new landing page to the second group (treatment group). After analysis the sample data we observed the following\n",
    "\n",
    "1. Time_spent_on_the_page has a mean of time_spent_on_the_page and a standard deviation of 2.378\n",
    "\n",
    "2. Time_spent_on_the_page has a minimum of 0.19 and a maximum of 10.71. Meaning that the user that spent the least time on the page spent 0.19 minutes while the one spending most time was there for 10.71 minutes\n",
    "\n",
    "3. In the numerical variable, 'time_spent_on_the_page', the mean is close to the median (50th percentile) suggesting that the data is approximately normally distributed or symmetrically distributed.\n",
    "\n",
    "4. The IQR (the difference between the 75th and 25th percentile values) is between 3.88 and 7.02. Assuming it is a normal distribution, approximately 68% of the data falls within one standard deviation of the mean.\n",
    "5. Spanish and French language are marginaly higher in preference compared each at 34% to English at 32%. However users are evenly distributed across the 3 languages\n",
    "6. The median for the tome spent on the \"old\" landing page is slightly lower ~4.5 minutes compared to that of the \"new\" landing page which is ~6.2 minutes\n",
    "7. The 75th percentile of time spent on the new was around 7 minutes, meaning that 75% of users spent less than 7 minutes on the landing pages.\n",
    "\n",
    "8. The median time spent on page in minutes for the converted group is higher ~6.5 compared to the not converted group at ~4 minutes. This implies that the new page is possibly better than the old page.\n",
    "\n",
    "9. Regarding the question whether \"users spend more time on the new landing page than the existing landing page.\" The p-value (~0.00013) is much less than the level of significance ( α=0.05 ). We reject the null hypothesis. We therefore have enough evidence to support the claim that users spend more time on the new landing page than the old landing page.\n",
    "\n",
    "10. On the question whether the \"conversion rate (the proportion of users who visit the landing page and get converted) for the new page greater than the conversion rate for the old page.\" The p-Value is less that 0.05, the level of significance. We therefore reject the hypothesis since we do not have sufficient evidence that the conversion for the group on the new page is less than that of the old page.\n",
    "\n",
    "11.  Regarding whether \"the conversion and preferred language are independent or related?\" Since the p-value (~0.21) is greater than the level of significance ($\\alpha = 0.05$) we fail to reject the null hypothesis**. We not not have enough evidence to suggest a relationship between the conversion and preferred language variables.  The conversion status and preferred language are independent of each other.\n",
    "\n",
    "12. About the question on whether \"the time spent on the new page same for the different language users?\" Since the p-value (~0.43) is greater than the level of significance ($\\alpha = 0.05$), we **fail to reject the null hypothesis**. Hence, we can conclude that there is not enough evidence to suggest the mean time spent on the new page is different for at least one language user. The data suggests that the mean time spent on the new page is the same for all language users.\n",
    "\n",
    "\n",
    "Business Recommendations\n",
    "\n",
    "Recomendations on the new landing page:--\n",
    "\n",
    "It was confirmed thata the new landing page attracts users to spend more time on the page and the conversion rate is greater than before. It is therefore recommended that the new page be implemented.\n",
    "\n",
    "User experience:--\n",
    "\n",
    "Consider improving the overall user experience on the landing page, including page load speed, browser optimization, develop mobile device friendly pages, improve ease of navigation, and readability of content. This may help improve user engagement and conversion rates.\n",
    "\n",
    "Language strategies:--\n",
    "\n",
    "It was observed that language has no significant bearing on the time spent on the page and the conversion rate. Therefore, there may not be a need to utilise time to develop language-specific pages or marketing campaigns. It is however recommended that tuser preferences be monitored and adjusted  as needed.\n",
    "\n",
    "Monitoring and analyzing user behavior:--\n",
    "\n",
    "The data suggested that conversion is not dependent on whether a user accesses the new or the old page. It is therefore recommened that we continue to monitor the time spent on the page and the conversion rate to identify any changes or trends that may arise over time. It is also important that further studies be conducted to determine other factors that influence conversion rates and time spent on the page, such as user demographics (age, sex etc), interests, level of education, browsers used, devices used to acces the pages or other aspects of the user experience. Obtaining user feedback on the new landing page is also crutial to provide valuable insights into what users like and dislike about the new page, and can help identify areas for improvement.\n"
   ]
  },
  {
   "cell_type": "markdown",
   "id": "uh0Pn9CcB0vj",
   "metadata": {
    "id": "uh0Pn9CcB0vj"
   },
   "source": []
  }
 ],
 "metadata": {
  "colab": {
   "collapsed_sections": [
    "56b3dafd",
    "c7ee4907",
    "f5c5258d",
    "359b12f8"
   ],
   "provenance": []
  },
  "kernelspec": {
   "display_name": "Python 3 (ipykernel)",
   "language": "python",
   "name": "python3"
  },
  "language_info": {
   "codemirror_mode": {
    "name": "ipython",
    "version": 3
   },
   "file_extension": ".py",
   "mimetype": "text/x-python",
   "name": "python",
   "nbconvert_exporter": "python",
   "pygments_lexer": "ipython3",
   "version": "3.11.7"
  }
 },
 "nbformat": 4,
 "nbformat_minor": 5
}
